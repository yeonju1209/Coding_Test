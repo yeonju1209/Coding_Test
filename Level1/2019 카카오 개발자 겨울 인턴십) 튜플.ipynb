{
 "cells": [
  {
   "cell_type": "markdown",
   "metadata": {},
   "source": [
    "## [2019 카카오 개발자 겨울 인턴십> 튜플](https://programmers.co.kr/learn/courses/30/lessons/64065?language=python3)\n"
   ]
  },
  {
   "cell_type": "code",
   "execution_count": 55,
   "metadata": {},
   "outputs": [],
   "source": [
    "import re\n",
    "\n",
    "def solution(s):\n",
    "    sets = []\n",
    "    result = []\n",
    "    pre = []\n",
    "    \n",
    "    for i in re.findall(r'{((\\d,?)+)}',s):\n",
    "        sets.append(i[0].split(','))\n",
    "    print(sets)\n",
    "    \n",
    "    for i in range(1,1+len(sets)):\n",
    "        for s in sets:\n",
    "            if len(s)==i:\n",
    "                result.append(int(list(set(s) - set(pre))[0]))\n",
    "                pre = s\n",
    "    return result"
   ]
  },
  {
   "cell_type": "code",
   "execution_count": 56,
   "metadata": {},
   "outputs": [
    {
     "name": "stdout",
     "output_type": "stream",
     "text": [
      "[['1', '2', '3'], ['2', '1'], ['1', '2', '4', '3'], ['2']]\n"
     ]
    },
    {
     "data": {
      "text/plain": [
       "[2, 1, 3, 4]"
      ]
     },
     "execution_count": 56,
     "metadata": {},
     "output_type": "execute_result"
    }
   ],
   "source": [
    "s = \"{{1,2,3},{2,1},{1,2,4,3},{2}}\"\n",
    "solution(s)"
   ]
  },
  {
   "cell_type": "code",
   "execution_count": null,
   "metadata": {},
   "outputs": [],
   "source": [
    "# set 함수 사용!!!\n",
    "# 1.중복 제거\n",
    "# 2.차집합 구할 수 있음"
   ]
  }
 ],
 "metadata": {
  "kernelspec": {
   "display_name": "Python 3",
   "language": "python",
   "name": "python3"
  },
  "language_info": {
   "codemirror_mode": {
    "name": "ipython",
    "version": 3
   },
   "file_extension": ".py",
   "mimetype": "text/x-python",
   "name": "python",
   "nbconvert_exporter": "python",
   "pygments_lexer": "ipython3",
   "version": "3.7.7"
  }
 },
 "nbformat": 4,
 "nbformat_minor": 4
}
