{
 "cells": [
  {
   "cell_type": "markdown",
   "metadata": {},
   "source": [
    "## [코딩테스트 연습 > 2021 KAKAO BLIND RECRUITMENT > 신규 아이디 추천](https://programmers.co.kr/learn/courses/30/lessons/72410)"
   ]
  },
  {
   "cell_type": "code",
   "execution_count": 1,
   "metadata": {},
   "outputs": [],
   "source": [
    "import re\n",
    "\n",
    "def solution(new_id):\n",
    "    #1\n",
    "    new_id = new_id.lower()\n",
    "\n",
    "    #2\n",
    "    string = ''\n",
    "    for i in re.findall(r'[a-z0-9-_.]+',new_id):\n",
    "        string += i\n",
    "    new_id = string\n",
    "\n",
    "    #3\n",
    "    while True:\n",
    "        if re.search(r'[.]{2,}',new_id) is not None:\n",
    "            span = re.search(r'[.]{2,}',new_id).span()\n",
    "        else:\n",
    "            break\n",
    "        new_id = new_id[:span[0]]+'.'+new_id[span[1]:]\n",
    "\n",
    "    #4\n",
    "    if len(new_id)!=0 and new_id[0]=='.':\n",
    "        new_id = new_id[1:]\n",
    "    if len(new_id)!=0 and new_id[-1]=='.':\n",
    "        new_id = new_id[:-1]\n",
    "\n",
    "    #5\n",
    "    if len(new_id)==0:\n",
    "        new_id = 'a'\n",
    "\n",
    "    #6\n",
    "    if len(new_id)>=16:\n",
    "        new_id = new_id[:15]\n",
    "\n",
    "    if len(new_id)!=0 and new_id[-1]=='.':\n",
    "        new_id = new_id[:-1]\n",
    "\n",
    "    #7\n",
    "    if len(new_id)<=2:\n",
    "        while len(new_id)<3:\n",
    "            new_id +=new_id[-1]\n",
    "    \n",
    "    return new_id"
   ]
  },
  {
   "cell_type": "code",
   "execution_count": 2,
   "metadata": {},
   "outputs": [
    {
     "data": {
      "text/plain": [
       "'bat.y.abcdefghi'"
      ]
     },
     "execution_count": 2,
     "metadata": {},
     "output_type": "execute_result"
    }
   ],
   "source": [
    "solution(\"...!@BaT#*..y.abcdefghijklm\")"
   ]
  },
  {
   "cell_type": "code",
   "execution_count": null,
   "metadata": {},
   "outputs": [],
   "source": []
  },
  {
   "cell_type": "code",
   "execution_count": null,
   "metadata": {},
   "outputs": [],
   "source": [
    "def solution(new_id):\n",
    "    st = new_id\n",
    "    st = st.lower()\n",
    "    st = re.sub('[^a-z0-9\\-_.]', '', st)\n",
    "    st = re.sub('\\.+', '.', st)\n",
    "    st = re.sub('^[.]|[.]$', '', st)\n",
    "    st = 'a' if len(st) == 0 else st[:15]\n",
    "    st = re.sub('^[.]|[.]$', '', st)\n",
    "    st = st if len(st) > 2 else st + \"\".join([st[-1] for i in range(3-len(st))])\n",
    "    return st"
   ]
  }
 ],
 "metadata": {
  "kernelspec": {
   "display_name": "Python 3",
   "language": "python",
   "name": "python3"
  },
  "language_info": {
   "codemirror_mode": {
    "name": "ipython",
    "version": 3
   },
   "file_extension": ".py",
   "mimetype": "text/x-python",
   "name": "python",
   "nbconvert_exporter": "python",
   "pygments_lexer": "ipython3",
   "version": "3.7.7"
  }
 },
 "nbformat": 4,
 "nbformat_minor": 4
}
