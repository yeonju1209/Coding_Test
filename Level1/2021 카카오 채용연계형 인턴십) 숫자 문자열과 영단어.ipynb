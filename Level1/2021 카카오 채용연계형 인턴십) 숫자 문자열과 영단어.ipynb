{
 "cells": [
  {
   "cell_type": "markdown",
   "metadata": {},
   "source": [
    "## [2021 카카오 채용연계형 인턴십> 숫자 문자열과 영단어](https://programmers.co.kr/learn/courses/30/lessons/81301?language=python3)"
   ]
  },
  {
   "cell_type": "code",
   "execution_count": 61,
   "metadata": {},
   "outputs": [],
   "source": [
    "import re\n",
    "def solution(s):\n",
    "    dic = {'zero':0, 'one':1, 'two':2, 'three':3, 'four':4, 'five':5,\n",
    "          'six':6, 'seven':7, 'eight':8, 'nine':9}\n",
    "    p = re.compile(r'zero|one|two|three|four|five|six|seven|eight|nine|\\d')\n",
    "\n",
    "    answer = ''\n",
    "    for i in p.findall(s):\n",
    "        if i in dic:\n",
    "            answer+=str(dic[i])\n",
    "        else:\n",
    "            answer+=i\n",
    "    \n",
    "    return int(answer)"
   ]
  },
  {
   "cell_type": "code",
   "execution_count": 62,
   "metadata": {},
   "outputs": [
    {
     "data": {
      "text/plain": [
       "1478"
      ]
     },
     "execution_count": 62,
     "metadata": {},
     "output_type": "execute_result"
    }
   ],
   "source": [
    "s= \"one4seveneight\"\n",
    "solution(s)"
   ]
  },
  {
   "cell_type": "code",
   "execution_count": null,
   "metadata": {},
   "outputs": [],
   "source": []
  },
  {
   "cell_type": "code",
   "execution_count": 66,
   "metadata": {},
   "outputs": [],
   "source": [
    "# 다른 풀이\n",
    "\n",
    "num_dic = {\"zero\":\"0\", \"one\":\"1\", \"two\":\"2\", \"three\":\"3\", \"four\":\"4\", \"five\":\"5\",\n",
    "           \"six\":\"6\", \"seven\":\"7\", \"eight\":\"8\", \"nine\":\"9\"}\n",
    "\n",
    "def solution(s):\n",
    "    for key, value in num_dic.items():\n",
    "        s = s.replace(key, value)\n",
    "    return int(s)"
   ]
  }
 ],
 "metadata": {
  "kernelspec": {
   "display_name": "Python 3",
   "language": "python",
   "name": "python3"
  },
  "language_info": {
   "codemirror_mode": {
    "name": "ipython",
    "version": 3
   },
   "file_extension": ".py",
   "mimetype": "text/x-python",
   "name": "python",
   "nbconvert_exporter": "python",
   "pygments_lexer": "ipython3",
   "version": "3.8.5"
  }
 },
 "nbformat": 4,
 "nbformat_minor": 4
}
