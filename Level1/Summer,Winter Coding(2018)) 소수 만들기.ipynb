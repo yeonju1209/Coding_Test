{
 "cells": [
  {
   "cell_type": "markdown",
   "metadata": {},
   "source": [
    "## [Summer/Winter Coding(~2018)> 소수 만들기](https://programmers.co.kr/learn/courses/30/lessons/12977)"
   ]
  },
  {
   "cell_type": "code",
   "execution_count": null,
   "metadata": {},
   "outputs": [],
   "source": [
    "from itertools import combinations as com\n",
    "\n",
    "def solution(nums):\n",
    "    answer = 0\n",
    "    for i in (com(nums,3)):\n",
    "        sum_i = sum(i)\n",
    "        prime = True\n",
    "        for i in range(2,sum_i):\n",
    "            if sum_i%i==0:\n",
    "                prime = False\n",
    "                break\n",
    "\n",
    "        if prime:\n",
    "            answer+=1\n",
    "            \n",
    "    return answer"
   ]
  },
  {
   "cell_type": "code",
   "execution_count": null,
   "metadata": {},
   "outputs": [],
   "source": []
  },
  {
   "cell_type": "markdown",
   "metadata": {},
   "source": [
    "### 파이썬 for-else 문"
   ]
  },
  {
   "cell_type": "code",
   "execution_count": 11,
   "metadata": {},
   "outputs": [],
   "source": [
    "# 소수인지 판별하는 변수 필요 없음\n",
    "\n",
    "from itertools import combinations as com\n",
    "\n",
    "def solution(nums):\n",
    "    answer = 0\n",
    "    for i in (com(nums,3)):\n",
    "        sum_i = sum(i)\n",
    "        for i in range(2,sum_i):\n",
    "            if sum_i%i==0:\n",
    "                break\n",
    "\n",
    "        else:\n",
    "            answer+=1\n",
    "            \n",
    "    return answer"
   ]
  }
 ],
 "metadata": {
  "kernelspec": {
   "display_name": "Python 3",
   "language": "python",
   "name": "python3"
  },
  "language_info": {
   "codemirror_mode": {
    "name": "ipython",
    "version": 3
   },
   "file_extension": ".py",
   "mimetype": "text/x-python",
   "name": "python",
   "nbconvert_exporter": "python",
   "pygments_lexer": "ipython3",
   "version": "3.8.5"
  }
 },
 "nbformat": 4,
 "nbformat_minor": 4
}
