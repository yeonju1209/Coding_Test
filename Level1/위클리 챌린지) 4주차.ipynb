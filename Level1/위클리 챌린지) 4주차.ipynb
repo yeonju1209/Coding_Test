{
 "cells": [
  {
   "cell_type": "markdown",
   "metadata": {},
   "source": [
    "## [위클리 챌린지) 4주차](https://programmers.co.kr/learn/courses/30/lessons/84325)"
   ]
  },
  {
   "cell_type": "markdown",
   "metadata": {},
   "source": [
    "### 함수"
   ]
  },
  {
   "cell_type": "code",
   "execution_count": 1,
   "metadata": {},
   "outputs": [],
   "source": [
    "import pandas as pd\n",
    "\n",
    "def solution(table, languages, preference):\n",
    "    df = pd.DataFrame()\n",
    "    pref_dic = {}\n",
    "\n",
    "    for i in range(len(table)):\n",
    "        table[i] = table[i].split()\n",
    "        df[table[i][0]] = table[i][1:]\n",
    "    df.index = range(5,0,-1)\n",
    "    #정렬 완료\n",
    "    df = df[sorted(df.columns)]\n",
    "    \n",
    "    total_score = []\n",
    "    for kind in df:\n",
    "        score = 0\n",
    "        for idx in range(5,0,-1):\n",
    "            if df[kind].loc[idx] in languages:\n",
    "                score += idx * preference[languages.index(df[kind].loc[idx])]\n",
    "        total_score.append(score)\n",
    "    \n",
    "    dic_total_score = {}\n",
    "    for kind, score in zip(df.columns,total_score):\n",
    "        dic_total_score[kind] = score\n",
    "    \n",
    "    return sorted(dic_total_score.items(),key = lambda x:x[1],reverse = True)[0][0]\n"
   ]
  },
  {
   "cell_type": "code",
   "execution_count": 2,
   "metadata": {},
   "outputs": [
    {
     "data": {
      "text/plain": [
       "'HARDWARE'"
      ]
     },
     "execution_count": 2,
     "metadata": {},
     "output_type": "execute_result"
    }
   ],
   "source": [
    "table = [\"SI JAVA JAVASCRIPT SQL PYTHON C#\", \"CONTENTS JAVASCRIPT JAVA PYTHON SQL C++\",\n",
    "         \"HARDWARE C C++ PYTHON JAVA JAVASCRIPT\", \"PORTAL JAVA JAVASCRIPT PYTHON KOTLIN PHP\",\n",
    "         \"GAME C++ C# JAVASCRIPT C JAVA\"]\n",
    "languages = [\"PYTHON\", \"C++\", \"SQL\"]\n",
    "preference = [7,5,5]\n",
    "solution(table,languages,preference)"
   ]
  },
  {
   "cell_type": "code",
   "execution_count": null,
   "metadata": {},
   "outputs": [],
   "source": []
  },
  {
   "cell_type": "code",
   "execution_count": null,
   "metadata": {},
   "outputs": [],
   "source": []
  },
  {
   "cell_type": "code",
   "execution_count": 5,
   "metadata": {},
   "outputs": [],
   "source": [
    "import pandas as pd\n",
    "\n",
    "table = [\"SI JAVA JAVASCRIPT SQL PYTHON C#\", \"CONTENTS JAVASCRIPT JAVA PYTHON SQL C++\",\n",
    "         \"HARDWARE C C++ PYTHON JAVA JAVASCRIPT\", \"PORTAL JAVA JAVASCRIPT PYTHON KOTLIN PHP\",\n",
    "         \"GAME C++ C# JAVASCRIPT C JAVA\"]\n",
    "languages = [\"PYTHON\", \"C++\", \"SQL\"]\n",
    "preference = [7,5,5]\n",
    "\n",
    "\n",
    "df = pd.DataFrame()\n",
    "for i in range(len(table)):\n",
    "    table[i] = table[i].split()\n",
    "    df[table[i][0]] = table[i][1:]\n",
    "df.index = range(5,0,-1)"
   ]
  },
  {
   "cell_type": "code",
   "execution_count": 6,
   "metadata": {},
   "outputs": [
    {
     "data": {
      "text/html": [
       "<div>\n",
       "<style scoped>\n",
       "    .dataframe tbody tr th:only-of-type {\n",
       "        vertical-align: middle;\n",
       "    }\n",
       "\n",
       "    .dataframe tbody tr th {\n",
       "        vertical-align: top;\n",
       "    }\n",
       "\n",
       "    .dataframe thead th {\n",
       "        text-align: right;\n",
       "    }\n",
       "</style>\n",
       "<table border=\"1\" class=\"dataframe\">\n",
       "  <thead>\n",
       "    <tr style=\"text-align: right;\">\n",
       "      <th></th>\n",
       "      <th>SI</th>\n",
       "      <th>CONTENTS</th>\n",
       "      <th>HARDWARE</th>\n",
       "      <th>PORTAL</th>\n",
       "      <th>GAME</th>\n",
       "    </tr>\n",
       "  </thead>\n",
       "  <tbody>\n",
       "    <tr>\n",
       "      <th>5</th>\n",
       "      <td>JAVA</td>\n",
       "      <td>JAVASCRIPT</td>\n",
       "      <td>C</td>\n",
       "      <td>JAVA</td>\n",
       "      <td>C++</td>\n",
       "    </tr>\n",
       "    <tr>\n",
       "      <th>4</th>\n",
       "      <td>JAVASCRIPT</td>\n",
       "      <td>JAVA</td>\n",
       "      <td>C++</td>\n",
       "      <td>JAVASCRIPT</td>\n",
       "      <td>C#</td>\n",
       "    </tr>\n",
       "    <tr>\n",
       "      <th>3</th>\n",
       "      <td>SQL</td>\n",
       "      <td>PYTHON</td>\n",
       "      <td>PYTHON</td>\n",
       "      <td>PYTHON</td>\n",
       "      <td>JAVASCRIPT</td>\n",
       "    </tr>\n",
       "    <tr>\n",
       "      <th>2</th>\n",
       "      <td>PYTHON</td>\n",
       "      <td>SQL</td>\n",
       "      <td>JAVA</td>\n",
       "      <td>KOTLIN</td>\n",
       "      <td>C</td>\n",
       "    </tr>\n",
       "    <tr>\n",
       "      <th>1</th>\n",
       "      <td>C#</td>\n",
       "      <td>C++</td>\n",
       "      <td>JAVASCRIPT</td>\n",
       "      <td>PHP</td>\n",
       "      <td>JAVA</td>\n",
       "    </tr>\n",
       "  </tbody>\n",
       "</table>\n",
       "</div>"
      ],
      "text/plain": [
       "           SI    CONTENTS    HARDWARE      PORTAL        GAME\n",
       "5        JAVA  JAVASCRIPT           C        JAVA         C++\n",
       "4  JAVASCRIPT        JAVA         C++  JAVASCRIPT          C#\n",
       "3         SQL      PYTHON      PYTHON      PYTHON  JAVASCRIPT\n",
       "2      PYTHON         SQL        JAVA      KOTLIN           C\n",
       "1          C#         C++  JAVASCRIPT         PHP        JAVA"
      ]
     },
     "execution_count": 6,
     "metadata": {},
     "output_type": "execute_result"
    }
   ],
   "source": [
    "df"
   ]
  },
  {
   "cell_type": "code",
   "execution_count": 7,
   "metadata": {},
   "outputs": [
    {
     "name": "stdout",
     "output_type": "stream",
     "text": [
      "[29, 36, 41, 21, 25]\n"
     ]
    }
   ],
   "source": [
    "total_score = []\n",
    "for kind in df:\n",
    "    score = 0\n",
    "    for idx in range(5,0,-1):\n",
    "        if df[kind].loc[idx] in languages:\n",
    "            score += idx * preference[languages.index(df[kind].loc[idx])]\n",
    "    total_score.append(score)\n",
    "print(total_score)"
   ]
  },
  {
   "cell_type": "code",
   "execution_count": 8,
   "metadata": {
    "scrolled": true
   },
   "outputs": [
    {
     "data": {
      "text/html": [
       "<div>\n",
       "<style scoped>\n",
       "    .dataframe tbody tr th:only-of-type {\n",
       "        vertical-align: middle;\n",
       "    }\n",
       "\n",
       "    .dataframe tbody tr th {\n",
       "        vertical-align: top;\n",
       "    }\n",
       "\n",
       "    .dataframe thead th {\n",
       "        text-align: right;\n",
       "    }\n",
       "</style>\n",
       "<table border=\"1\" class=\"dataframe\">\n",
       "  <thead>\n",
       "    <tr style=\"text-align: right;\">\n",
       "      <th></th>\n",
       "      <th>SI</th>\n",
       "      <th>CONTENTS</th>\n",
       "      <th>HARDWARE</th>\n",
       "      <th>PORTAL</th>\n",
       "      <th>GAME</th>\n",
       "    </tr>\n",
       "  </thead>\n",
       "  <tbody>\n",
       "    <tr>\n",
       "      <th>5</th>\n",
       "      <td>JAVA</td>\n",
       "      <td>JAVASCRIPT</td>\n",
       "      <td>C</td>\n",
       "      <td>JAVA</td>\n",
       "      <td>C++</td>\n",
       "    </tr>\n",
       "    <tr>\n",
       "      <th>4</th>\n",
       "      <td>JAVASCRIPT</td>\n",
       "      <td>JAVA</td>\n",
       "      <td>C++</td>\n",
       "      <td>JAVASCRIPT</td>\n",
       "      <td>C#</td>\n",
       "    </tr>\n",
       "    <tr>\n",
       "      <th>3</th>\n",
       "      <td>SQL</td>\n",
       "      <td>PYTHON</td>\n",
       "      <td>PYTHON</td>\n",
       "      <td>PYTHON</td>\n",
       "      <td>JAVASCRIPT</td>\n",
       "    </tr>\n",
       "    <tr>\n",
       "      <th>2</th>\n",
       "      <td>PYTHON</td>\n",
       "      <td>SQL</td>\n",
       "      <td>JAVA</td>\n",
       "      <td>KOTLIN</td>\n",
       "      <td>C</td>\n",
       "    </tr>\n",
       "    <tr>\n",
       "      <th>1</th>\n",
       "      <td>C#</td>\n",
       "      <td>C++</td>\n",
       "      <td>JAVASCRIPT</td>\n",
       "      <td>PHP</td>\n",
       "      <td>JAVA</td>\n",
       "    </tr>\n",
       "  </tbody>\n",
       "</table>\n",
       "</div>"
      ],
      "text/plain": [
       "           SI    CONTENTS    HARDWARE      PORTAL        GAME\n",
       "5        JAVA  JAVASCRIPT           C        JAVA         C++\n",
       "4  JAVASCRIPT        JAVA         C++  JAVASCRIPT          C#\n",
       "3         SQL      PYTHON      PYTHON      PYTHON  JAVASCRIPT\n",
       "2      PYTHON         SQL        JAVA      KOTLIN           C\n",
       "1          C#         C++  JAVASCRIPT         PHP        JAVA"
      ]
     },
     "execution_count": 8,
     "metadata": {},
     "output_type": "execute_result"
    }
   ],
   "source": [
    "df"
   ]
  },
  {
   "cell_type": "code",
   "execution_count": 9,
   "metadata": {},
   "outputs": [
    {
     "data": {
      "text/html": [
       "<div>\n",
       "<style scoped>\n",
       "    .dataframe tbody tr th:only-of-type {\n",
       "        vertical-align: middle;\n",
       "    }\n",
       "\n",
       "    .dataframe tbody tr th {\n",
       "        vertical-align: top;\n",
       "    }\n",
       "\n",
       "    .dataframe thead th {\n",
       "        text-align: right;\n",
       "    }\n",
       "</style>\n",
       "<table border=\"1\" class=\"dataframe\">\n",
       "  <thead>\n",
       "    <tr style=\"text-align: right;\">\n",
       "      <th></th>\n",
       "      <th>CONTENTS</th>\n",
       "      <th>GAME</th>\n",
       "      <th>HARDWARE</th>\n",
       "      <th>PORTAL</th>\n",
       "      <th>SI</th>\n",
       "    </tr>\n",
       "  </thead>\n",
       "  <tbody>\n",
       "    <tr>\n",
       "      <th>5</th>\n",
       "      <td>JAVASCRIPT</td>\n",
       "      <td>C++</td>\n",
       "      <td>C</td>\n",
       "      <td>JAVA</td>\n",
       "      <td>JAVA</td>\n",
       "    </tr>\n",
       "    <tr>\n",
       "      <th>4</th>\n",
       "      <td>JAVA</td>\n",
       "      <td>C#</td>\n",
       "      <td>C++</td>\n",
       "      <td>JAVASCRIPT</td>\n",
       "      <td>JAVASCRIPT</td>\n",
       "    </tr>\n",
       "    <tr>\n",
       "      <th>3</th>\n",
       "      <td>PYTHON</td>\n",
       "      <td>JAVASCRIPT</td>\n",
       "      <td>PYTHON</td>\n",
       "      <td>PYTHON</td>\n",
       "      <td>SQL</td>\n",
       "    </tr>\n",
       "    <tr>\n",
       "      <th>2</th>\n",
       "      <td>SQL</td>\n",
       "      <td>C</td>\n",
       "      <td>JAVA</td>\n",
       "      <td>KOTLIN</td>\n",
       "      <td>PYTHON</td>\n",
       "    </tr>\n",
       "    <tr>\n",
       "      <th>1</th>\n",
       "      <td>C++</td>\n",
       "      <td>JAVA</td>\n",
       "      <td>JAVASCRIPT</td>\n",
       "      <td>PHP</td>\n",
       "      <td>C#</td>\n",
       "    </tr>\n",
       "  </tbody>\n",
       "</table>\n",
       "</div>"
      ],
      "text/plain": [
       "     CONTENTS        GAME    HARDWARE      PORTAL          SI\n",
       "5  JAVASCRIPT         C++           C        JAVA        JAVA\n",
       "4        JAVA          C#         C++  JAVASCRIPT  JAVASCRIPT\n",
       "3      PYTHON  JAVASCRIPT      PYTHON      PYTHON         SQL\n",
       "2         SQL           C        JAVA      KOTLIN      PYTHON\n",
       "1         C++        JAVA  JAVASCRIPT         PHP          C#"
      ]
     },
     "execution_count": 9,
     "metadata": {},
     "output_type": "execute_result"
    }
   ],
   "source": [
    "#정렬 완료\n",
    "df = df[sorted(df.columns)]\n",
    "df"
   ]
  },
  {
   "cell_type": "code",
   "execution_count": 10,
   "metadata": {},
   "outputs": [
    {
     "data": {
      "text/plain": [
       "{'CONTENTS': 29, 'GAME': 36, 'HARDWARE': 41, 'PORTAL': 21, 'SI': 25}"
      ]
     },
     "execution_count": 10,
     "metadata": {},
     "output_type": "execute_result"
    }
   ],
   "source": [
    "dic_total_score = {}\n",
    "for kind, score in zip(df.columns,total_score):\n",
    "    dic_total_score[kind] = score\n",
    "dic_total_score"
   ]
  },
  {
   "cell_type": "code",
   "execution_count": 12,
   "metadata": {},
   "outputs": [
    {
     "data": {
      "text/plain": [
       "[('HARDWARE', 41), ('GAME', 36), ('CONTENTS', 29), ('SI', 25), ('PORTAL', 21)]"
      ]
     },
     "execution_count": 12,
     "metadata": {},
     "output_type": "execute_result"
    }
   ],
   "source": [
    "sorted(dic_total_score.items(),key = lambda x:x[1],reverse = True)\n"
   ]
  },
  {
   "cell_type": "code",
   "execution_count": 13,
   "metadata": {},
   "outputs": [
    {
     "data": {
      "text/plain": [
       "'HARDWARE'"
      ]
     },
     "execution_count": 13,
     "metadata": {},
     "output_type": "execute_result"
    }
   ],
   "source": [
    "sorted(dic_total_score.items(),key = lambda x:x[1],reverse = True)[0][0]"
   ]
  },
  {
   "cell_type": "code",
   "execution_count": 85,
   "metadata": {},
   "outputs": [
    {
     "data": {
      "text/plain": [
       "[('p', 3), ('b', 5), ('d', 5), ('c', 5), ('a', 6)]"
      ]
     },
     "execution_count": 85,
     "metadata": {},
     "output_type": "execute_result"
    }
   ],
   "source": [
    "#예시\n",
    "\n",
    "k = {'a':6,'b':5,'d':5,'c':5,'p':3}\n",
    "sorted(k.items(),key=lambda x:x[1])"
   ]
  },
  {
   "cell_type": "code",
   "execution_count": null,
   "metadata": {},
   "outputs": [],
   "source": []
  },
  {
   "cell_type": "code",
   "execution_count": null,
   "metadata": {},
   "outputs": [],
   "source": []
  },
  {
   "cell_type": "code",
   "execution_count": null,
   "metadata": {},
   "outputs": [],
   "source": [
    "# 다른사람 풀이\n",
    "\n",
    "def solution(table, languages, preference):\n",
    "    score = {}\n",
    "    for t in table:\n",
    "        for lang, pref in zip(languages, preference):\n",
    "            if lang in t.split():\n",
    "                score[t.split()[0]] = score.get(t.split()[0], 0) +  (6 - t.split().index(lang)) * pref\n",
    "    return sorted(score.items(), key = lambda item: [-item[1], item[0]])[0][0]\n"
   ]
  }
 ],
 "metadata": {
  "kernelspec": {
   "display_name": "Python 3",
   "language": "python",
   "name": "python3"
  },
  "language_info": {
   "codemirror_mode": {
    "name": "ipython",
    "version": 3
   },
   "file_extension": ".py",
   "mimetype": "text/x-python",
   "name": "python",
   "nbconvert_exporter": "python",
   "pygments_lexer": "ipython3",
   "version": "3.7.7"
  }
 },
 "nbformat": 4,
 "nbformat_minor": 4
}
