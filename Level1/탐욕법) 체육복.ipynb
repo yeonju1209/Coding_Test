{
 "cells": [
  {
   "cell_type": "markdown",
   "metadata": {},
   "source": [
    "## [탐욕법> 체육복](https://programmers.co.kr/learn/courses/30/lessons/42862)"
   ]
  },
  {
   "cell_type": "code",
   "execution_count": 66,
   "metadata": {},
   "outputs": [],
   "source": [
    "def solution(n, lost, reserve):\n",
    "    cnt = 0\n",
    "    visited = [False]*(n+1)\n",
    "\n",
    "    #두 리스트에 동일한 값 찾기\n",
    "    # 여분 체육복 가져오고 도난당한 학생(무조건 자기 체육복을 입어야 함)\n",
    "    duplicate = list(set(lost)&set(reserve))\n",
    "    if duplicate:\n",
    "        for i in duplicate:\n",
    "            visited[i] = True\n",
    "            lost.remove(i)\n",
    "            cnt +=1\n",
    "            \n",
    "    lost.sort()\n",
    "    reserve.sort()\n",
    "    \n",
    "    # 여분 체육복 없고 도난당한 학생들\n",
    "    for i in lost:\n",
    "        for j in reserve:\n",
    "            if not visited[j] and i in range(j-1,j+2):\n",
    "                cnt += 1\n",
    "                visited[j] = True\n",
    "                break\n",
    "                \n",
    "    return n-len(lost)-len(duplicate)+cnt"
   ]
  },
  {
   "cell_type": "code",
   "execution_count": 67,
   "metadata": {
    "scrolled": true
   },
   "outputs": [
    {
     "name": "stdout",
     "output_type": "stream",
     "text": [
      "[False, False, True, False]\n",
      "3 1 1\n"
     ]
    },
    {
     "data": {
      "text/plain": [
       "3"
      ]
     },
     "execution_count": 67,
     "metadata": {},
     "output_type": "execute_result"
    }
   ],
   "source": [
    "solution(3, [1, 2], [2, 3])"
   ]
  },
  {
   "cell_type": "code",
   "execution_count": null,
   "metadata": {},
   "outputs": [],
   "source": []
  },
  {
   "cell_type": "code",
   "execution_count": null,
   "metadata": {},
   "outputs": [],
   "source": [
    "# 다른 풀이\n",
    "\n",
    "def solution(n, lost, reserve):\n",
    "    _reserve = [r for r in reserve if r not in lost]\n",
    "    _lost = [l for l in lost if l not in reserve]\n",
    "    for r in _reserve:\n",
    "        f = r - 1\n",
    "        b = r + 1\n",
    "        if f in _lost:\n",
    "            _lost.remove(f)\n",
    "        elif b in _lost:\n",
    "            _lost.remove(b)\n",
    "    return n - len(_lost)"
   ]
  }
 ],
 "metadata": {
  "kernelspec": {
   "display_name": "Python 3",
   "language": "python",
   "name": "python3"
  },
  "language_info": {
   "codemirror_mode": {
    "name": "ipython",
    "version": 3
   },
   "file_extension": ".py",
   "mimetype": "text/x-python",
   "name": "python",
   "nbconvert_exporter": "python",
   "pygments_lexer": "ipython3",
   "version": "3.8.5"
  }
 },
 "nbformat": 4,
 "nbformat_minor": 4
}
