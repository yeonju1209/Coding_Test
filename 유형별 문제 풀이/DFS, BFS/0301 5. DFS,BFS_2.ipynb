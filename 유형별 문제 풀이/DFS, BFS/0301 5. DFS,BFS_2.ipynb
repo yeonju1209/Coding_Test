{
 "cells": [
  {
   "cell_type": "markdown",
   "id": "7f2cf2d7",
   "metadata": {},
   "source": [
    "## [[Boj] 2667. 단지번호붙이기](https://www.acmicpc.net/problem/2667)"
   ]
  },
  {
   "cell_type": "code",
   "execution_count": 133,
   "id": "738aef0f",
   "metadata": {
    "scrolled": true
   },
   "outputs": [
    {
     "name": "stdout",
     "output_type": "stream",
     "text": [
      "3\n",
      "7\n",
      "8\n",
      "9\n"
     ]
    }
   ],
   "source": [
    "from collections import deque\n",
    "\n",
    "n = int(input())\n",
    "arr = [list(map(int,input())) for _ in range(n)]\n",
    "\n",
    "dx = [-1,0,1,0] # 열\n",
    "dy = [0,-1,0,1] # 행\n",
    "res = []\n",
    "\n",
    "for i in range(n):\n",
    "    for j in range(n):\n",
    "        if arr[i][j] == 1:\n",
    "            q = deque([[i,j]])\n",
    "            arr[i][j] = 0 # 방문 표시\n",
    "            cnt = 1\n",
    "            while q:\n",
    "                y,x = q.popleft()\n",
    "                for k in range(4):\n",
    "                    nx = x + dx[k]\n",
    "                    ny = y + dy[k]\n",
    "                    if 0<=nx<n and 0<=ny<n and arr[ny][nx] == 1:\n",
    "                        cnt += 1\n",
    "                        arr[ny][nx] = 0\n",
    "                        q.append([ny,nx])\n",
    "            res.append(cnt)\n",
    "                \n",
    "print(len(res))\n",
    "for i in sorted(res):\n",
    "    print(i)"
   ]
  },
  {
   "cell_type": "markdown",
   "id": "da1678c0",
   "metadata": {},
   "source": [
    "## [[Boj] 7569. 토마토](https://www.acmicpc.net/problem/7569)"
   ]
  },
  {
   "cell_type": "code",
   "execution_count": 214,
   "id": "99432cae",
   "metadata": {
    "scrolled": true
   },
   "outputs": [
    {
     "name": "stdout",
     "output_type": "stream",
     "text": [
      "2 2 1\n",
      "-1 -1\n",
      "-1 -1\n",
      "-1\n"
     ]
    }
   ],
   "source": [
    "from collections import deque\n",
    "\n",
    "m, n, h = map(int,input().split())\n",
    "arr = [[list(map(int,input().split())) for _ in range(n)] for _ in range(h)]\n",
    "\n",
    "dx = [0, 0, -1, 1, 0, 0]\n",
    "dy = [-1, 1, 0, 0, 0, 0]\n",
    "dz = [0, 0, 0, 0, -1, 1]\n",
    "loc = []\n",
    "\n",
    "for i in range(h):\n",
    "    for j in range(n):\n",
    "        for k in range(m):\n",
    "            if arr[i][j][k] == 1: # 익은 토마토 좌표\n",
    "                loc.append((i,j,k))\n",
    "\n",
    "def bfs():\n",
    "    q = deque([loc])\n",
    "    cnt = 0\n",
    "    while q:\n",
    "    #     print(q)\n",
    "        tmp = []\n",
    "        for p in q.popleft():\n",
    "    #         print(p)\n",
    "            x,y,z = p\n",
    "            for i in range(6):\n",
    "                nx = x + dx[i]\n",
    "                ny = y + dy[i]\n",
    "                nz = z + dz[i]\n",
    "                if 0<=nx<h and 0<=ny<n and 0<=nz<m and arr[nx][ny][nz] == 0: # 안익은 토마토\n",
    "                    arr[nx][ny][nz] = 1\n",
    "                    tmp.append((nx,ny,nz))\n",
    "        if tmp:\n",
    "            q.append(tmp)\n",
    "            cnt += 1\n",
    "#             print('cnt',cnt)\n",
    "\n",
    "    flag = False\n",
    "    for i in range(h):\n",
    "        for j in range(n):\n",
    "#             print(arr[i][j])\n",
    "            for k in range(m):\n",
    "                if arr[i][j][k] == 0:\n",
    "                    return -1\n",
    "                elif arr[i][j][k] == 1:\n",
    "                    flag = True\n",
    "\n",
    "    if flag:\n",
    "        return cnt\n",
    "    else:\n",
    "        return -1\n",
    "    \n",
    "print(bfs())"
   ]
  },
  {
   "cell_type": "markdown",
   "id": "d76dbc33",
   "metadata": {},
   "source": [
    "## [[Boj] 2573. 빙산](https://www.acmicpc.net/problem/2573)"
   ]
  },
  {
   "cell_type": "code",
   "execution_count": null,
   "id": "028e1441",
   "metadata": {},
   "outputs": [],
   "source": [
    "from collections import deque\n",
    "\n",
    "def count_iceberg():\n",
    "    visited = [[False]*m for _ in range(n)]\n",
    "    cnt = 0\n",
    "    for i in range(n):\n",
    "        for j in range(m):\n",
    "            \n",
    "            if arr[i][j] > 0 and not visited[i][j]:\n",
    "                q = deque([[i,j]])\n",
    "                visited[i][j] = True\n",
    "                \n",
    "                while q:\n",
    "                    x, y = q.popleft()\n",
    "                    for k in range(4):\n",
    "                        nx = x + dx[k]\n",
    "                        ny = y + dy[k]\n",
    "                        if 0<=nx<n and 0<=ny<m and \\\n",
    "                        arr[nx][ny] > 0 and not visited[nx][ny]:\n",
    "                            visited[nx][ny] = True\n",
    "                            q.append((nx,ny))\n",
    "                cnt += 1\n",
    "    return cnt\n",
    "\n",
    "\n",
    "# n, m = map(int,input().split())\n",
    "# arr = [list(map(int,input().split())) for _ in range(n)]\n",
    "\n",
    "dx = [0, 0, -1, 1]\n",
    "dy = [-1, 1, 0, 0]\n",
    "loc = []\n",
    "for i in range(n):\n",
    "    for j in range(m):\n",
    "        if arr[i][j] > 0:\n",
    "            loc.append((i,j))\n",
    "\n",
    "ans = 0\n",
    "q = deque([loc])\n",
    "while q:\n",
    "#     print(q)\n",
    "    if count_iceberg() >= 2:\n",
    "        print(ans)\n",
    "        break\n",
    "        \n",
    "    tmp = []\n",
    "    arr_copy = [item[:] for item in arr]\n",
    "    for p in q.popleft():\n",
    "        x, y = p\n",
    "        cnt = 0\n",
    "        for i in range(4):\n",
    "            nx = x + dx[i]\n",
    "            ny = y + dy[i]\n",
    "            if 0<=nx<n and 0<=ny<m and arr_copy[nx][ny] == 0:\n",
    "                cnt += 1\n",
    "        arr_copy[x][y] = max(0, arr_copy[x][y] - cnt)\n",
    "        if arr_copy[x][y] > 0:\n",
    "            tmp.append((x,y))\n",
    "    if tmp:\n",
    "        q.append(tmp)\n",
    "    ans += 1\n",
    "    arr = arr_copy\n",
    "#     print(arr)\n",
    "else:\n",
    "    print(0)"
   ]
  }
 ],
 "metadata": {
  "kernelspec": {
   "display_name": "Python 3 (ipykernel)",
   "language": "python",
   "name": "python3"
  },
  "language_info": {
   "codemirror_mode": {
    "name": "ipython",
    "version": 3
   },
   "file_extension": ".py",
   "mimetype": "text/x-python",
   "name": "python",
   "nbconvert_exporter": "python",
   "pygments_lexer": "ipython3",
   "version": "3.8.12"
  }
 },
 "nbformat": 4,
 "nbformat_minor": 5
}
