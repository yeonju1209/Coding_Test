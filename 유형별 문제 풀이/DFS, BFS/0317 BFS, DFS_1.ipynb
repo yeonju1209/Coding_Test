{
 "cells": [
  {
   "cell_type": "markdown",
   "id": "36f6b68c",
   "metadata": {},
   "source": [
    "## 1. [[Boj] 1260. DFS와 BFS](https://www.acmicpc.net/problem/1260)"
   ]
  },
  {
   "cell_type": "code",
   "execution_count": 81,
   "id": "097ba731",
   "metadata": {
    "scrolled": true
   },
   "outputs": [
    {
     "name": "stdout",
     "output_type": "stream",
     "text": [
      "4 5 1\n",
      "1 2\n",
      "1 3\n",
      "1 4\n",
      "2 4\n",
      "3 4\n",
      "1 2 4 3 \n",
      "1 2 3 4 "
     ]
    }
   ],
   "source": [
    "from collections import deque\n",
    "\n",
    "# 재귀\n",
    "def dfs(graph, v): \n",
    "    print(v, end=' ')\n",
    "    visited[v] = True\n",
    "    for i in graph[v]:\n",
    "        if not visited[i]:\n",
    "            dfs(graph,i)\n",
    "\n",
    "def bfs(graph, v):\n",
    "    visited = [False] * (n+1)\n",
    "    q = deque([v])\n",
    "    visited[v] = True\n",
    "    while q:\n",
    "        p = q.popleft()\n",
    "        print(p, end=' ')\n",
    "        for i in graph[p]:\n",
    "            if not visited[i]:\n",
    "                q.append(i)\n",
    "                visited[i] = True\n",
    "                \n",
    "\n",
    "n, m, v = map(int,input().split())\n",
    "graph = [[] for _ in range(n+1)]\n",
    "visited = [False] * (n+1) #dfs의 visited 배열\n",
    "\n",
    "for _ in range(m):\n",
    "    a, b = map(int,input().split())\n",
    "    graph[a].append(b)\n",
    "    graph[b].append(a)\n",
    "    \n",
    "for i in graph:\n",
    "    i.sort()\n",
    "    \n",
    "dfs(graph, v)\n",
    "print()\n",
    "bfs(graph, v)"
   ]
  },
  {
   "cell_type": "code",
   "execution_count": 95,
   "id": "6cd151d6",
   "metadata": {},
   "outputs": [
    {
     "data": {
      "text/plain": [
       "[[], [4, 3, 2], [4, 1], [4, 1], [3, 2, 1]]"
      ]
     },
     "execution_count": 95,
     "metadata": {},
     "output_type": "execute_result"
    }
   ],
   "source": [
    "graph"
   ]
  },
  {
   "cell_type": "code",
   "execution_count": 59,
   "id": "7b9e9a43",
   "metadata": {},
   "outputs": [],
   "source": [
    "# 재귀\n",
    "visited = [False] * (n+1)\n",
    "def dfs(graph, v): \n",
    "    print(v, end=' ')\n",
    "    visited[v] = True\n",
    "    for i in graph[v]:\n",
    "        if not visited[i]:\n",
    "            dfs(graph,i)"
   ]
  },
  {
   "cell_type": "code",
   "execution_count": 19,
   "id": "4a727aca",
   "metadata": {},
   "outputs": [],
   "source": [
    "def bfs(graph, v):\n",
    "    visited = [False] * (n+1)\n",
    "    q = deque([v])\n",
    "    visited[v] = True\n",
    "    \n",
    "    while q:\n",
    "        p = q.popleft()\n",
    "        print(p, end=' ')\n",
    "        for i in graph[p]:\n",
    "            if not visited[i]:\n",
    "                q.append(i)\n",
    "                visited[i] = True"
   ]
  },
  {
   "cell_type": "markdown",
   "id": "8bac2d2b",
   "metadata": {},
   "source": [
    "## 2. [[Boj] 2589. 보물섬](https://www.acmicpc.net/problem/2589)"
   ]
  },
  {
   "cell_type": "code",
   "execution_count": 54,
   "id": "87dac710",
   "metadata": {},
   "outputs": [
    {
     "name": "stdout",
     "output_type": "stream",
     "text": [
      "5 7\n",
      "WLLWWWL\n",
      "LLLWLLL\n",
      "LWLWLWW\n",
      "LWLWLLL\n",
      "WLLWLWW\n",
      "8\n"
     ]
    }
   ],
   "source": [
    "from collections import deque\n",
    "\n",
    "def bfs(x,y):\n",
    "    max_dist = 0\n",
    "    q = deque([[x,y]])\n",
    "    arr_copy = [item[:] for item in arr]\n",
    "    arr_copy[x][y] = 0\n",
    "    \n",
    "    while q:\n",
    "        x, y = q.popleft()\n",
    "        for i in range(4):\n",
    "            nx = x + dx[i]\n",
    "            ny = y + dy[i]\n",
    "            if 0<=nx<n and 0<=ny<m and arr_copy[nx][ny] == 'L':\n",
    "                arr_copy[nx][ny] = arr_copy[x][y] + 1\n",
    "                q.append([nx,ny])\n",
    "                max_dist = arr_copy[nx][ny]\n",
    "    return max_dist\n",
    "\n",
    "n, m = map(int,input().split()) # 행, 열\n",
    "arr = [list(input()) for _ in range(n)] # 육지(L), 바다(W)\n",
    "\n",
    "dx = [0,0,+1,-1]\n",
    "dy = [+1,-1,0,0]\n",
    "\n",
    "ans = 0\n",
    "for i in range(n):\n",
    "    for j in range(m):\n",
    "        if arr[i][j] == 'L':\n",
    "            ans = max(ans, bfs(i,j))\n",
    "print(ans)"
   ]
  },
  {
   "cell_type": "markdown",
   "id": "6c93b8c2",
   "metadata": {},
   "source": [
    "## 3. [[Boj] 2583. 영역 구하기](https://www.acmicpc.net/problem/2583)"
   ]
  },
  {
   "cell_type": "markdown",
   "id": "670976c0",
   "metadata": {},
   "source": [
    "- 풀 때마다 헷갈리는 것 같음.. 영역?문제"
   ]
  },
  {
   "cell_type": "code",
   "execution_count": 13,
   "id": "449eb330",
   "metadata": {},
   "outputs": [
    {
     "name": "stdout",
     "output_type": "stream",
     "text": [
      "5 7 3\n",
      "0 2 4 4\n",
      "1 1 2 5\n",
      "4 0 6 2\n",
      "3\n",
      "1 7 13\n"
     ]
    }
   ],
   "source": [
    "from collections import deque\n",
    "\n",
    "def bfs(x,y):\n",
    "    q = deque([[x,y]])\n",
    "    arr[x][y] = 0 # 방문 표시\n",
    "    cnt = 1\n",
    "    while q:\n",
    "        x, y = q.popleft()\n",
    "        for i in range(4):\n",
    "            nx = x + dx[i]\n",
    "            ny = y + dy[i]\n",
    "            if 0<=nx<m and 0<=ny<n and arr[nx][ny] == 1:\n",
    "                cnt += 1\n",
    "                arr[nx][ny] = 0 # 벽으로\n",
    "                q.append((nx,ny))\n",
    "    return cnt\n",
    "\n",
    "m, n, k = map(int,input().split())\n",
    "arr = [[1] * n for _ in range(m)] # 빈 칸: 1\n",
    "for _ in range(k):\n",
    "    x1, y1, x2, y2 = map(int,input().split())\n",
    "    for i in range(y1,y2):\n",
    "        for j in range(x1,x2):\n",
    "            arr[m-1-i][j] = 0 # 벽: 0\n",
    "            \n",
    "dx = [0,0,+1,-1]\n",
    "dy = [+1,-1,0,0]\n",
    "ans = []\n",
    "for i in range(m):\n",
    "    for j in range(n):\n",
    "        if arr[i][j] == 1:\n",
    "            ans.append(bfs(i,j))\n",
    "\n",
    "print(len(ans))\n",
    "print(*sorted(ans))"
   ]
  }
 ],
 "metadata": {
  "kernelspec": {
   "display_name": "Python 3 (ipykernel)",
   "language": "python",
   "name": "python3"
  },
  "language_info": {
   "codemirror_mode": {
    "name": "ipython",
    "version": 3
   },
   "file_extension": ".py",
   "mimetype": "text/x-python",
   "name": "python",
   "nbconvert_exporter": "python",
   "pygments_lexer": "ipython3",
   "version": "3.8.12"
  }
 },
 "nbformat": 4,
 "nbformat_minor": 5
}
