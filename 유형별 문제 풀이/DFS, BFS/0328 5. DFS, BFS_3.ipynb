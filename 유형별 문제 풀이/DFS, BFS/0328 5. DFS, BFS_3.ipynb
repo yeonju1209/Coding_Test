{
 "cells": [
  {
   "cell_type": "markdown",
   "id": "e60fc9c6",
   "metadata": {},
   "source": [
    "## [[Boj] 1520. 내리막 길](https://www.acmicpc.net/problem/1520)"
   ]
  },
  {
   "cell_type": "code",
   "execution_count": null,
   "id": "faa8e5a1",
   "metadata": {},
   "outputs": [],
   "source": [
    "import sys\n",
    "\n",
    "# sys.setrecursionlimit(200000)\n",
    "# input = sys.stdin.readline\n",
    "dx = [1, -1, 0, 0]\n",
    "dy = [0, 0, 1, -1]\n",
    "\n",
    "def dfs(x, y):\n",
    "    # 이미 방문한 적이 있을 경우\n",
    "    if dp[x][y] != -1:\n",
    "        return dp[x][y]\n",
    "\n",
    "    # Base case\n",
    "    if x == M-1 and y == N-1:\n",
    "        return 1\n",
    "\n",
    "    # Recursive case\n",
    "    dp[x][y] = 0\n",
    "\n",
    "    for i in range(4):\n",
    "        nextX, nextY = x + dx[i], y + dy[i]\n",
    "\n",
    "        if 0 <= nextX < M and 0 <= nextY < N:\n",
    "            if nums[x][y] > nums[nextX][nextY]:\n",
    "                dp[x][y] += dfs(nextX, nextY)\n",
    "\n",
    "    return dp[x][y]\n",
    "\n",
    "\n",
    "M, N = map(int, input().split())\n",
    "nums = [list(map(int, input().split())) for _ in range(M)]\n",
    "\n",
    "dp = [[-1]*N for _ in range(M)]\n",
    "print(dfs(0, 0))"
   ]
  },
  {
   "cell_type": "markdown",
   "id": "ac8f2615",
   "metadata": {},
   "source": [
    "- 시간 초과\n",
    "- 예제의 2,3번 경우가 겹치는데, 두 번 탐색하게 됨\n",
    "--> 이 경우를 해결하면 시간초과 없앨 수 있음"
   ]
  },
  {
   "cell_type": "code",
   "execution_count": 14,
   "id": "9e8582b5",
   "metadata": {},
   "outputs": [
    {
     "name": "stdout",
     "output_type": "stream",
     "text": [
      "deque([(1, 0), (0, 1)])\n",
      "deque([(0, 1), (2, 0)])\n",
      "deque([(2, 0), (0, 2)])\n",
      "deque([(0, 2), (3, 0)])\n",
      "deque([(3, 0), (0, 3)])\n",
      "deque([(0, 3), (3, 1)])\n",
      "deque([(3, 1), (1, 3), (0, 4)])\n",
      "deque([(1, 3), (0, 4), (3, 2)])\n",
      "deque([(0, 4), (3, 2), (2, 3)])\n",
      "deque([(3, 2), (2, 3), (1, 4)])\n",
      "deque([(2, 3), (1, 4), (3, 3)])\n",
      "deque([(1, 4), (3, 3), (3, 3)])\n",
      "deque([(3, 3), (3, 3), (1, 3)])\n",
      "deque([(3, 3), (1, 3)])\n",
      "deque([(1, 3)])\n",
      "deque([(2, 3)])\n",
      "deque([(3, 3)])\n",
      "deque([])\n",
      "3\n"
     ]
    }
   ],
   "source": [
    "from collections import deque\n",
    "import sys \n",
    "\n",
    "m, n = map(int,input().split())\n",
    "arr = [list(map(int,input().split())) for _ in range(m)]\n",
    "# m, n = map(int,sys.stdin.readline().split())\n",
    "# arr = [list(map(int,sys.stdin.readline().split())) for _ in range(m)]\n",
    "\n",
    "dx = [+1,-1,0,0]\n",
    "dy = [0,0,+1,-1]\n",
    "cnt = 0\n",
    "q = deque([(0,0)])\n",
    "while q:\n",
    "    x, y = q.popleft()\n",
    "    for i in range(4):\n",
    "        nx = x + dx[i]\n",
    "        ny = y + dy[i]\n",
    "        if 0<=nx<m and 0<=ny<n and arr[nx][ny]<arr[x][y]:\n",
    "            if (nx,ny) == (m-1,n-1):\n",
    "                cnt += 1\n",
    "                continue\n",
    "            q.append((nx,ny))\n",
    "#     print(q)\n",
    "print(cnt)"
   ]
  },
  {
   "cell_type": "markdown",
   "id": "49f7b9ba",
   "metadata": {},
   "source": [
    "\n",
    "## [[Boj] 10026. 적록색약](https://www.acmicpc.net/problem/10026)"
   ]
  },
  {
   "cell_type": "code",
   "execution_count": 117,
   "id": "e6ce172e",
   "metadata": {},
   "outputs": [
    {
     "name": "stdout",
     "output_type": "stream",
     "text": [
      "5\n",
      "RRRBB\n",
      "GGBBB\n",
      "BBBRR\n",
      "BBRRR\n",
      "RRRRR\n",
      "4 3 "
     ]
    }
   ],
   "source": [
    "from collections import deque\n",
    "dx = [+1,-1,0,0]\n",
    "dy = [0,0,+1,-1]\n",
    "\n",
    "def bfs(x,y):\n",
    "    q = deque([[x,y]])\n",
    "    visited[x][y] = True\n",
    "    while q:\n",
    "        x, y = q.popleft()\n",
    "        for i in range(4):\n",
    "            nx = x + dx[i]\n",
    "            ny = y + dy[i]\n",
    "            if 0<=nx<n and 0<=ny<n and arr[nx][ny] == arr[x][y] \\\n",
    "            and not visited[nx][ny]:\n",
    "                q.append([nx,ny])\n",
    "                visited[nx][ny] = True\n",
    "\n",
    "def bfs2(x,y):\n",
    "    dic = {'R':['R','G'], 'G':['R','G'], 'B':['B']}\n",
    "    q = deque([[x,y]])\n",
    "    visited[x][y] = True\n",
    "    while q:\n",
    "        x, y = q.popleft()\n",
    "        for i in range(4):\n",
    "            nx = x + dx[i]\n",
    "            ny = y + dy[i]\n",
    "            if 0<=nx<n and 0<=ny<n and arr[nx][ny] in dic[arr[x][y]] \\\n",
    "            and not visited[nx][ny]:\n",
    "                q.append([nx,ny])\n",
    "                visited[nx][ny] = True\n",
    "\n",
    "func = [bfs, bfs2]\n",
    "n = int(input())\n",
    "arr = [list(input()) for _ in range(n)]\n",
    "\n",
    "for k in range(2):\n",
    "    visited = [[False]*n for _ in range(n)]\n",
    "    cnt = 0\n",
    "    for i in range(n):\n",
    "        for j in range(n):\n",
    "            if not visited[i][j]:\n",
    "                func[k](i,j)\n",
    "                cnt += 1\n",
    "    print(cnt, end=' ')"
   ]
  },
  {
   "cell_type": "markdown",
   "id": "297a4666",
   "metadata": {},
   "source": [
    "## [[Boj] 2206. 벽 부수고 이동하기](https://www.acmicpc.net/problem/2206)"
   ]
  },
  {
   "cell_type": "code",
   "execution_count": null,
   "id": "6c2db6c2",
   "metadata": {},
   "outputs": [],
   "source": [
    "from collections import deque\n",
    "\n",
    "n, m = map(int, input().split())\n",
    "graph = []\n",
    "\n",
    "# 3차원 행렬을 통해 벽의 파괴를 파악함. visited[x][y][0]은 벽 파괴 가능. [x][y][1]은 불가능.\n",
    "visited = [[[0] * 2 for _ in range(m)] for _ in range(n)]\n",
    "visited[0][0][0] = 1\n",
    "\n",
    "for i in range(n):\n",
    "    graph.append(list(map(int, input())))\n",
    "\n",
    "# 상하좌우\n",
    "dx = [0, 0, 1, -1]\n",
    "dy = [1, -1, 0, 0]\n",
    "\n",
    "\n",
    "def bfs(x, y, z):\n",
    "    queue = deque()\n",
    "    queue.append((x, y, z))\n",
    "\n",
    "    while queue:\n",
    "        a, b, c = queue.popleft()\n",
    "        # 끝 점에 도달하면 이동 횟수를 출력\n",
    "        if a == n - 1 and b == m - 1:\n",
    "            return visited[a][b][c]\n",
    "        for i in range(4):\n",
    "            nx = a + dx[i]\n",
    "            ny = b + dy[i]\n",
    "            if nx < 0 or nx >= n or ny < 0 or ny >= m:\n",
    "                continue\n",
    "            # 다음 이동할 곳이 벽이고, 벽파괴기회를 사용하지 않은 경우\n",
    "            if graph[nx][ny] == 1 and c == 0 :\n",
    "                visited[nx][ny][1] = visited[a][b][0] + 1\n",
    "                queue.append((nx, ny, 1))\n",
    "            # 다음 이동할 곳이 벽이 아니고, 아직 한 번도 방문하지 않은 곳이면\n",
    "            elif graph[nx][ny] == 0 and visited[nx][ny][c] == 0:\n",
    "                visited[nx][ny][c] = visited[a][b][c] + 1\n",
    "                queue.append((nx, ny, c))\n",
    "    return -1\n",
    "\n",
    "print(bfs(0, 0, 0))"
   ]
  },
  {
   "cell_type": "markdown",
   "id": "b04cd9e1",
   "metadata": {},
   "source": [
    "---"
   ]
  },
  {
   "cell_type": "markdown",
   "id": "6d3f7ed6",
   "metadata": {},
   "source": [
    "- 시간 초과\n",
    "\n",
    "- 0: 벽, 1: 통로 로 재설정해서 계산"
   ]
  },
  {
   "cell_type": "code",
   "execution_count": 144,
   "id": "903873b8",
   "metadata": {},
   "outputs": [
    {
     "name": "stdout",
     "output_type": "stream",
     "text": [
      "5 10\n",
      "0000011000\n",
      "1101011010\n",
      "0000000010\n",
      "1111111110\n",
      "1111000000\n",
      "14\n"
     ]
    }
   ],
   "source": [
    "from collections import deque\n",
    "import sys\n",
    "\n",
    "dx = [+1,-1,0,0]\n",
    "dy = [0,0,+1,-1]\n",
    "\n",
    "n, m = map(int,input().split()) # 행, 열\n",
    "# n, m = map(int,sys.stdin.readline().split()) # 행, 열\n",
    "wall = []\n",
    "arr = []\n",
    "for i in range(n):\n",
    "    tmp = list(map(int,list(input())))\n",
    "#     tmp = list(map(int,list(sys.stdin.readline())))\n",
    "#     tmp = list(map(int,sys.stdin.readline().strip()))\n",
    "    arr.append([0 if k==1 else 1 for k in tmp])\n",
    "    for j in range(m):\n",
    "        if tmp[j] == 1:\n",
    "            wall.append((i,j))\n",
    "\n",
    "if (n,m) == (1,1):\n",
    "    print(1)\n",
    "    \n",
    "else:\n",
    "    min_dist = int(1e9)\n",
    "    for point in wall:\n",
    "        arr_copy = [i[:] for i in arr]\n",
    "        arr_copy[point[0]][point[1]] = 1 # 벽 부수기 1개\n",
    "\n",
    "        q = deque([[0,0]])\n",
    "    #     arr_copy[0][0] = 0 # 방문 표시\n",
    "\n",
    "        while q:\n",
    "            x, y = q.popleft()\n",
    "            for i in range(4):\n",
    "                nx = x + dx[i]\n",
    "                ny = y + dy[i]\n",
    "                if 0<=nx<n and 0<=ny<m and arr_copy[nx][ny]==1:\n",
    "                    q.append((nx,ny))\n",
    "                    arr_copy[nx][ny] = arr_copy[x][y] + 1\n",
    "\n",
    "        if arr_copy[n-1][m-1] != 1:\n",
    "            min_dist = min(min_dist, arr_copy[n-1][m-1])\n",
    "    \n",
    "    if min_dist == int(1e9):\n",
    "        print(-1)\n",
    "    else:\n",
    "        print(min_dist)"
   ]
  },
  {
   "cell_type": "code",
   "execution_count": 137,
   "id": "e7bcd8bc",
   "metadata": {},
   "outputs": [
    {
     "data": {
      "text/plain": [
       "15"
      ]
     },
     "execution_count": 137,
     "metadata": {},
     "output_type": "execute_result"
    }
   ],
   "source": [
    "min_dist"
   ]
  }
 ],
 "metadata": {
  "kernelspec": {
   "display_name": "Python 3 (ipykernel)",
   "language": "python",
   "name": "python3"
  },
  "language_info": {
   "codemirror_mode": {
    "name": "ipython",
    "version": 3
   },
   "file_extension": ".py",
   "mimetype": "text/x-python",
   "name": "python",
   "nbconvert_exporter": "python",
   "pygments_lexer": "ipython3",
   "version": "3.8.12"
  }
 },
 "nbformat": 4,
 "nbformat_minor": 5
}
