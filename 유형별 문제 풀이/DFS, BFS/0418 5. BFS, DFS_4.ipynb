{
 "cells": [
  {
   "cell_type": "markdown",
   "id": "5e837a72",
   "metadata": {},
   "source": [
    "## 1. [[Boj] 16236. 아기상어](https://www.acmicpc.net/problem/16236)\n",
    "\n",
    "- 크기가 큰 물고기는 지나갈 수 없음, 먹을 수 없음\n",
    "- 크기가 같은 물고기는 지나갈 수 있음, 먹을 수 없음\n",
    "- 크기가 작은 물고기는 지나갈 수 있음, 먹을 수 있음\n",
    "\n",
    "\n",
    "- 가장 가까운 물고기부터, \n",
    "- 가까운 물고기가 많다면 가장 위, 왼쪽에 있는 물고기부터\n",
    "--> 갈 수 있는 모든 상황에 대해 우선순위를 부여해야 함 (deque X, heapq O)"
   ]
  },
  {
   "cell_type": "code",
   "execution_count": 112,
   "id": "1e04907f",
   "metadata": {},
   "outputs": [
    {
     "name": "stdout",
     "output_type": "stream",
     "text": [
      "60\n"
     ]
    }
   ],
   "source": [
    "# 우선순위 큐 사용\n",
    "# (x,y) x가 작은 순대로, y가 작은 순대로 실행\n",
    "import heapq\n",
    "\n",
    "n = int(input())\n",
    "arr = []\n",
    "for i in range(n):\n",
    "    arr.append(list(map(int,input().split())))\n",
    "    for j in range(n):\n",
    "        if arr[i][j] == 9:\n",
    "            x,y = (i,j)\n",
    "\n",
    "dx = [-1,+1,0,0] # 위, 아래\n",
    "dy = [0,0,-1,+1] # 왼쪽, 오른쪽\n",
    "ans = 0 # 최종 답\n",
    "t = 0 # 시간\n",
    "w = 2 #상어 무게\n",
    "visited = [[False]*n for _ in range(n)]\n",
    "\n",
    "q = [[(x,y)]]\n",
    "visited[x][y] = True\n",
    "arr[x][y] = 0\n",
    "\n",
    "cnt = 0 # 물고기 잡아먹은 횟수\n",
    "while q:\n",
    "    t += 1\n",
    "    tmp = [] # 최소 힙\n",
    "    p = q.pop() # p = tmp\n",
    "    while p:\n",
    "        x, y = heapq.heappop(p)\n",
    "        for i in range(4):\n",
    "            nx = x + dx[i]\n",
    "            ny = y + dy[i]\n",
    "            if nx in range(n) and ny in range(n) \\\n",
    "            and not visited[nx][ny] and arr[nx][ny] in range(w+1): # 0~w까지 지나갈 수 있음\n",
    "                # 경로 담기 (경로를 모두 담은 후에, 위쪽, 왼쪽 순으로 뽑아서 먹을 수 있는지 확인해야 함)\n",
    "                # 발견하자마자 먹으면 가장 위쪽, 왼쪽에 해당하는 경로가 아닐 수 있기 때문에\n",
    "                visited[nx][ny] = True\n",
    "                heapq.heappush(tmp, (nx,ny))\n",
    "    \n",
    "    if not tmp: # tmp에 아무것도 없으면 반복문 종료\n",
    "        break\n",
    "    \n",
    "    # 물고기 잡아먹기 (무게가 1~w-1인 경우)\n",
    "    tmp_copy = [i[:] for i in tmp]\n",
    "    while tmp:\n",
    "        x,y = heapq.heappop(tmp)\n",
    "        if arr[x][y] in range(1,w):\n",
    "            arr[x][y] = 0\n",
    "            cnt += 1 # 물고기 잡아먹은 횟수 + 1\n",
    "            ans = t\n",
    "            # 한마리 잡아먹었으면 그 지점부터 다시 탐색 시작\n",
    "            q = ([[(x,y)]])\n",
    "            visited = [[False]*n for _ in range(n)]\n",
    "            visited[x][y] = True\n",
    "            break\n",
    "    else: # 물고기 안잡아먹었으면(=break문에 안걸리면) q append하기\n",
    "        q.append(tmp_copy)\n",
    "        \n",
    "    if cnt == w: # 상어 무게 확인\n",
    "        cnt = 0 # 초기화\n",
    "        w += 1\n",
    "print(ans)"
   ]
  },
  {
   "cell_type": "markdown",
   "id": "b625e7cb",
   "metadata": {},
   "source": [
    "## 2. [[Boj] 1967. 트리](https://www.acmicpc.net/problem/1967)"
   ]
  },
  {
   "cell_type": "code",
   "execution_count": 27,
   "id": "5c99eb07",
   "metadata": {},
   "outputs": [
    {
     "name": "stdout",
     "output_type": "stream",
     "text": [
      "12\n",
      "1 2 3\n",
      "1 3 2\n",
      "2 4 5\n",
      "3 5 11\n",
      "3 6 9\n",
      "4 7 1\n",
      "4 8 7\n",
      "5 9 15\n",
      "5 10 4\n",
      "6 11 6\n",
      "6 12 10\n",
      "45\n"
     ]
    }
   ],
   "source": [
    "from collections import deque\n",
    "\n",
    "n = int(input()) # 노드의 개수\n",
    "graph = [[] for _ in range(n+1)]\n",
    "for _ in range(n-1):\n",
    "    a, b, c = map(int,input().split())\n",
    "    graph[a].append((b,c))\n",
    "    graph[b].append((a,c))\n",
    "    \n",
    "ans = 0\n",
    "for start in range(1,n+1):\n",
    "    q = deque([])\n",
    "    dist = [0] * (n+1)\n",
    "    visited = [False] * (n+1)\n",
    "    q.append((0,start))\n",
    "    visited[start] = True\n",
    "\n",
    "    while q:\n",
    "        now_d, now_n = q.popleft()\n",
    "        for next_n, next_d in graph[now_n]:\n",
    "            if not visited[next_n]:\n",
    "                cost = now_d + next_d\n",
    "                visited[next_n] = True\n",
    "                if cost > dist[next_n]:\n",
    "                    dist[next_n] = cost\n",
    "                    q.append((cost,next_n))\n",
    "    ans = max(ans, max(dist))\n",
    "print(ans)"
   ]
  },
  {
   "cell_type": "markdown",
   "id": "03f7f623",
   "metadata": {},
   "source": [
    "## 3. [[Boj] 1726. 로봇](https://www.acmicpc.net/problem/1726)"
   ]
  },
  {
   "cell_type": "code",
   "execution_count": 264,
   "id": "bbe82004",
   "metadata": {
    "scrolled": true
   },
   "outputs": [
    {
     "name": "stdout",
     "output_type": "stream",
     "text": [
      "4 2\n",
      "0 0\n",
      "0 0\n",
      "1 0\n",
      "0 0\n",
      "1 1 3\n",
      "4 1 3\n",
      "7\n"
     ]
    }
   ],
   "source": [
    "from collections import deque\n",
    "\n",
    "m, n = map(int,input().split()) # 행, 열\n",
    "arr = [list(map(int,input().split())) for _ in range(m)] # 0 - 지나는 점, 1 - 장애물\n",
    "x1,y1,d1 = map(int,input().split())\n",
    "x2,y2,d2 = map(int,input().split())\n",
    "\n",
    "# 동(1), 남(2), 서(3), 북(0)\n",
    "loc = {1:[0,+1], 2:[+1,0], 3:[0,-1], 0:[-1,0]}\n",
    "dic = {1:1, 2:3, 3:2, 4:0}\n",
    "d1 = dic[d1]\n",
    "d2 = dic[d2]\n",
    "\n",
    "visited = [[[False]*4 for _ in range(n)] for _ in range(m)]\n",
    "q = deque([(x1-1,y1-1, d1,0)])\n",
    "visited[x1-1][y1-1][d1] = True\n",
    "\n",
    "while q:\n",
    "    x,y,d,cnt = q.popleft()\n",
    "    if (x,y,d) == (x2-1,y2-1,d2):\n",
    "        print(cnt)\n",
    "        break\n",
    "    # 1, 2, 3칸 전진\n",
    "    for i in range(1,4):\n",
    "        nx = x + loc[d][0] * i\n",
    "        ny = y + loc[d][1] * i\n",
    "        if nx in range(m) and ny in range(n) and arr[nx][ny] == 0:# and (nx,ny,d,cnt+1) not in q:\n",
    "            if not visited[nx][ny][d]:\n",
    "                visited[nx][ny][d] = True # 방문 표시\n",
    "                q.append((nx,ny,d,cnt+1))\n",
    "        \n",
    "        else: # 1번째가 막혀있다면 2, 3번째도 당연히 못지나감\n",
    "            break\n",
    "            \n",
    "    # 방향 바꾸기\n",
    "    for nd in [(d+1)%4, (d-1)%4]: # 오른쪽, 왼쪽\n",
    "        if not visited[x][y][nd]:\n",
    "            q.append((x,y,nd, cnt+1))\n",
    "            visited[x][y][nd] = True"
   ]
  }
 ],
 "metadata": {
  "kernelspec": {
   "display_name": "Python 3 (ipykernel)",
   "language": "python",
   "name": "python3"
  },
  "language_info": {
   "codemirror_mode": {
    "name": "ipython",
    "version": 3
   },
   "file_extension": ".py",
   "mimetype": "text/x-python",
   "name": "python",
   "nbconvert_exporter": "python",
   "pygments_lexer": "ipython3",
   "version": "3.8.12"
  }
 },
 "nbformat": 4,
 "nbformat_minor": 5
}
