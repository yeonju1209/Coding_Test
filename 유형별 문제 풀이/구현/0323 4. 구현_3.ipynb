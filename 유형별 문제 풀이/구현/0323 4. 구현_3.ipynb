{
 "cells": [
  {
   "cell_type": "markdown",
   "id": "47c0c828",
   "metadata": {},
   "source": [
    "## 1. [[Boj] 14891. 톱니바퀴](https://www.acmicpc.net/problem/14891)"
   ]
  },
  {
   "cell_type": "markdown",
   "id": "ddb90862",
   "metadata": {},
   "source": [
    "- n극(0), s극(1)\n",
    "- 시계(1), 반시계(-1)\n",
    "\n",
    "check_rotate: 4가지 톱니바퀴의 회전 여부와 회전 방향 리턴하는 함수"
   ]
  },
  {
   "cell_type": "code",
   "execution_count": 92,
   "id": "1127034e",
   "metadata": {},
   "outputs": [
    {
     "name": "stdout",
     "output_type": "stream",
     "text": [
      "10010011\n",
      "01010011\n",
      "11100011\n",
      "01010101\n",
      "8\n",
      "1 1\n",
      "2 1\n",
      "3 1\n",
      "4 1\n",
      "1 -1\n",
      "2 -1\n",
      "3 -1\n",
      "4 -1\n",
      "5\n"
     ]
    }
   ],
   "source": [
    "from collections import deque\n",
    "\n",
    "def check_rotate(arr,num,direct):\n",
    "    num -= 1\n",
    "    rotate = [0] * 4\n",
    "    rotate[num] = direct\n",
    "    \n",
    "    q = deque([[num, direct]])\n",
    "    while q:\n",
    "        p, d = q.popleft()\n",
    "        opposite_d = 1 if d==-1 else -1\n",
    "        if p-1 in range(4) and not rotate[p-1]:\n",
    "            if arr[p][6] != arr[p-1][2]:\n",
    "                rotate[p-1] = opposite_d\n",
    "                q.append([p-1, opposite_d])\n",
    "                \n",
    "        if p+1 in range(4) and not rotate[p+1]:\n",
    "            if arr[p+1][6] != arr[p][2]:\n",
    "                rotate[p+1] = opposite_d\n",
    "                q.append([p+1, opposite_d])\n",
    "    return rotate\n",
    "\n",
    "ans = 0\n",
    "arr = [list(input()) for _ in range(4)]\n",
    "k = int(input())\n",
    "for _ in range(k):\n",
    "    num, direct = map(int,input().split())\n",
    "    \n",
    "    rotate = check_rotate(arr,num,direct)\n",
    "#     print(rotate, arr)\n",
    "    for i in range(4):\n",
    "        if rotate[i]== -1: # 반시계\n",
    "            arr[i] = arr[i][1:] + [arr[i][0]]\n",
    "        elif rotate[i]== 1: # 시계\n",
    "            arr[i] = [arr[i][-1]] + arr[i][:-1]\n",
    "\n",
    "for i in range(4):\n",
    "    if arr[i][0] == '1':\n",
    "        ans += 2**i\n",
    "print(ans)"
   ]
  },
  {
   "cell_type": "markdown",
   "id": "cfb02305",
   "metadata": {},
   "source": [
    "## 2. [[Boj] 16234. 인구 이동](https://www.acmicpc.net/problem/16234)"
   ]
  },
  {
   "cell_type": "code",
   "execution_count": 265,
   "id": "02586114",
   "metadata": {
    "scrolled": false
   },
   "outputs": [
    {
     "name": "stdout",
     "output_type": "stream",
     "text": [
      "3\n"
     ]
    }
   ],
   "source": [
    "from collections import deque\n",
    "\n",
    "dx = [0,0,+1,-1]\n",
    "dy = [+1,-1,0,0]\n",
    "\n",
    "def bfs(i, j):\n",
    "    population = arr[i][j]    \n",
    "    q = deque([[i,j]])\n",
    "    change = [[i,j]]\n",
    "    visited[i][j] = True\n",
    "    \n",
    "    while q:\n",
    "        x, y = q.popleft()\n",
    "        for k in range(4):\n",
    "            nx = x + dx[k]\n",
    "            ny = y + dy[k]\n",
    "            if 0<=nx<n and 0<=ny<n and \\\n",
    "            l<=abs(arr[nx][ny]-arr[x][y])<=r and not visited[nx][ny]:\n",
    "                population += arr[nx][ny]\n",
    "                visited[nx][ny] = True\n",
    "                change.append([nx,ny])\n",
    "                q.append([nx,ny])\n",
    "                \n",
    "    if population != arr[i][j]:\n",
    "        return change, population\n",
    "    else:\n",
    "        return None\n",
    "\n",
    "n, l, r = map(int,input().split())\n",
    "arr = [list(map(int,input().split())) for _ in range(n)]\n",
    "\n",
    "ans = 0\n",
    "flag = True\n",
    "while flag:\n",
    "    visited = [[False]*n for _ in range(n)]\n",
    "    flag = False\n",
    "    for i in range(n):\n",
    "        for j in range(n):\n",
    "#             print(i,j)\n",
    "            if not visited[i][j]:\n",
    "                res = bfs(i,j)\n",
    "                if res is None:\n",
    "                    continue\n",
    "                else:\n",
    "                    flag = True\n",
    "                    change, population = res\n",
    "                    area_popul = population // len(change)\n",
    "                    for x, y in change:\n",
    "                        visited[x][y] = True\n",
    "                        arr[x][y] = area_popul\n",
    "    if flag:\n",
    "        ans += 1\n",
    "\n",
    "print(ans)"
   ]
  },
  {
   "cell_type": "markdown",
   "id": "766a6917",
   "metadata": {},
   "source": [
    "## 3. [[Boj] 14500. 테트로미노](https://www.acmicpc.net/problem/14500)"
   ]
  },
  {
   "cell_type": "code",
   "execution_count": 316,
   "id": "0b21d60a",
   "metadata": {},
   "outputs": [
    {
     "name": "stdout",
     "output_type": "stream",
     "text": [
      "4 4\n",
      "0 0 0 0\n",
      "0 0 0 1\n",
      "0 0 0 2\n",
      "0 0 4 3\n",
      "9\n"
     ]
    }
   ],
   "source": [
    "dic = {\n",
    "    (1,4): [[(0,0), (0,1), (0,2), (0,3)]], # ㅡ 블록\n",
    "    (4,1): [[(0,0), (1,0), (2,0), (3,0)]], # ㅣ 블록\n",
    "    (2,2): [[(0,0), (0,1), (1,0), (1,1)]], # ㅁ 블록\n",
    "    \n",
    "    (2,3): [[(1,0),(1,1),(1,2),(0,2)], [(0,0),(1,0),(0,1),(0,2)], # ㄴ 블록\n",
    "            [(0,0),(1,0),(1,1),(1,2)], [(0,0),(0,1),(0,2),(1,2)],  # ㄴ 대칭\n",
    "            [(0,0),(0,1),(0,2),(1,1)], [(0,1),(1,0),(1,1),(1,2)], # ㅗ 블록\n",
    "            [(0,1),(0,2),(1,0),(1,1)], # ㄹ 블록 \n",
    "            [(0,0),(0,1),(1,1),(1,2)]], # ㄹ 대칭\n",
    "    \n",
    "    (3,2): [[(0,0),(1,0),(2,0),(2,1)], [(0,0),(0,1),(1,1),(2,1)], # ㄴ 블록\n",
    "            [(0,1),(1,1),(2,1),(2,0)], [(0,0),(0,1),(1,0),(2,0)], # ㄴ 대칭\n",
    "            [(0,0),(1,0),(2,0),(1,1)], [(1,0),(0,1),(1,1),(2,1)], # ㅗ 블록\n",
    "            [(0,0),(1,0),(1,1),(2,1)], # ㄹ 블록 \n",
    "            [(0,1),(1,0),(1,1),(2,0)]] # ㄹ 대칭\n",
    "}\n",
    "\n",
    "n, m = map(int,input().split())\n",
    "arr = [list(map(int,input().split())) for _ in range(n)]\n",
    "\n",
    "max_sum = 0\n",
    "for size, dirs in dic.items():\n",
    "    for i in range(n-size[0]+1): # 행\n",
    "        for j in range(m-size[1]+1): # 열\n",
    "            for d in dirs:\n",
    "                tmp = 0\n",
    "                for di, dj in d:\n",
    "                    ni, nj = i + di, j + dj\n",
    "                    tmp += arr[ni][nj]\n",
    "                max_sum = max(max_sum, tmp)\n",
    "print(max_sum)"
   ]
  }
 ],
 "metadata": {
  "kernelspec": {
   "display_name": "Python 3 (ipykernel)",
   "language": "python",
   "name": "python3"
  },
  "language_info": {
   "codemirror_mode": {
    "name": "ipython",
    "version": 3
   },
   "file_extension": ".py",
   "mimetype": "text/x-python",
   "name": "python",
   "nbconvert_exporter": "python",
   "pygments_lexer": "ipython3",
   "version": "3.8.12"
  }
 },
 "nbformat": 4,
 "nbformat_minor": 5
}
