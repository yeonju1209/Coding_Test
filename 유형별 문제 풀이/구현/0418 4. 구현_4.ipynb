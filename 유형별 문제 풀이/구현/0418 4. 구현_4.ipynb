{
 "cells": [
  {
   "cell_type": "markdown",
   "id": "3784161f",
   "metadata": {},
   "source": [
    "## 1. [[Boj] 23629. 이 얼마나 끔찍하고 무시무시한 수식이니](https://www.acmicpc.net/problem/23629)"
   ]
  },
  {
   "cell_type": "code",
   "execution_count": 71,
   "id": "45f36d62",
   "metadata": {},
   "outputs": [
    {
     "name": "stdout",
     "output_type": "stream",
     "text": [
      "FIVEZEROxTWOTWO-ONEONEONEONE=\n",
      "50x22-1111=\n",
      "-ONEONE\n"
     ]
    }
   ],
   "source": [
    "import re\n",
    "from collections import deque\n",
    "import math\n",
    "\n",
    "dic_en_num = {'ZERO': '0', 'ONE': '1', 'TWO': '2', 'THREE':'3', 'FOUR':'4',\n",
    "    'FIVE':'5', 'SIX':'6', 'SEVEN':'7', 'EIGHT':'8', 'NINE':'9'}\n",
    "dic_num_en = {v:k for k,v in dic_en_num.items()}\n",
    "\n",
    "s = input()\n",
    "for e, n in dic_en_num.items():\n",
    "    s  = s.replace(e,n)\n",
    "\n",
    "\n",
    "nums = deque(re.findall('\\d+',s))\n",
    "opers = deque(re.findall('\\D+',s)) # 연산자가 붙어 있으면 한 번에 여러 개 검출\n",
    "# nums, opers\n",
    "\n",
    "if len(max(opers,key=len)) >= 2:\n",
    "    print('Madness!')\n",
    "\n",
    "else:\n",
    "    print(s)\n",
    "    while len(nums) >= 2:\n",
    "        n1 = nums.popleft()\n",
    "        n2 = nums.popleft()\n",
    "        op = opers.popleft()\n",
    "        \n",
    "        # 곱하기일 경우 기호를 *로 바꿔주기\n",
    "        if op == 'x':\n",
    "            op = '*'\n",
    "        \n",
    "        # 일단 계산\n",
    "        calc = eval(n1+op+n2)\n",
    "        # 나눗셈일 경우\n",
    "        if op == '/':\n",
    "            # 계산결과가 음수면 올림\n",
    "            if int(n1) * int(n2) < 0:\n",
    "                calc = math.ceil(calc)\n",
    "            # 양수면 내림\n",
    "            else:\n",
    "                calc = math.floor(calc)\n",
    "                \n",
    "        if not nums: # 없으면 마지막 계산한 nums가 답이다\n",
    "            break\n",
    "        else:\n",
    "            nums.appendleft(str(calc))\n",
    "\n",
    "    else: # while문에 안들어갔으면 nums 길이가 1로, 바로 출력해야 함\n",
    "        calc = int(s[:-1])\n",
    "    ans = ''\n",
    "    if calc < 0:\n",
    "        ans += '-'\n",
    "        calc = -calc\n",
    "    for i in str(calc):\n",
    "        ans += dic_num_en[i]\n",
    "    print(ans)"
   ]
  },
  {
   "cell_type": "markdown",
   "id": "3c1c2486",
   "metadata": {},
   "source": [
    "## [[Boj] 17406. 배열 돌리기 4](https://www.acmicpc.net/problem/17406)\n",
    "- 백준은 numpy 라이브러리를 지원하지 않음"
   ]
  },
  {
   "cell_type": "code",
   "execution_count": 130,
   "id": "9a2ce466",
   "metadata": {
    "scrolled": true
   },
   "outputs": [
    {
     "name": "stdout",
     "output_type": "stream",
     "text": [
      "3 4 2\n",
      "4 2 1\n",
      "[[1, 8, 2, 3, 2, 5], [3, 2, 3, 7, 2, 6], [3, 8, 4, 1, 1, 3], [9, 3, 5, 1, 4, 5], [2, 1, 1, 4, 3, 1]]\n",
      "[[1, 8, 2, 3, 2, 5], [3, 8, 2, 7, 2, 6], [3, 4, 3, 1, 1, 3], [9, 2, 1, 1, 4, 5], [3, 5, 1, 4, 3, 1]]\n",
      "12\n"
     ]
    }
   ],
   "source": [
    "# ver2: numpy 사용 x\n",
    "from itertools import permutations\n",
    "\n",
    "def rotate(arr,x,y,s): # 시작 지점과 arr의 길이\n",
    "    # start point: x,y\n",
    "    n = 2*s + 1 # n = 2s+1 # 3\n",
    "    \n",
    "    while n >= 3:\n",
    "        first = arr[x][y]\n",
    "        for i in range(n-1): # 왼쪽 세로 \n",
    "            arr[x+ i][y+ 0] = arr[x+ i+1][y +0]\n",
    "        for i in range(n-1): # 아래쪽 가로 ->\n",
    "            arr[x+ n-1][y+ i] = arr[x+ n-1][y+ i+1]\n",
    "            \n",
    "        # 오른쪽 세로\n",
    "        for i in range(n-2,-1,-1): # n-2부터 0까지 \n",
    "            arr[x+ i+1][y+ n-1] = arr[x+ i][y+ n-1]\n",
    "        for i in range(n-2,-1,-1): # 위쪽 가로 <-\n",
    "            arr[x+ 0][y+ i+1] = arr[x+ 0][y+ i]\n",
    "        arr[x][y+1] = first\n",
    "        \n",
    "        n -= 2\n",
    "        x, y = x+1, y+1\n",
    "    return arr\n",
    "\n",
    "n, m, k = map(int,input().split())\n",
    "arr = [list(map(int,input().split())) for _ in range(n)]\n",
    "case = []\n",
    "for _ in range(k):\n",
    "    r, c, s = map(int,input().split())\n",
    "    case.append([r-s-1,c-s-1,s]) # x, y(시작 지점), s(길이)\n",
    "    \n",
    "min_val = int(1e9)\n",
    "for cases in permutations(case):\n",
    "    arr_copy = [i[:] for i in arr]\n",
    "    for x,y,s in cases:\n",
    "        arr_copy = rotate(arr_copy,x,y,s)\n",
    "    min_val = min(min_val, min(map(sum,arr_copy)))\n",
    "#     print(arr_copy)\n",
    "print(min_val)"
   ]
  },
  {
   "cell_type": "code",
   "execution_count": 128,
   "id": "a63a0e02",
   "metadata": {
    "scrolled": false
   },
   "outputs": [
    {
     "data": {
      "text/plain": [
       "[[0, 1, 2], [2, 0, 1]]"
      ]
     },
     "execution_count": 128,
     "metadata": {},
     "output_type": "execute_result"
    }
   ],
   "source": [
    "case"
   ]
  },
  {
   "cell_type": "markdown",
   "id": "790465f6",
   "metadata": {},
   "source": [
    "## [[Boj] 20055. 컨베이어 벨트 위의 로봇](https://www.acmicpc.net/problem/20055)\n",
    "\n",
    "- 로봇이 사라진다고 컨베이어 벨트의 내구도는 올라가지 않음"
   ]
  },
  {
   "cell_type": "code",
   "execution_count": 51,
   "id": "f8325548",
   "metadata": {},
   "outputs": [
    {
     "name": "stdout",
     "output_type": "stream",
     "text": [
      "5 8\n",
      "100 99 60 80 30 20 10 89 99 100\n",
      "472\n"
     ]
    }
   ],
   "source": [
    "n, k = map(int,input().split())\n",
    "conv = list(map(int,input().split()))\n",
    "\n",
    "robot = [0] * n*2\n",
    "ans = 0\n",
    "\n",
    "while True:\n",
    "    ans += 1\n",
    "    # 1. 벨트 회전\n",
    "    conv = [conv[-1]] + conv[:-1]\n",
    "    robot = [robot[-1]] + robot[:-1]\n",
    "    \n",
    "    # 1-2. 움직인 후에는 내리는 위치에 도달한 로봇 내려주기\n",
    "    robot[n-1] = 0\n",
    "    \n",
    "    # 2. 로봇 한 칸 앞으로 (0~n*2-2까지)\n",
    "    for i in range(n-2,-1,-1):\n",
    "        if robot[i]:\n",
    "            if robot[i+1] == 0 and conv[i+1] >= 1:\n",
    "                robot[i+1] = 1\n",
    "                robot[i] -= 1\n",
    "                conv[i+1] -= 1\n",
    "        \n",
    "    # 2-2. 움직인 후에는 내리는 위치에 도달한 로봇 내려주기\n",
    "    robot[n-1] = 0\n",
    "#     print('로봇 전진',robot)\n",
    "    \n",
    "    # 3. 올리는 위치(1)에 로봇 올리기\n",
    "    if conv[0] >= 1:\n",
    "        robot[0] += 1\n",
    "        conv[0] -= 1\n",
    "#     print('로봇 올리기 0',robot)\n",
    "    \n",
    "    # 4. 내구도가 0인 칸의 개수\n",
    "    if conv.count(0) >= k:\n",
    "        break\n",
    "        \n",
    "print(ans)"
   ]
  },
  {
   "cell_type": "markdown",
   "id": "e2f4defa",
   "metadata": {},
   "source": [
    "시작\n",
    "1 2 1 2 1 2\n",
    "\n",
    "1단계\n",
    "2 1 2 1 2 1\n",
    "1 0 0 0 0 0\n",
    "\n",
    "2단계\n",
    "1 2 1 2 1 2\n",
    "1 0 1 0 0 0 (내구도 0인 곳 2개)\n"
   ]
  }
 ],
 "metadata": {
  "kernelspec": {
   "display_name": "Python 3 (ipykernel)",
   "language": "python",
   "name": "python3"
  },
  "language_info": {
   "codemirror_mode": {
    "name": "ipython",
    "version": 3
   },
   "file_extension": ".py",
   "mimetype": "text/x-python",
   "name": "python",
   "nbconvert_exporter": "python",
   "pygments_lexer": "ipython3",
   "version": "3.8.12"
  }
 },
 "nbformat": 4,
 "nbformat_minor": 5
}
