{
 "cells": [
  {
   "cell_type": "markdown",
   "id": "7bb8e403",
   "metadata": {},
   "source": [
    "### union-find (서로소 집합) 알고리즘"
   ]
  },
  {
   "cell_type": "code",
   "execution_count": 13,
   "id": "832b45a5",
   "metadata": {},
   "outputs": [],
   "source": [
    "# 특정 원소가 속한 집합 찾기 (루트 노드 찾기)\n",
    "def find_parent(parent,x):\n",
    "    if parent[x] != x:\n",
    "        return find_parent(parent,parent[x])\n",
    "    return x\n",
    "\n",
    "# 두 원소(a, b)가 속한 집합 합치기\n",
    "def union_parent(parent, a, b):\n",
    "    a = find_parent(parent,a)\n",
    "    b = find_parent(parent,b)\n",
    "    if a < b:\n",
    "        parent[b] = a\n",
    "    else:\n",
    "        parent[a] = b"
   ]
  },
  {
   "cell_type": "markdown",
   "id": "3bf6a291",
   "metadata": {},
   "source": [
    "## [[Boj] 2606. 바이러스](https://www.acmicpc.net/problem/2606)"
   ]
  },
  {
   "cell_type": "code",
   "execution_count": 25,
   "id": "bdd9b0be",
   "metadata": {},
   "outputs": [
    {
     "name": "stdout",
     "output_type": "stream",
     "text": [
      "7\n",
      "6\n",
      "2 3\n",
      "1 2\n",
      "1 5\n",
      "5 2\n",
      "5 6\n",
      "4 7\n",
      "3\n"
     ]
    }
   ],
   "source": [
    "def find_parent(parent,x):\n",
    "    if parent[x] != x:\n",
    "        return find_parent(parent,parent[x])\n",
    "    return x\n",
    "\n",
    "def union_parent(parent,a,b):\n",
    "    a = find_parent(parent,a)\n",
    "    b = find_parent(parent,b)\n",
    "    if a < b:\n",
    "        parent[b] = a\n",
    "    else:\n",
    "        parent[a] = b\n",
    "\n",
    "v = int(input()) # 노드의 개수 v\n",
    "e = int(input()) # 간선의 개수 (edge)\n",
    "parent = [i for i in range(v+1)] # 루트 노드\n",
    "\n",
    "for _ in range(e):\n",
    "    a, b = map(int,input().split())\n",
    "    union_parent(parent,a,b)\n",
    "    \n",
    "# 원소가 속한 집합이 1일 때 cnt+=1\n",
    "cnt = 0\n",
    "for i in range(1, v+1):\n",
    "    if find_parent(parent,i) == 1:\n",
    "        cnt += 1\n",
    "print(cnt-1) # 자기 자신은 제외"
   ]
  },
  {
   "cell_type": "markdown",
   "id": "0cbf9184",
   "metadata": {},
   "source": [
    "## [[Boj] 4195. 친구 네트워크](https://www.acmicpc.net/problem/4195)"
   ]
  },
  {
   "cell_type": "markdown",
   "id": "17b3c898",
   "metadata": {},
   "source": [
    "- 시간 초과 발생"
   ]
  },
  {
   "cell_type": "code",
   "execution_count": 159,
   "id": "07c0a16d",
   "metadata": {
    "scrolled": false
   },
   "outputs": [
    {
     "name": "stdout",
     "output_type": "stream",
     "text": [
      "1\n",
      "7\n",
      "a b\n",
      "2\n",
      "b c\n",
      "3\n",
      "c a\n",
      "3\n",
      "d e\n",
      "2\n",
      "e d\n",
      "2\n",
      "d e\n",
      "2\n",
      "a b\n",
      "3\n"
     ]
    }
   ],
   "source": [
    "def find_parent(parent,x):\n",
    "    if parent[x] != x:\n",
    "        return find_parent(parent,parent[x])\n",
    "    return x\n",
    "\n",
    "def union_parent(parent,a,b):\n",
    "    a = find_parent(parent,a)\n",
    "    b = find_parent(parent,b)\n",
    "    if a < b:\n",
    "        parent[b] = a\n",
    "    else:\n",
    "        parent[a] = b\n",
    "\n",
    "n = int(input()) # 친구 관계의 수\n",
    "for _ in range(n):\n",
    "    friends = {}\n",
    "    idx = 1\n",
    "    \n",
    "    pre = 0\n",
    "    parent = []\n",
    "    f = int(input()) # 간선의 수(연결된 개수)\n",
    "    for _ in range(f):\n",
    "        cnt = 0\n",
    "\n",
    "        a, b = input().split()\n",
    "        if friends.get(a) is None:\n",
    "            friends[a] = idx\n",
    "            idx += 1\n",
    "        if friends.get(b) is None:\n",
    "            friends[b] = idx\n",
    "            idx += 1\n",
    "\n",
    "#         print(friends, pre, len(friends), idx)\n",
    "        parent += [i for i in range(pre,idx)]\n",
    "        union_parent(parent,friends[a],friends[b])\n",
    "#         print(parent)\n",
    "\n",
    "        compare = find_parent(parent, friends[a])\n",
    "        for i in range(1, idx):\n",
    "            if find_parent(parent,i) == compare:\n",
    "                cnt += 1\n",
    "        print(cnt)\n",
    "        pre = idx"
   ]
  },
  {
   "cell_type": "markdown",
   "id": "71182a60",
   "metadata": {},
   "source": [
    "- rank 배열을 선언하여 각 정점마다 자식의 수를 관리"
   ]
  },
  {
   "cell_type": "code",
   "execution_count": 163,
   "id": "5e04b38b",
   "metadata": {},
   "outputs": [
    {
     "name": "stdout",
     "output_type": "stream",
     "text": [
      "1\n",
      "7\n",
      "a b\n",
      "2\n",
      "b c\n",
      "3\n",
      "c a\n",
      "3\n",
      "d e\n",
      "2\n",
      "e d\n",
      "2\n",
      "d e\n",
      "2\n",
      "a b\n",
      "3\n"
     ]
    }
   ],
   "source": [
    "def find_parent(parent,x):\n",
    "    if parent[x] != x:\n",
    "        return find_parent(parent,parent[x])\n",
    "    return x\n",
    "\n",
    "def union_parent(parent,a,b):\n",
    "    a = find_parent(parent,a)\n",
    "    b = find_parent(parent,b)\n",
    "    \n",
    "    #  union-find에서 find의 결과가 같을 때 size를 합치면 안됨\n",
    "    if a==b:\n",
    "        return rank[a]\n",
    "    elif a < b:\n",
    "        parent[b] = a\n",
    "        rank[a] += rank[b]\n",
    "        return rank[a]\n",
    "    else:\n",
    "        parent[a] = b\n",
    "        rank[b] += rank[a]\n",
    "        return rank[b]\n",
    "\n",
    "    \n",
    "n = int(input()) # 친구 관계의 수\n",
    "for _ in range(n):\n",
    "    friends = {}\n",
    "    idx = 1\n",
    "    \n",
    "    pre = 0\n",
    "    parent = []\n",
    "    rank = [1] * 200001 # 1부터 200,000까지 연결되어 있는 노드의 개수를 받을 리스트\n",
    "    f = int(input()) # 간선의 수(연결된 개수)\n",
    "    for _ in range(f):\n",
    "        cnt = 0\n",
    "\n",
    "        a, b = input().split()\n",
    "        if friends.get(a) is None:\n",
    "            friends[a] = idx\n",
    "            idx += 1\n",
    "        if friends.get(b) is None:\n",
    "            friends[b] = idx\n",
    "            idx += 1\n",
    "\n",
    "        parent += [i for i in range(pre,idx)]\n",
    "        print(union_parent(parent,friends[a],friends[b]))\n",
    "        pre = idx"
   ]
  },
  {
   "cell_type": "code",
   "execution_count": 35,
   "id": "e0d45876",
   "metadata": {},
   "outputs": [],
   "source": [
    "def find_parent(parent,x):\n",
    "    if parent[x] != x:\n",
    "        return find_parent(parent,parent[x])\n",
    "    return x\n",
    "\n",
    "def union_parent(parent,a,b):\n",
    "    a = find_parent(parent,a)\n",
    "    b = find_parent(parent,b)\n",
    "    if a < b:\n",
    "        parent[b] = a\n",
    "    else:\n",
    "        parent[a] = b\n",
    "        \n"
   ]
  },
  {
   "cell_type": "code",
   "execution_count": null,
   "id": "62eba307",
   "metadata": {},
   "outputs": [],
   "source": []
  },
  {
   "cell_type": "markdown",
   "id": "173bad45",
   "metadata": {},
   "source": [
    "### 위상 정렬 소스코드\n",
    "- 순서가 정해져 있는 일련의 작업을 차례대로 수행해야 할 때 사용\n",
    "- 방향 그래프의 모든 노드를 방향성에 거스르지 않도록 순서대로 나열"
   ]
  },
  {
   "cell_type": "code",
   "execution_count": 116,
   "id": "ae70a921",
   "metadata": {},
   "outputs": [],
   "source": [
    "from collections import deque\n",
    "\n",
    "# 노드 ,간선\n",
    "v, e = map(int,input().split())\n",
    "# 진입 차수\n",
    "indegree = [0] * (v+1)\n",
    "graph = [[] for i in range(v+1)]\n",
    "\n",
    "# 간선 정보\n",
    "for _ in range(e):\n",
    "    a, b = map(int,input().split())\n",
    "    graph[a].append(b) # a -> b 이동\n",
    "    indegree[b] += 1 # b의 진입차수 += 1\n",
    "\n",
    "def topology_sort():\n",
    "    answer = []\n",
    "    q = deque()\n",
    "    \n",
    "    for i in range(1, v+1):\n",
    "        if indegree[i] == 0:\n",
    "            q.append(i) # q = [3, 4]\n",
    "            \n",
    "    while q:\n",
    "        now = q.popleft() # 3\n",
    "        answer.append(now)\n",
    "        \n",
    "        for i in graph[now]: # 1\n",
    "            indegree[i] -= 1\n",
    "            if indegree[i] == 0:\n",
    "                q.append(i) # 1\n",
    "                \n",
    "    print(*answer)"
   ]
  },
  {
   "cell_type": "markdown",
   "id": "9a8193a4",
   "metadata": {},
   "source": [
    "## [3. 문제집](https://www.acmicpc.net/problem/1766)"
   ]
  },
  {
   "cell_type": "code",
   "execution_count": 140,
   "id": "3cea3ab9",
   "metadata": {},
   "outputs": [
    {
     "name": "stdout",
     "output_type": "stream",
     "text": [
      "(0, 1)\n",
      "(0, 2)\n",
      "(0, 3)\n",
      "(1, 2)\n",
      "(1, 3)\n"
     ]
    }
   ],
   "source": [
    "import heapq\n",
    "\n",
    "q = []\n",
    "heapq.heappush(q,(1,3))\n",
    "heapq.heappush(q,(0,3))\n",
    "heapq.heappush(q,(0,1))\n",
    "heapq.heappush(q,(0,2))\n",
    "heapq.heappush(q,(1,2))\n",
    "\n",
    "while q:\n",
    "    print(heapq.heappop(q))"
   ]
  },
  {
   "cell_type": "code",
   "execution_count": 154,
   "id": "105bc379",
   "metadata": {},
   "outputs": [
    {
     "name": "stdout",
     "output_type": "stream",
     "text": [
      "6 7\n",
      "5 6\n",
      "5 2\n",
      "2 4\n",
      "4 3\n",
      "2 1\n",
      "6 1\n",
      "1 3\n",
      "5 2 4 6 1 3\n"
     ]
    }
   ],
   "source": [
    "import heapq\n",
    "\n",
    "# 노드 ,간선\n",
    "v, e = map(int,input().split())\n",
    "# 진입 차수\n",
    "indegree = [0] * (v+1)\n",
    "graph = [[] for i in range(v+1)]\n",
    "\n",
    "for _ in range(e):\n",
    "    a, b = map(int,input().split())\n",
    "    graph[a].append(b) # a -> b 이동\n",
    "    indegree[b] += 1 # b의 진입차수 += 1\n",
    "\n",
    "answer = []\n",
    "q = []\n",
    "for i in range(1,v+1):\n",
    "    heapq.heappush(q, (indegree[i], i))\n",
    "    \n",
    "while q:\n",
    "    n_degree, n_node = heapq.heappop(q)\n",
    "    \n",
    "    if n_node in answer:\n",
    "        continue\n",
    "    answer.append(n_node)\n",
    "    \n",
    "    for i in graph[n_node]:\n",
    "        indegree[i] -= 1\n",
    "        if indegree[i] == 0:\n",
    "            heapq.heappush(q, (0, i))\n",
    "            \n",
    "print(*answer)"
   ]
  },
  {
   "cell_type": "code",
   "execution_count": 157,
   "id": "981a366b",
   "metadata": {},
   "outputs": [
    {
     "data": {
      "text/plain": [
       "[[], [3], [4, 1], [], [3], [6, 2], [1]]"
      ]
     },
     "execution_count": 157,
     "metadata": {},
     "output_type": "execute_result"
    }
   ],
   "source": [
    "graph"
   ]
  }
 ],
 "metadata": {
  "kernelspec": {
   "display_name": "Python 3 (ipykernel)",
   "language": "python",
   "name": "python3"
  },
  "language_info": {
   "codemirror_mode": {
    "name": "ipython",
    "version": 3
   },
   "file_extension": ".py",
   "mimetype": "text/x-python",
   "name": "python",
   "nbconvert_exporter": "python",
   "pygments_lexer": "ipython3",
   "version": "3.8.12"
  }
 },
 "nbformat": 4,
 "nbformat_minor": 5
}
