{
 "cells": [
  {
   "cell_type": "markdown",
   "id": "c2219a1b",
   "metadata": {},
   "source": [
    "## 1. [[Boj] 2468. 안전 영역](https://www.acmicpc.net/problem/2468)"
   ]
  },
  {
   "cell_type": "code",
   "execution_count": 80,
   "id": "4ca8d369",
   "metadata": {
    "scrolled": true
   },
   "outputs": [
    {
     "name": "stdout",
     "output_type": "stream",
     "text": [
      "7\n",
      "9 9 9 9 9 9 9\n",
      "9 2 1 2 1 2 9\n",
      "9 1 8 7 8 1 9\n",
      "9 2 7 9 7 2 9\n",
      "9 1 8 7 8 1 9\n",
      "9 2 1 2 1 2 9\n",
      "9 9 9 9 9 9 9\n",
      "6\n"
     ]
    }
   ],
   "source": [
    "from collections import deque\n",
    "\n",
    "n = int(input())\n",
    "arr = [list(map(int,input().split())) for _ in range(n)]\n",
    "\n",
    "dx = [0,0,+1,-1]\n",
    "dy = [+1,-1,0,0]\n",
    "q = deque([])\n",
    "ans = 0\n",
    "h = 0\n",
    "\n",
    "while h <= 100:\n",
    "    cnt = 0\n",
    "    arr_copy = [item[:] for item in arr]\n",
    "    for i in range(n):\n",
    "        for j in range(n):\n",
    "            if arr_copy[i][j] > h:\n",
    "                q.append((i,j))\n",
    "\n",
    "                while q:\n",
    "                    x,y = q.popleft()\n",
    "                    for k in range(4):\n",
    "                        nx = x + dx[k]\n",
    "                        ny = y + dy[k]\n",
    "                        if 0<=nx<n and 0<=ny<n and arr_copy[nx][ny] > h:\n",
    "                            arr_copy[nx][ny] = 0\n",
    "                            q.append((nx,ny))\n",
    "                cnt += 1\n",
    "    ans = max(cnt, ans)\n",
    "    h += 1\n",
    "print(ans)"
   ]
  },
  {
   "cell_type": "markdown",
   "id": "273d5680",
   "metadata": {},
   "source": [
    "## 2. [[Boj] 14502. 연구소](https://www.acmicpc.net/problem/14502)"
   ]
  },
  {
   "cell_type": "code",
   "execution_count": 55,
   "id": "dcd28f66",
   "metadata": {
    "scrolled": true
   },
   "outputs": [
    {
     "data": {
      "text/plain": [
       "[(0, 0), (1, 5)]"
      ]
     },
     "execution_count": 55,
     "metadata": {},
     "output_type": "execute_result"
    }
   ],
   "source": [
    "virus"
   ]
  },
  {
   "cell_type": "code",
   "execution_count": 33,
   "id": "ba625cb9",
   "metadata": {
    "scrolled": true
   },
   "outputs": [
    {
     "name": "stdout",
     "output_type": "stream",
     "text": [
      "[(0, 1), (0, 2), (0, 3), (0, 6), (1, 0), (1, 1), (1, 3), (1, 6), (2, 0), (2, 3), (2, 5), (2, 6), (3, 0), (3, 2), (3, 3), (3, 4), (3, 5), (3, 6), (4, 0), (4, 1), (4, 2), (4, 3), (4, 4), (5, 0), (5, 2), (5, 3), (5, 4), (5, 5), (5, 6), (6, 0), (6, 2), (6, 3), (6, 4), (6, 5), (6, 6)]\n"
     ]
    }
   ],
   "source": [
    "print(loc)"
   ]
  },
  {
   "cell_type": "code",
   "execution_count": 78,
   "id": "ec11a9f6",
   "metadata": {},
   "outputs": [
    {
     "name": "stdout",
     "output_type": "stream",
     "text": [
      "4 6\n",
      "0 0 0 0 0 0\n",
      "1 0 0 0 0 2\n",
      "1 1 1 0 0 2\n",
      "0 0 0 0 0 2\n",
      "9\n"
     ]
    }
   ],
   "source": [
    "from collections import deque\n",
    "from itertools import combinations\n",
    "\n",
    "# 바이러스(2)가 모두 퍼지고 난 후, 안전 영역의 크기를 구하는 함수\n",
    "def check_safety_area(arr):\n",
    "    cnt = 0\n",
    "    q = deque(virus)\n",
    "    arr_copy = [i[:] for i in arr]\n",
    "    \n",
    "    while q:\n",
    "        x, y = q.popleft()\n",
    "        for i in range(4):\n",
    "            nx = x + dx[i]\n",
    "            ny = y + dy[i]\n",
    "            if 0<=nx<n and 0<=ny<m and arr_copy[nx][ny] == 0:\n",
    "                q.append((nx,ny))\n",
    "                arr_copy[nx][ny] = 2\n",
    "                \n",
    "    for i in range(n):\n",
    "        for j in range(m):\n",
    "            if arr_copy[i][j] == 0:\n",
    "                cnt += 1\n",
    "    return cnt\n",
    "\n",
    "\n",
    "n, m = map(int,input().split())\n",
    "arr = [] # graph\n",
    "loc = [] # 빈칸 위치 담기\n",
    "virus = [] # 바이러스 위치 담기\n",
    "\n",
    "for i in range(n):\n",
    "    arr.append(list(map(int,input().split())))\n",
    "    for j in range(m):\n",
    "        if arr[i][j] == 0:\n",
    "            loc.append((i,j))\n",
    "        if arr[i][j] == 2:\n",
    "            virus.append((i,j))\n",
    "            \n",
    "dx = [0,0,+1,-1]\n",
    "dy = [+1,-1,0,0]\n",
    "q = deque(virus)\n",
    "\n",
    "def solution():\n",
    "    max_area = 0\n",
    "    for points in combinations(loc,3):\n",
    "        for i,j in points:\n",
    "            arr[i][j] = 1 # 벽으로 바꿈\n",
    "        max_area = max(max_area, check_safety_area(arr))\n",
    "\n",
    "        for i,j in points:\n",
    "            arr[i][j] = 0 # 다시 원상태로 돌려놓기\n",
    "    return max_area\n",
    "print(solution())"
   ]
  },
  {
   "cell_type": "code",
   "execution_count": null,
   "id": "f6f639c3",
   "metadata": {},
   "outputs": [],
   "source": []
  },
  {
   "cell_type": "markdown",
   "id": "610ada91",
   "metadata": {},
   "source": [
    "- 가장 처음 나오는 값과 최댓값은 다름\n",
    "\n",
    "-> 완전탐색 필요"
   ]
  },
  {
   "cell_type": "code",
   "execution_count": 79,
   "id": "3e34b6b7",
   "metadata": {},
   "outputs": [
    {
     "data": {
      "text/plain": [
       "7"
      ]
     },
     "execution_count": 79,
     "metadata": {},
     "output_type": "execute_result"
    }
   ],
   "source": [
    "from collections import deque\n",
    "from itertools import combinations\n",
    "\n",
    "dx = [0,0,+1,-1]\n",
    "dy = [+1,-1,0,0]\n",
    "cand = []\n",
    "# max_area = 0\n",
    "\n",
    "q = deque(virus)\n",
    "\n",
    "def solution():\n",
    "    max_area = 0\n",
    "    while q:\n",
    "        x, y = q.popleft()\n",
    "        for i in range(4):\n",
    "            nx = x + dx[i]\n",
    "            ny = y + dy[i]\n",
    "            if 0<=nx<n and 0<=ny<m and arr[nx][ny] == 0: #빈칸\n",
    "                cand.append((nx,ny))\n",
    "                q.append((nx,ny))\n",
    "            # 일단 다 cand에 더함\n",
    "\n",
    "        for points in combinations(cand,3):\n",
    "            for i,j in points:\n",
    "                arr[i][j] = 1 # 벽으로 바꿈\n",
    "\n",
    "            area = check_safety_area(arr)\n",
    "            if area > 0:\n",
    "                max_area = area\n",
    "#                 print(points)\n",
    "                return max_area\n",
    "\n",
    "            for i,j in points:\n",
    "                arr[i][j] = 0 # 다시 원상태로 돌려놓기\n",
    "    return max_area\n",
    "solution()"
   ]
  },
  {
   "cell_type": "code",
   "execution_count": 57,
   "id": "9e32209c",
   "metadata": {},
   "outputs": [],
   "source": [
    "def check_safety_area(arr):\n",
    "    cnt = 0\n",
    "    q = deque(virus)\n",
    "    arr_copy = [i[:] for i in arr]\n",
    "    \n",
    "    while q:\n",
    "        x, y = q.popleft()\n",
    "        for i in range(4):\n",
    "            nx = x + dx[i]\n",
    "            ny = y + dy[i]\n",
    "            if 0<=nx<n and 0<=ny<m and arr_copy[nx][ny] == 0:\n",
    "                q.append((nx,ny))\n",
    "                arr_copy[nx][ny] = 2\n",
    "                \n",
    "    for i in range(n):\n",
    "        for j in range(m):\n",
    "            if arr_copy[i][j] == 0:\n",
    "                cnt += 1\n",
    "    return cnt"
   ]
  },
  {
   "cell_type": "code",
   "execution_count": null,
   "id": "6b24868c",
   "metadata": {},
   "outputs": [],
   "source": []
  },
  {
   "cell_type": "markdown",
   "id": "dd522770",
   "metadata": {},
   "source": [
    "## 3. [[Boj] 2252. 줄 세우기](https://www.acmicpc.net/problem/2252)"
   ]
  },
  {
   "cell_type": "markdown",
   "id": "6534af5f",
   "metadata": {},
   "source": [
    "- 위상정렬 문제\n",
    "- 키 순서만 맞추고, 숫자 자체는 비교할 필요가 없으므로 heap 자료구조 사용하지 않아도 됨"
   ]
  },
  {
   "cell_type": "code",
   "execution_count": 12,
   "id": "ee4f1ce4",
   "metadata": {},
   "outputs": [
    {
     "name": "stdout",
     "output_type": "stream",
     "text": [
      "3 2\n",
      "1 3\n",
      "2 3\n",
      "1 2 3\n"
     ]
    }
   ],
   "source": [
    "from collections import deque\n",
    "\n",
    "n, m = map(int,input().split())\n",
    "indegree = [0] * (n+1)\n",
    "graph = [[] for _ in range(n+1)]\n",
    "\n",
    "ans = []\n",
    "for _ in range(m):\n",
    "    a, b = map(int,input().split())\n",
    "    graph[a].append(b) # 간선\n",
    "    indegree[b] += 1 # 차수 + 1\n",
    "    \n",
    "q = deque()\n",
    "for i in range(1,n+1):\n",
    "    if indegree[i] == 0:\n",
    "        q.append(i)\n",
    "\n",
    "while q:\n",
    "    p = q.popleft()\n",
    "    ans.append(p)\n",
    "    for i in graph[p]:\n",
    "        indegree[i] -= 1\n",
    "        if indegree[i] == 0:\n",
    "            q.append(i)\n",
    "            \n",
    "print(*ans)"
   ]
  },
  {
   "cell_type": "code",
   "execution_count": 8,
   "id": "a2451445",
   "metadata": {
    "scrolled": true
   },
   "outputs": [
    {
     "name": "stdout",
     "output_type": "stream",
     "text": [
      "3 2\n",
      "1 3\n",
      "2 3\n",
      "1 2 3\n"
     ]
    }
   ],
   "source": [
    "import heapq\n",
    "\n",
    "n, m = map(int,input().split())\n",
    "indegree = [0] * (n+1)\n",
    "graph = [[] for i in range(n+1)]\n",
    "ans = []\n",
    "for _ in range(m):\n",
    "    a, b = map(int,input().split())\n",
    "    graph[a].append(b)\n",
    "    indegree[b] += 1 # a -> b\n",
    "\n",
    "q = []\n",
    "for i in range(1,len(indegree)):\n",
    "    if indegree[i] == 0:\n",
    "        heapq.heappush(q, i)\n",
    "\n",
    "while q:\n",
    "    p = heapq.heappop(q)\n",
    "    ans.append(p)\n",
    "    for i in graph[p]: # 간선 제거\n",
    "        indegree[i] -= 1\n",
    "    \n",
    "        if indegree[i] == 0:\n",
    "            heapq.heappush(q, i)\n",
    "print(*ans)"
   ]
  }
 ],
 "metadata": {
  "kernelspec": {
   "display_name": "Python 3 (ipykernel)",
   "language": "python",
   "name": "python3"
  },
  "language_info": {
   "codemirror_mode": {
    "name": "ipython",
    "version": 3
   },
   "file_extension": ".py",
   "mimetype": "text/x-python",
   "name": "python",
   "nbconvert_exporter": "python",
   "pygments_lexer": "ipython3",
   "version": "3.8.12"
  }
 },
 "nbformat": 4,
 "nbformat_minor": 5
}
