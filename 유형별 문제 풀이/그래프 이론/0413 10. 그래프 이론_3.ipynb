{
 "cells": [
  {
   "cell_type": "markdown",
   "id": "85b12aa2",
   "metadata": {},
   "source": [
    "## 1. [[Boj] 2636. 치즈](https://www.acmicpc.net/problem/2636)"
   ]
  },
  {
   "cell_type": "code",
   "execution_count": 137,
   "id": "45cb5aa7",
   "metadata": {},
   "outputs": [
    {
     "name": "stdout",
     "output_type": "stream",
     "text": [
      "5 5\n",
      "0 0 0 0 0\n",
      "0 1 1 0 0\n",
      "0 1 0 1 0\n",
      "0 1 1 1 0\n",
      "0 0 0 0 0\n",
      "2\n",
      "7\n"
     ]
    }
   ],
   "source": [
    "from collections import deque\n",
    "\n",
    "n, m = map(int,input().split()) # 가로 * 세로\n",
    "arr = [list(map(int,input().split())) for _ in range(n)]\n",
    "\n",
    "dx = [0,0,+1,-1]\n",
    "dy = [+1,-1,0,0]\n",
    "t = 0\n",
    "answer = 0\n",
    "\n",
    "# 치즈가 하나라도 남아있을 때까지 반복\n",
    "while True:\n",
    "    # 치즈 개수 확인 (1의 개수)\n",
    "    cnt = 0\n",
    "    for i in range(n):\n",
    "        for j in range(m):\n",
    "            if arr[i][j] == 1:\n",
    "                cnt += 1\n",
    "    if cnt != 0:\n",
    "        answer = cnt\n",
    "    else:\n",
    "        break\n",
    "    \n",
    "    # 외곽 치즈 녹이기\n",
    "    t += 1\n",
    "    visited = [[False]* m for _ in range(n)]\n",
    "    # 0,0은 무조건 공기가 통함 (=치즈가 녹는 곳)\n",
    "    q = deque([(0,0)])\n",
    "    visited[0][0] = True\n",
    "\n",
    "    arr_copy = [i[:] for i in arr]\n",
    "    while q:\n",
    "        x, y = q.popleft()\n",
    "        for i in range(4):\n",
    "            nx = x + dx[i]\n",
    "            ny = y + dy[i]\n",
    "            if 0<=nx<n and 0<=ny<m and arr[nx][ny] == 0 and not visited[nx][ny]:\n",
    "                q.append((nx,ny))\n",
    "                visited[nx][ny] = True\n",
    "            if 0<=nx<n and 0<=ny<m and arr[nx][ny] == 1:\n",
    "                arr_copy[nx][ny] = 0 # 치즈 녹이기\n",
    "    arr = arr_copy\n",
    "\n",
    "print(t)\n",
    "print(answer)"
   ]
  },
  {
   "cell_type": "markdown",
   "id": "a75796c3",
   "metadata": {},
   "source": [
    "## 2. [[Boj] 11657. 타임머신](https://www.acmicpc.net/problem/11657)"
   ]
  },
  {
   "cell_type": "markdown",
   "id": "65058af9",
   "metadata": {},
   "source": [
    "### [<벨만 포드 알고리즘>](https://miin-z.tistory.com/40)"
   ]
  },
  {
   "cell_type": "code",
   "execution_count": 145,
   "id": "2b5d6449",
   "metadata": {
    "scrolled": true
   },
   "outputs": [],
   "source": [
    "INF = int(1e9)\n",
    "n, m = map(int,input().split()) # 노드 개수, 간선 개수\n",
    "edges = []\n",
    "for _ in range(m):\n",
    "    a, b, c = map(int,input().split())\n",
    "    edges.append((a,b,c))\n",
    "    \n",
    "dist = [INF] * (n+1)\n",
    "def bellman_ford(start):\n",
    "    dist[start] = 0\n",
    "    for i in range(n): # n번 반복\n",
    "        for j in range(m): # 매 반복마다 모든 간선을 확인\n",
    "            cur_node, next_node, cost = edges[j]\n",
    "            \n",
    "            # 현재 간선을 거쳐서 다른 노드로 이동하는 거리가 더 짧은 경우\n",
    "            if dist[cur_node] != INF and dist[cur_node] + cost < dist[next_node]:\n",
    "                dist[next_node] = dist[cur_node] + cost\n",
    "                # n번째 라운드에서도 값이 갱신된다면, 음수 간선 순환이 존재하는 것\n",
    "                if i == n-1:\n",
    "                    return True\n",
    "    return False\n",
    "\n",
    "# 순환이 있다면\n",
    "if bellman_ford(1):\n",
    "    print(-1)\n",
    "else:\n",
    "    for i in range(2,n+1):\n",
    "        if dist[i] != INF:\n",
    "            print(dist[i])\n",
    "        else:\n",
    "            print(-1)"
   ]
  },
  {
   "cell_type": "markdown",
   "id": "899bcc66",
   "metadata": {},
   "source": [
    "## 3. [[Boj] 2056. 작업](https://www.acmicpc.net/problem/2056)"
   ]
  },
  {
   "cell_type": "code",
   "execution_count": 63,
   "id": "32dea49f",
   "metadata": {},
   "outputs": [
    {
     "name": "stdout",
     "output_type": "stream",
     "text": [
      "7\n",
      "5 0\n",
      "3 0\n",
      "6 0\n",
      "1 0\n",
      "8 0\n",
      "4 0\n",
      "2 0\n",
      "2\n"
     ]
    }
   ],
   "source": [
    "from collections import deque\n",
    "\n",
    "n = int(input()) # 작업 개수\n",
    "time = [0]\n",
    "graph = [[] for _ in range(n+1)]\n",
    "indgree = [0] * (n+1)\n",
    "for i in range(1,n+1):\n",
    "    arr = list(map(int,input().split())) # 시간, 선행 작업 개수, 번호\n",
    "    time.append(arr[0])\n",
    "    indgree[i] += arr[1]\n",
    "    for j in arr[2:]:\n",
    "        graph[j].append(i)\n",
    "        \n",
    "q = deque([])\n",
    "work = [0] * (n+1)\n",
    "for i in range(1,n+1):\n",
    "    if indgree[i] == 0:\n",
    "        q.append(i)\n",
    "        work[i] = time[i]\n",
    "        \n",
    "while q:\n",
    "    i = q.popleft()\n",
    "    for j in graph[i]:\n",
    "        indgree[j] -= 1\n",
    "        work[j] = max(work[j], work[i] + time[j])\n",
    "        \n",
    "        if indgree[j] == 0:\n",
    "            q.append(j)\n",
    "            \n",
    "print(max(work))"
   ]
  },
  {
   "cell_type": "code",
   "execution_count": 64,
   "id": "85969155",
   "metadata": {},
   "outputs": [
    {
     "data": {
      "text/plain": [
       "[[], [], [], [], [], [], [], []]"
      ]
     },
     "execution_count": 64,
     "metadata": {},
     "output_type": "execute_result"
    }
   ],
   "source": [
    "graph"
   ]
  },
  {
   "cell_type": "code",
   "execution_count": 65,
   "id": "4fa2da0c",
   "metadata": {},
   "outputs": [
    {
     "data": {
      "text/plain": [
       "([0, 5, 3, 6, 1, 8, 4, 2], [0, 5, 3, 6, 1, 8, 4, 2])"
      ]
     },
     "execution_count": 65,
     "metadata": {},
     "output_type": "execute_result"
    }
   ],
   "source": [
    "time, work"
   ]
  }
 ],
 "metadata": {
  "kernelspec": {
   "display_name": "Python 3 (ipykernel)",
   "language": "python",
   "name": "python3"
  },
  "language_info": {
   "codemirror_mode": {
    "name": "ipython",
    "version": 3
   },
   "file_extension": ".py",
   "mimetype": "text/x-python",
   "name": "python",
   "nbconvert_exporter": "python",
   "pygments_lexer": "ipython3",
   "version": "3.8.12"
  }
 },
 "nbformat": 4,
 "nbformat_minor": 5
}
