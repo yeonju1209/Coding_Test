{
 "cells": [
  {
   "cell_type": "markdown",
   "id": "f3ac8798",
   "metadata": {},
   "source": [
    "# 1. [동전 뒤집기](https://www.acmicpc.net/problem/1285)"
   ]
  },
  {
   "cell_type": "code",
   "execution_count": 278,
   "id": "f7f08d7d",
   "metadata": {},
   "outputs": [
    {
     "data": {
      "text/plain": [
       "(1, 1, 2, 4, 8, 16)"
      ]
     },
     "execution_count": 278,
     "metadata": {},
     "output_type": "execute_result"
    }
   ],
   "source": [
    "1, 1<<0, 1<<1, 1<<2, 1<<3, 1<<4"
   ]
  },
  {
   "cell_type": "code",
   "execution_count": 277,
   "id": "34d05d00",
   "metadata": {},
   "outputs": [
    {
     "data": {
      "text/plain": [
       "([['H', 'H', 'T'], ['T', 'H', 'H'], ['T', 'H', 'T']],\n",
       " [['H', 'H', 'T'], ['T', 'H', 'H'], ['T', 'H', 'T']])"
      ]
     },
     "execution_count": 277,
     "metadata": {},
     "output_type": "execute_result"
    }
   ],
   "source": [
    "[coin[i][:] for i in range(n)], coin[:] #깊은 복사 안됨"
   ]
  },
  {
   "cell_type": "code",
   "execution_count": 297,
   "id": "66ea7326",
   "metadata": {},
   "outputs": [
    {
     "name": "stdout",
     "output_type": "stream",
     "text": [
      "3\n",
      "HHT\n",
      "THH\n",
      "THT\n",
      "2\n"
     ]
    }
   ],
   "source": [
    "n = int(input())\n",
    "coin = [list(input()) for _ in range(n)]\n",
    "ans = 400 # n*n\n",
    "# ans = n * n + 1\n",
    "\n",
    "for bit in range(1<<n): # 2^N가지 경우(어떤 행을 뒤집을 건지 선택하기)\n",
    "    tmp = [coin[i][:] for i in range(n)]\n",
    "    for i in range(n): # N까지 (행)\n",
    "        if bit & (1<<i): # 뒤집을 행은 bit에서 1로 표현됨\n",
    "            for j in range(n): # 행에 있는 인덱스 하나씩\n",
    "                if tmp[i][j] == 'H':\n",
    "                    tmp[i][j] = 'T'\n",
    "                else:\n",
    "                    tmp[i][j] = 'H'\n",
    "    \n",
    "    # 행을 뒤집어 놓은 상태에서,열 관찰\n",
    "    tot = 0\n",
    "    for i in range(n): # 1열 ~\n",
    "        cnt = 0\n",
    "        for j in range(n): #열의 각 인덱스가 T인 개수 세기\n",
    "            if tmp[j][i] == 'T':\n",
    "                cnt += 1\n",
    "        tot += min(cnt,n-cnt) # 더 작은 값으로 tot에 더해주기(뒤집을지 말지)\n",
    "    ans = min(ans,tot)\n",
    "\n",
    "print(ans)"
   ]
  },
  {
   "cell_type": "markdown",
   "id": "d836e373",
   "metadata": {},
   "source": [
    "# 2. [회의실 배정](https://www.acmicpc.net/problem/1931)\n",
    "- 끝나는 시간이 가장 빠른 회의를 선택"
   ]
  },
  {
   "cell_type": "code",
   "execution_count": 310,
   "id": "7a308099",
   "metadata": {},
   "outputs": [
    {
     "name": "stdout",
     "output_type": "stream",
     "text": [
      "5\n",
      "6 7\n",
      "6 6\n",
      "5 6\n",
      "5 5\n",
      "7 7\n",
      "5\n"
     ]
    }
   ],
   "source": [
    "n = int(input())\n",
    "arr = []\n",
    "for _ in range(n):\n",
    "    arr.append(list(map(int,input().split())))\n",
    "\n",
    "start = 0\n",
    "cnt = 0\n",
    "sorted_arr = sorted(arr, key=lambda x:(x[1],x[0]))\n",
    "\n",
    "for i in range(len(sorted_arr)):\n",
    "    if sorted_arr[i][0] >= start:\n",
    "        cnt += 1\n",
    "        start = sorted_arr[i][1]\n",
    "#         print(sorted_arr[i])\n",
    "print(cnt)"
   ]
  },
  {
   "cell_type": "markdown",
   "id": "b106812f",
   "metadata": {},
   "source": [
    "# 3. [AB](https://www.acmicpc.net/problem/12970)\n",
    "정수 N과 K가 주어졌을 때, 다음 두 조건을 만족하는 문자열 S를 찾는 프로그램을 작성하시오.\n",
    "\n",
    "- 문자열 S의 길이는 N이고, 'A', 'B'로 이루어져 있다.\n",
    "- 문자열 S에는 0 ≤ i < j < N 이면서 s[i] == 'A' && s[j] == 'B'를 만족하는 (i, j) 쌍이 K개가 있다."
   ]
  },
  {
   "cell_type": "code",
   "execution_count": 250,
   "id": "3aecf017",
   "metadata": {},
   "outputs": [
    {
     "name": "stdout",
     "output_type": "stream",
     "text": [
      "10 12\n",
      "AABBBABBAA\n"
     ]
    }
   ],
   "source": [
    "n, k = map(int,input().split())\n",
    "a = n//2\n",
    "b = n-a\n",
    "\n",
    "if k > a*b:\n",
    "    print(-1)\n",
    "elif k == a*b:\n",
    "    print('A'*a+'B'*b+'A'*(n-a-b))\n",
    "else:\n",
    "    for i in range(1+a):\n",
    "        if i*b <= k <(i+1)*b:\n",
    "#             print(i,b)\n",
    "            diff = k - i*b\n",
    "            print('A'*i + 'B'*(b-diff) + 'A' + 'B'*diff+'A'*(n-i-1-b))"
   ]
  }
 ],
 "metadata": {
  "kernelspec": {
   "display_name": "Python 3 (ipykernel)",
   "language": "python",
   "name": "python3"
  },
  "language_info": {
   "codemirror_mode": {
    "name": "ipython",
    "version": 3
   },
   "file_extension": ".py",
   "mimetype": "text/x-python",
   "name": "python",
   "nbconvert_exporter": "python",
   "pygments_lexer": "ipython3",
   "version": "3.8.12"
  }
 },
 "nbformat": 4,
 "nbformat_minor": 5
}
