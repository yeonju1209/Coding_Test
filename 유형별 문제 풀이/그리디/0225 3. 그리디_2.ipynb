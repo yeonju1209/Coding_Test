{
 "cells": [
  {
   "cell_type": "markdown",
   "id": "481a5664",
   "metadata": {},
   "source": [
    "## [[Boj] 2437. 저울](https://www.acmicpc.net/problem/2437)"
   ]
  },
  {
   "cell_type": "code",
   "execution_count": 139,
   "id": "d8835c15",
   "metadata": {},
   "outputs": [
    {
     "name": "stdout",
     "output_type": "stream",
     "text": [
      "7\n",
      "3 1 6 2 7 30 1\n",
      "21\n"
     ]
    }
   ],
   "source": [
    "n = int(input())\n",
    "arr = list(map(int,input().split()))\n",
    "arr.sort()\n",
    "\n",
    "# 누적합 계산\n",
    "cumsum = 0\n",
    "for w in arr:\n",
    "    if cumsum + 1 < w:\n",
    "        break\n",
    "    cumsum += w\n",
    "print(cumsum + 1)"
   ]
  },
  {
   "cell_type": "markdown",
   "id": "513252c5",
   "metadata": {},
   "source": [
    "## [[Boj] 16953. A -> B](https://www.acmicpc.net/problem/16953)\n",
    "```\n",
    "1) 그리디\n",
    "2) BFS\n",
    "```"
   ]
  },
  {
   "cell_type": "code",
   "execution_count": 88,
   "id": "874b4c8e",
   "metadata": {},
   "outputs": [
    {
     "name": "stdout",
     "output_type": "stream",
     "text": [
      "4 42\n",
      "-1\n"
     ]
    }
   ],
   "source": [
    "a, b = map(int,input().split())\n",
    "cnt = 1\n",
    "\n",
    "while a != b:\n",
    "    if b < a:\n",
    "        print(-1)\n",
    "        break\n",
    "        \n",
    "    if b%10 == 1:\n",
    "        b //= 10\n",
    "    elif b%2 == 0:\n",
    "        b//=2\n",
    "    else:\n",
    "        print(-1)\n",
    "        break\n",
    "        \n",
    "    cnt += 1\n",
    "#     print(b)\n",
    "\n",
    "else:\n",
    "    print(cnt)"
   ]
  },
  {
   "cell_type": "code",
   "execution_count": 181,
   "id": "b1b9272e",
   "metadata": {},
   "outputs": [
    {
     "name": "stdout",
     "output_type": "stream",
     "text": [
      "100 40021\n",
      "5\n"
     ]
    }
   ],
   "source": [
    "from collections import deque\n",
    "\n",
    "def bfs(a,b):\n",
    "    q = deque([[a]])\n",
    "    cnt = 1\n",
    "    while q:\n",
    "        tmp = []\n",
    "        for p in q.popleft():\n",
    "#             print(p)\n",
    "            if p == b:\n",
    "                return cnt\n",
    "            if p*2 <= b:\n",
    "                tmp.append(p*2)\n",
    "            if 10*p +1 <= b:\n",
    "                tmp.append(10*p +1)\n",
    "        if tmp:\n",
    "            q.append(tmp)\n",
    "        cnt += 1\n",
    "#         print(q)\n",
    "        \n",
    "    return -1\n",
    "\n",
    "a, b = map(int,input().split())\n",
    "print(bfs(a,b))"
   ]
  },
  {
   "cell_type": "markdown",
   "id": "9c5faf72",
   "metadata": {},
   "source": [
    "## [[Boj] 3109. 빵집](https://www.acmicpc.net/problem/3109)"
   ]
  },
  {
   "cell_type": "code",
   "execution_count": 176,
   "id": "b607adee",
   "metadata": {},
   "outputs": [
    {
     "name": "stdout",
     "output_type": "stream",
     "text": [
      "6 10\n",
      "..x.......\n",
      ".....x....\n",
      ".x....x...\n",
      "...x...xx.\n",
      "..........\n",
      "....x.....\n",
      "5\n"
     ]
    }
   ],
   "source": [
    "r, c = map(int,input().split())\n",
    "arr = [list(input()) for _ in  range(r)]\n",
    "visited = [[False]*c for _ in range(r)]\n",
    "\n",
    "dx = (-1,0,1) # 오른쪽 위, 오른쪽, 오른쪽 아래 순서로 탐색\n",
    "dy = (1,1,1)\n",
    "\n",
    "def dfs(x,y):\n",
    "    visited[x][y] = True\n",
    "    if y == c-1:\n",
    "        return True\n",
    "    \n",
    "    for i in range(3):\n",
    "        nx = x + dx[i]\n",
    "        ny = y + dy[i]\n",
    "        if 0<=nx<r and 0<=ny<c:\n",
    "            if not visited[nx][ny] and arr[nx][ny] == '.':\n",
    "                flag = dfs(nx,ny)\n",
    "                if flag:\n",
    "                    return flag\n",
    "    return False\n",
    "\n",
    "ans = 0\n",
    "for i in range(r):\n",
    "    ans += dfs(i,0)\n",
    "print(ans)"
   ]
  }
 ],
 "metadata": {
  "kernelspec": {
   "display_name": "Python 3 (ipykernel)",
   "language": "python",
   "name": "python3"
  },
  "language_info": {
   "codemirror_mode": {
    "name": "ipython",
    "version": 3
   },
   "file_extension": ".py",
   "mimetype": "text/x-python",
   "name": "python",
   "nbconvert_exporter": "python",
   "pygments_lexer": "ipython3",
   "version": "3.8.12"
  }
 },
 "nbformat": 4,
 "nbformat_minor": 5
}
