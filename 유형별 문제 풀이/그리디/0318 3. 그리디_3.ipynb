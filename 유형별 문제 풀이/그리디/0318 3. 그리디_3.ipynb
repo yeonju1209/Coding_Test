{
 "cells": [
  {
   "cell_type": "markdown",
   "id": "484d3557",
   "metadata": {},
   "source": [
    "## 3. [[Boj] 1339. 단어 수학](https://www.acmicpc.net/problem/1339)\n",
    "\n",
    "- 각 알파벳에 해당하는 숫자를 임의의 변수로 두고, $10^0$의 자리, $10^1$의 자리, $10^2$, .. 등 각자 자리에 해당하는 값을 곱해주어 더함\n",
    "\n",
    "ex) GCF -> 100 * g + 10 * c + 1 * F"
   ]
  },
  {
   "cell_type": "code",
   "execution_count": 60,
   "id": "3e8524a8",
   "metadata": {},
   "outputs": [
    {
     "data": {
      "text/plain": [
       "({'G': 100, 'C': 1010, 'F': 1, 'A': 10000, 'D': 100, 'E': 10, 'B': 1},\n",
       " ['GCF', 'ACDEB'])"
      ]
     },
     "execution_count": 60,
     "metadata": {},
     "output_type": "execute_result"
    }
   ],
   "source": [
    "dic, arr"
   ]
  },
  {
   "cell_type": "code",
   "execution_count": 63,
   "id": "b4cef6b7",
   "metadata": {},
   "outputs": [
    {
     "name": "stdout",
     "output_type": "stream",
     "text": [
      "10\n",
      "abb\n",
      "bb\n",
      "bb\n",
      "bb\n",
      "bb\n",
      "bb\n",
      "bb\n",
      "bb\n",
      "bb\n",
      "bb\n",
      "1790\n"
     ]
    }
   ],
   "source": [
    "dic = {}\n",
    "n = int(input())\n",
    "arr = []\n",
    "for _ in range(n):\n",
    "    tmp = input()\n",
    "    len_tmp = len(tmp)\n",
    "    for i in range(len_tmp): # 끝에서부터 0까지\n",
    "        dic[tmp[i]] = dic.get(tmp[i],0) + 10**(len_tmp-1-i) # 숫자를 다 더하고 시작함\n",
    "\n",
    "num = 9\n",
    "tot = 0\n",
    "for k, v in sorted(dic.items(), key=lambda x:x[1], reverse=True):\n",
    "    tot += num * v\n",
    "    num -= 1\n",
    "print(tot)"
   ]
  },
  {
   "cell_type": "markdown",
   "id": "efb7be54",
   "metadata": {},
   "source": [
    "- 틀림\n",
    "\n",
    "- 더 높은 자리수에서 나오는 것부터 9, 8, 7, .. 배정했는데, 그보다 아래 자리수에서 동일한 알파벳이 많이 나오면 최댓값이 아닐 수도 있음\n",
    "```\n",
    "반례)\n",
    "10\n",
    "abb\n",
    "bb\n",
    "bb\n",
    "bb\n",
    "bb\n",
    "bb\n",
    "bb\n",
    "bb\n",
    "bb\n",
    "bb\n",
    "답: 1790\n",
    "```"
   ]
  },
  {
   "cell_type": "code",
   "execution_count": 37,
   "id": "3f85558e",
   "metadata": {},
   "outputs": [
    {
     "name": "stdout",
     "output_type": "stream",
     "text": [
      "10\n",
      "abb\n",
      "bb\n",
      "bb\n",
      "bb\n",
      "bb\n",
      "bb\n",
      "bb\n",
      "bb\n",
      "bb\n",
      "bb\n",
      "1780\n"
     ]
    }
   ],
   "source": [
    "n = int(input())\n",
    "arr = []\n",
    "for _ in range(n):\n",
    "    tmp = input()\n",
    "    tmp = [''] * (10 - len(tmp)) + list(tmp)\n",
    "    arr.append(tmp)\n",
    "\n",
    "dic = {}\n",
    "num = 9\n",
    "for j in range(10):\n",
    "    for i in range(n):\n",
    "        if arr[i][j] != '':\n",
    "            if arr[i][j] not in dic:\n",
    "                dic[arr[i][j]] = str(num) # dic에 추가\n",
    "                arr[i][j] = str(num) # 숫자로 변환\n",
    "                num -= 1\n",
    "            else:\n",
    "                arr[i][j] = dic[arr[i][j]]\n",
    "                \n",
    "# print(arr)\n",
    "ans = 0\n",
    "for a in arr:\n",
    "    ans += int(''.join(a))\n",
    "print(ans)"
   ]
  },
  {
   "cell_type": "markdown",
   "id": "a3d01a4e",
   "metadata": {},
   "source": [
    "## 2. [[Boj] 1826. 연료 채우기](https://www.acmicpc.net/problem/1826)\n",
    "\n",
    "- 시작 위치(0)에서 도달할 수 있는 위치(연료 최대값)까지의 주유소 중 가장 많은 연료를 가지는 곳에서 멈춤"
   ]
  },
  {
   "cell_type": "code",
   "execution_count": 88,
   "id": "6783e796",
   "metadata": {},
   "outputs": [
    {
     "data": {
      "text/plain": [
       "{4: 4, 5: 2, 11: 5, 15: 10}"
      ]
     },
     "execution_count": 88,
     "metadata": {},
     "output_type": "execute_result"
    }
   ],
   "source": [
    "loc"
   ]
  },
  {
   "cell_type": "code",
   "execution_count": 100,
   "id": "44eeec1e",
   "metadata": {},
   "outputs": [
    {
     "name": "stdout",
     "output_type": "stream",
     "text": [
      "4\n",
      "4 4\n",
      "5 2\n",
      "11 5\n",
      "15 10\n",
      "25 10\n",
      "3\n"
     ]
    }
   ],
   "source": [
    "n = int(input()) # 주유소 개수\n",
    "loc = {}\n",
    "for _ in range(n):\n",
    "    a, b = map(int,input().split())\n",
    "    loc[a] = b\n",
    "l, p = map(int,input().split()) # l: 마을까지의 거리, p: 트럭에 원래 있던 연료의 양\n",
    "\n",
    "cnt = 0\n",
    "while p < l: ## p >= l이 되면 마을에 도착한 것이므로 반복할 필요가 없음.\n",
    "    max_dist = 0\n",
    "    max_fuel = 0\n",
    "    for dist, fuel in loc.items():\n",
    "        if dist <= p:\n",
    "            if fuel > max_fuel:\n",
    "                max_fuel = fuel\n",
    "                max_dist = dist\n",
    "\n",
    "                \n",
    "    if max_dist == 0: # \n",
    "        print(-1)\n",
    "        break\n",
    "    p += max_fuel\n",
    "    del loc[max_dist]\n",
    "    cnt += 1\n",
    "else:\n",
    "    print(cnt)"
   ]
  },
  {
   "cell_type": "markdown",
   "id": "8264708b",
   "metadata": {},
   "source": [
    "## 3. [[Boj] 13904. 과제](https://www.acmicpc.net/problem/13904)\n",
    "- 과제를 점수가 높은 순으로 정렬하고, 최대한 마감 날짜에 가깝게 할당한다."
   ]
  },
  {
   "cell_type": "code",
   "execution_count": 107,
   "id": "8ed62f2f",
   "metadata": {},
   "outputs": [
    {
     "data": {
      "text/plain": [
       "([[4, 60], [4, 40], [1, 20], [2, 50], [3, 30], [4, 10], [6, 5]], 6)"
      ]
     },
     "execution_count": 107,
     "metadata": {},
     "output_type": "execute_result"
    }
   ],
   "source": [
    "arr, max_day"
   ]
  },
  {
   "cell_type": "code",
   "execution_count": 112,
   "id": "12d2dcf7",
   "metadata": {},
   "outputs": [
    {
     "data": {
      "text/plain": [
       "[[4, 60], [2, 50], [4, 40], [3, 30], [1, 20], [4, 10], [6, 5]]"
      ]
     },
     "execution_count": 112,
     "metadata": {},
     "output_type": "execute_result"
    }
   ],
   "source": [
    "sorted(arr, key=lambda x:(-x[1],x[0]))"
   ]
  },
  {
   "cell_type": "code",
   "execution_count": 126,
   "id": "21a353c3",
   "metadata": {},
   "outputs": [
    {
     "name": "stdout",
     "output_type": "stream",
     "text": [
      "7\n",
      "4 60\n",
      "4 40\n",
      "1 20\n",
      "2 50\n",
      "3 30\n",
      "4 10\n",
      "6 5\n",
      "185\n"
     ]
    }
   ],
   "source": [
    "n = int(input())\n",
    "arr = []\n",
    "max_day = 0\n",
    "for _ in range(n):\n",
    "    arr.append(list(map(int,input().split())))\n",
    "    max_day = max(max_day, arr[-1][0])\n",
    "\n",
    "day = [0] * (max_day + 1)\n",
    "day[0] = 100 # 0번째 날은 아무것도 안하는 날\n",
    "# 다른 날에 어떤 과제를 하는지 정해지지 않은 것을 0으로 판단할 것이므로, 아무것도 안하는 날인 0번째 날은 다른 값으로 표시해야 함\n",
    "\n",
    "for due_date, score in sorted(arr, key=lambda x:-x[1]): # 점수가 높은 순으로 정렬\n",
    "    # due_date 크기 설정 안해주면 계속 작아지면서 오류가 발생하거나 이상한 인덱스 가리킴(마이너스 값)\n",
    "    while due_date >=1 and day[due_date] != 0: # 0이 될때까지 due date를 빼서 만들어주고\n",
    "        due_date -= 1\n",
    "    if due_date != 0: # 자리가 없다면(due_date==-1) 넘어가고,\n",
    "        day[due_date] = score # 자리가 있으면, 0인 부분에 도착했을 때, 업데이트\n",
    "#     print(day)\n",
    "print(sum(day[1:]))"
   ]
  }
 ],
 "metadata": {
  "kernelspec": {
   "display_name": "Python 3 (ipykernel)",
   "language": "python",
   "name": "python3"
  },
  "language_info": {
   "codemirror_mode": {
    "name": "ipython",
    "version": 3
   },
   "file_extension": ".py",
   "mimetype": "text/x-python",
   "name": "python",
   "nbconvert_exporter": "python",
   "pygments_lexer": "ipython3",
   "version": "3.8.12"
  }
 },
 "nbformat": 4,
 "nbformat_minor": 5
}
