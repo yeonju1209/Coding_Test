{
 "cells": [
  {
   "cell_type": "markdown",
   "id": "4938f824",
   "metadata": {},
   "source": [
    "## 1. [[Boj] 2138. 전구와 스위치](https://www.acmicpc.net/problem/2138)"
   ]
  },
  {
   "cell_type": "code",
   "execution_count": 316,
   "id": "f060a38d",
   "metadata": {},
   "outputs": [
    {
     "name": "stdout",
     "output_type": "stream",
     "text": [
      "3\n",
      "000\n",
      "010\n",
      "3\n"
     ]
    }
   ],
   "source": [
    "def switch(arr):\n",
    "    cnt = 0\n",
    "    for i in range(1,n):\n",
    "        if arr[i-1] != target[i-1]: # 목표값이랑 다르면 바꿔준다.\n",
    "            cnt += 1\n",
    "            arr[i-1] = 1 - arr[i-1]\n",
    "            arr[i] = 1 - arr[i]\n",
    "            if i!= n-1:\n",
    "                arr[i+1] = 1 - arr[i+1]\n",
    "            \n",
    "    if arr == target:\n",
    "        return cnt\n",
    "    return -1\n",
    "\n",
    "n = int(input())\n",
    "arr = list(map(int,list(input())))\n",
    "target = list(map(int,list(input())))\n",
    "\n",
    "## i번째 스위치를 누를 때, i-1번째 배열의 상황만 고려한다.\n",
    "# arr1: 1번째 스위치를 누르는 경우\n",
    "# arr2: 1번째 스위치를 누르지 않는 경우\n",
    "\n",
    "arr1, arr2 = arr[:], arr[:]\n",
    "for i in range(2):\n",
    "    arr1[i] = 1 - arr1[i]\n",
    "\n",
    "res1, res2 = switch(arr1), switch(arr2)\n",
    "if (res1, res2) == (-1,-1):\n",
    "    print(-1)\n",
    "elif res1 == -1:\n",
    "    print(res2)\n",
    "elif res2 == -1:\n",
    "    print(res1+1)\n",
    "else:\n",
    "    print(min(res1+1,res2))"
   ]
  },
  {
   "cell_type": "markdown",
   "id": "1f07956d",
   "metadata": {},
   "source": [
    "## 2. [[Boj] 2109. 순회강연](https://www.acmicpc.net/problem/2109)"
   ]
  },
  {
   "cell_type": "code",
   "execution_count": 135,
   "id": "4481bda3",
   "metadata": {
    "scrolled": true
   },
   "outputs": [
    {
     "name": "stdout",
     "output_type": "stream",
     "text": [
      "7\n",
      "20 1\n",
      "2 1\n",
      "10 3\n",
      "100 2\n",
      "8 2\n",
      "5 20\n",
      "50 10\n",
      "185\n"
     ]
    }
   ],
   "source": [
    "import heapq\n",
    "\n",
    "n = int(input())\n",
    "arr = []\n",
    "max_day = 0\n",
    "for _ in range(n):\n",
    "    p, d = map(int,input().split())\n",
    "    max_day = max(max_day, d)\n",
    "    arr.append([p,d])\n",
    "# 강연료, 마감날짜를 마감날짜 역순으로 정렬(늦게 끝나는 순서대로)\n",
    "arr = sorted(arr, key=lambda x:-x[1])\n",
    "\n",
    "ans = 0\n",
    "q = []\n",
    "i = 0\n",
    "for day in range(max_day,0,-1):\n",
    "    while i < n and arr[i][1] >= day:\n",
    "        heapq.heappush(q, -arr[i][0]) #최대 힙\n",
    "        i += 1\n",
    "    \n",
    "    if q:\n",
    "        ans -= heapq.heappop(q)\n",
    "print(ans)"
   ]
  },
  {
   "cell_type": "markdown",
   "id": "1e5bcca0",
   "metadata": {},
   "source": [
    "## 3. [[Boj] 1052. 물병](https://www.acmicpc.net/problem/1052)"
   ]
  },
  {
   "cell_type": "code",
   "execution_count": 263,
   "id": "51fee489",
   "metadata": {},
   "outputs": [
    {
     "data": {
      "text/plain": [
       "'1111101000'"
      ]
     },
     "execution_count": 263,
     "metadata": {},
     "output_type": "execute_result"
    }
   ],
   "source": [
    "bin(1000).lstrip('0b')"
   ]
  },
  {
   "cell_type": "code",
   "execution_count": 290,
   "id": "80dcda80",
   "metadata": {},
   "outputs": [
    {
     "name": "stdout",
     "output_type": "stream",
     "text": [
      "8 8\n",
      "0\n"
     ]
    }
   ],
   "source": [
    "n, k = map(int,input().split())\n",
    "a = bin(n).lstrip('0b')\n",
    "\n",
    "if a.count('1') <= k:\n",
    "    print(0)\n",
    "    \n",
    "else:\n",
    "    cnt = 0\n",
    "    for i in range(len(a)):\n",
    "        if a[i] == '1':\n",
    "            cnt += 1\n",
    "        if cnt == k:\n",
    "            break\n",
    "\n",
    "    tmp_sum = 0\n",
    "    len_a = len(a)\n",
    "    for j in range(i+1, len_a):\n",
    "        if a[j] == '1':\n",
    "            tmp_sum += 2**(len_a-j-1)\n",
    "    print(2**(len_a-i-1) - tmp_sum)"
   ]
  }
 ],
 "metadata": {
  "kernelspec": {
   "display_name": "Python 3 (ipykernel)",
   "language": "python",
   "name": "python3"
  },
  "language_info": {
   "codemirror_mode": {
    "name": "ipython",
    "version": 3
   },
   "file_extension": ".py",
   "mimetype": "text/x-python",
   "name": "python",
   "nbconvert_exporter": "python",
   "pygments_lexer": "ipython3",
   "version": "3.8.12"
  }
 },
 "nbformat": 4,
 "nbformat_minor": 5
}
