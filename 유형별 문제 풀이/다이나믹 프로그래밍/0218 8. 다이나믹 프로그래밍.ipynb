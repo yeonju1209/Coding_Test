{
 "cells": [
  {
   "cell_type": "markdown",
   "id": "ee5bb103",
   "metadata": {},
   "source": [
    "# DP\n",
    "- 완전 탐색 알고리즘으로 접근했을 때, 시간이 매우 오래 걸릴 경우\n",
    "- 해결하고자 하는 부분 문제들의 중복 여부를 확인해보기"
   ]
  },
  {
   "cell_type": "markdown",
   "id": "f211f678",
   "metadata": {},
   "source": [
    "## [1. 가장 긴 증가하는 부분 수열](https://www.acmicpc.net/problem/11053)"
   ]
  },
  {
   "cell_type": "markdown",
   "id": "4da4c33d",
   "metadata": {},
   "source": [
    "- n <= 1000\n"
   ]
  },
  {
   "cell_type": "code",
   "execution_count": 27,
   "id": "f234d69b",
   "metadata": {},
   "outputs": [
    {
     "name": "stdout",
     "output_type": "stream",
     "text": [
      "6\n",
      "[1, 2, 3, 4, 3, 5, 6, 4, 5]\n"
     ]
    }
   ],
   "source": [
    "n = int(input())\n",
    "arr = list(map(int,input().split()))\n",
    "\n",
    "dp = [1] * n\n",
    "for i in range(1,n):\n",
    "    # 자기 자리 앞 수열까지 하나씩 다시 살펴보며 업데이트\n",
    "    for j in range(i):\n",
    "        if arr[i] > arr[j]:\n",
    "            dp[i] = max(dp[i], dp[j] + 1)\n",
    "print(max(dp))\n",
    "print(dp)"
   ]
  },
  {
   "cell_type": "markdown",
   "id": "4d96009b",
   "metadata": {},
   "source": [
    "## [2. LCS](https://www.acmicpc.net/problem/9251)\n",
    "- [최장 공통 부분수열(Longest Common Ssubsequence) 알고리즘 참고](https://velog.io/@emplam27/%EC%95%8C%EA%B3%A0%EB%A6%AC%EC%A6%98-%EA%B7%B8%EB%A6%BC%EC%9C%BC%EB%A1%9C-%EC%95%8C%EC%95%84%EB%B3%B4%EB%8A%94-LCS-%EC%95%8C%EA%B3%A0%EB%A6%AC%EC%A6%98-Longest-Common-Substring%EC%99%80-Longest-Common-Subsequence)"
   ]
  },
  {
   "cell_type": "code",
   "execution_count": 70,
   "id": "1e953418",
   "metadata": {},
   "outputs": [
    {
     "name": "stdout",
     "output_type": "stream",
     "text": [
      "acaykp\n",
      "capcak\n",
      "4\n"
     ]
    },
    {
     "data": {
      "text/plain": [
       "[[0, 0, 0, 0, 0, 0, 0],\n",
       " [0, 0, 1, 1, 1, 1, 1],\n",
       " [0, 1, 1, 2, 2, 2, 2],\n",
       " [0, 1, 1, 2, 2, 2, 3],\n",
       " [0, 1, 2, 2, 2, 2, 3],\n",
       " [0, 1, 2, 3, 3, 3, 3],\n",
       " [0, 1, 2, 3, 3, 4, 4]]"
      ]
     },
     "execution_count": 70,
     "metadata": {},
     "output_type": "execute_result"
    }
   ],
   "source": [
    "s1 = input()\n",
    "s2 = input()\n",
    "arr = [[0]*(len(s1)+1) for _ in range(len(s2)+1)]\n",
    "\n",
    "for i in range(1,len(s2)+1):\n",
    "    for j in range(1,len(s1)+1):\n",
    "        if s2[i-1] == s1[j-1]:\n",
    "            arr[i][j] = arr[i-1][j-1] + 1\n",
    "        else:\n",
    "            arr[i][j] = max(arr[i][j-1], arr[i-1][j])\n",
    "            \n",
    "print(max([max(i) for i in arr]))\n",
    "arr"
   ]
  },
  {
   "cell_type": "markdown",
   "id": "4f6127d2",
   "metadata": {},
   "source": [
    "## [3. 평범한 배낭](https://www.acmicpc.net/problem/12865)"
   ]
  },
  {
   "cell_type": "markdown",
   "id": "d273fc7c",
   "metadata": {},
   "source": [
    "#### O"
   ]
  },
  {
   "cell_type": "code",
   "execution_count": 14,
   "id": "cd46260e",
   "metadata": {
    "scrolled": true
   },
   "outputs": [
    {
     "name": "stdout",
     "output_type": "stream",
     "text": [
      "1 2\n",
      "1 3\n",
      "3\n"
     ]
    }
   ],
   "source": [
    "n, k = map(int,input().split())\n",
    "dp = [[0] * (k+1) for _ in range(n+1)]\n",
    "\n",
    "for i in range(1,n+1):\n",
    "    w, v = map(int,input().split())\n",
    "    for j in range(k+1):\n",
    "        if j < w:\n",
    "            dp[i][j] = dp[i-1][j]\n",
    "        else:\n",
    "            dp[i][j] = max(dp[i-1][j], dp[i-1][j-w] + v)\n",
    "print(dp[n][k])"
   ]
  },
  {
   "cell_type": "code",
   "execution_count": 13,
   "id": "e2bb2d70",
   "metadata": {},
   "outputs": [
    {
     "data": {
      "text/plain": [
       "[[0, 0, 0], [0, 3, 3]]"
      ]
     },
     "execution_count": 13,
     "metadata": {},
     "output_type": "execute_result"
    }
   ],
   "source": [
    "dp"
   ]
  },
  {
   "cell_type": "markdown",
   "id": "c0efbca3",
   "metadata": {},
   "source": [
    "#### X"
   ]
  },
  {
   "cell_type": "code",
   "execution_count": 11,
   "id": "f8129fce",
   "metadata": {},
   "outputs": [
    {
     "name": "stdout",
     "output_type": "stream",
     "text": [
      "1 2\n",
      "1 3\n",
      "6\n"
     ]
    },
    {
     "data": {
      "text/plain": [
       "[0, 3, 6]"
      ]
     },
     "execution_count": 11,
     "metadata": {},
     "output_type": "execute_result"
    }
   ],
   "source": [
    "n, k = map(int,input().split())\n",
    "dp = [0] * (k+1)\n",
    "\n",
    "for i in range(1,n+1):\n",
    "    w, v = map(int,input().split())\n",
    "    for j in range(w, k+1):\n",
    "        dp[j] = max(dp[j], dp[j-w] + v)\n",
    "print(dp[-1])\n",
    "dp"
   ]
  }
 ],
 "metadata": {
  "kernelspec": {
   "display_name": "Python 3 (ipykernel)",
   "language": "python",
   "name": "python3"
  },
  "language_info": {
   "codemirror_mode": {
    "name": "ipython",
    "version": 3
   },
   "file_extension": ".py",
   "mimetype": "text/x-python",
   "name": "python",
   "nbconvert_exporter": "python",
   "pygments_lexer": "ipython3",
   "version": "3.8.12"
  }
 },
 "nbformat": 4,
 "nbformat_minor": 5
}
