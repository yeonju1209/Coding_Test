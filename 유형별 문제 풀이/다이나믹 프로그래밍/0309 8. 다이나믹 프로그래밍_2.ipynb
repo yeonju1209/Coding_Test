{
 "cells": [
  {
   "cell_type": "markdown",
   "id": "1b763a6a",
   "metadata": {},
   "source": [
    "## [[Boj] 10942. 팰린드롬?](https://www.acmicpc.net/problem/10942)"
   ]
  },
  {
   "cell_type": "markdown",
   "id": "167a0325",
   "metadata": {},
   "source": [
    "- 시간 초과"
   ]
  },
  {
   "cell_type": "code",
   "execution_count": 27,
   "id": "aff39ac9",
   "metadata": {},
   "outputs": [
    {
     "name": "stdout",
     "output_type": "stream",
     "text": [
      "7\n",
      "1 2 1 3 1 2 1\n",
      "4\n",
      "1 3\n",
      "1\n",
      "2 5\n",
      "0\n",
      "3 3\n",
      "1\n",
      "5 7\n",
      "1\n"
     ]
    }
   ],
   "source": [
    "def check(arr):\n",
    "    for i in range(len(arr)//2):\n",
    "        if arr[i] != arr[-(i+1)]:\n",
    "            return 0\n",
    "    return 1\n",
    "\n",
    "n = int(input())\n",
    "arr = list(map(int,input().split()))\n",
    "dp = [[0]*n for _ in range(n)]\n",
    "for i in range(n):\n",
    "    for j in range(i,n):\n",
    "        dp[i][j] = check(arr[i:j+1])\n",
    "\n",
    "m = int(input())\n",
    "for _ in range(m):\n",
    "    i, j = map(int,input().split())\n",
    "#     print(check(arr[i-1:j]))\n",
    "    print(dp[i-1][j-1])"
   ]
  },
  {
   "cell_type": "markdown",
   "id": "a3dc5696",
   "metadata": {},
   "source": [
    "- [dp 참고](https://4z7l.github.io/2021/04/07/algorithms-boj-10942.html)"
   ]
  },
  {
   "cell_type": "code",
   "execution_count": null,
   "id": "1d1322a9",
   "metadata": {},
   "outputs": [],
   "source": [
    "import sys\n",
    "\n",
    "n = int(sys.stdin.readline())\n",
    "arr = list(map(int,sys.stdin.readline().split()))\n",
    "dp = [[0]*n for _ in range(n)]\n",
    "\n",
    "for i in range(n): # 문자열 길이 1\n",
    "    dp[i][i] = 1\n",
    "for i in range(n-1): # 문자열 길이 2\n",
    "    if arr[i] == arr[i+1]:\n",
    "        dp[i][i+1] = 1\n",
    "        \n",
    "for i in range(n-3,-1,-1): # 마지막 행부터 거꾸로 올라옴\n",
    "    for j in range(i+2,n):\n",
    "        dp[i][j] = int(dp[i+1][j-1] and arr[i] == arr[j])\n",
    "\n",
    "m = int(sys.stdin.readline())\n",
    "for _ in range(m):\n",
    "    i, j = map(int,sys.stdin.readline().split())\n",
    "    print(dp[i-1][j-1])"
   ]
  },
  {
   "cell_type": "code",
   "execution_count": 43,
   "id": "bae3f6ff",
   "metadata": {},
   "outputs": [
    {
     "name": "stdout",
     "output_type": "stream",
     "text": [
      "7\n",
      "1 2 1 3 1 2 1\n",
      "4\n",
      "1 3\n",
      "1\n",
      "2 5\n",
      "0\n",
      "3 3\n",
      "1\n",
      "5 7\n",
      "1\n"
     ]
    }
   ],
   "source": [
    "n = int(input())\n",
    "arr = list(map(int,input().split()))\n",
    "dp = [[0]*n for _ in range(n)]\n",
    "\n",
    "for i in range(n): # 문자열 길이 1\n",
    "    dp[i][i] = 1\n",
    "for i in range(n-1): # 문자열 길이 2\n",
    "    if arr[i] == arr[i+1]:\n",
    "        dp[i][i+1] = 1\n",
    "        \n",
    "for i in range(n-3,-1,-1): # 마지막 행부터 거꾸로 올라옴\n",
    "    for j in range(i+2,n):\n",
    "        dp[i][j] = int(dp[i+1][j-1] and arr[i] == arr[j])\n",
    "\n",
    "m = int(input())\n",
    "for _ in range(m):\n",
    "    i, j = map(int,input().split())\n",
    "    print(dp[i-1][j-1])"
   ]
  },
  {
   "cell_type": "markdown",
   "id": "48aed9ca",
   "metadata": {},
   "source": [
    "## [[Boj] 1309. 동물원](https://www.acmicpc.net/problem/1309)"
   ]
  },
  {
   "cell_type": "code",
   "execution_count": 9,
   "id": "65d77559",
   "metadata": {},
   "outputs": [
    {
     "name": "stdout",
     "output_type": "stream",
     "text": [
      "4\n",
      "41\n"
     ]
    }
   ],
   "source": [
    "n = int(input())\n",
    "dp = [1,1,1]\n",
    "for i in range(n-1):\n",
    "    dp = [dp[2] + dp[0], dp[2] + dp[1], sum(dp)]\n",
    "print(sum(dp)%9901)"
   ]
  },
  {
   "cell_type": "markdown",
   "id": "6dbeddde",
   "metadata": {},
   "source": [
    "## [[Boj] 7579. 앱](https://www.acmicpc.net/problem/7579)"
   ]
  },
  {
   "cell_type": "code",
   "execution_count": 73,
   "id": "95849d4a",
   "metadata": {
    "scrolled": true
   },
   "outputs": [
    {
     "name": "stdout",
     "output_type": "stream",
     "text": [
      "5 60\n",
      "30 10 20 35 40\n",
      "3 0 3 5 4\n",
      "6\n"
     ]
    }
   ],
   "source": [
    "n, m = map(int,input().split())\n",
    "memory = list(map(int,input().split()))\n",
    "cost = list(map(int,input().split()))\n",
    "\n",
    "cost_max = sum(cost) + 1\n",
    "dp = [[0] * cost_max for _ in range(n+1)]\n",
    "\n",
    "res = cost_max\n",
    "for i in range(1,n+1):\n",
    "    mem, co = memory[i-1], cost[i-1]\n",
    "    for j in range(1,cost_max):\n",
    "        if j >= co:\n",
    "            dp[i][j] = max(dp[i-1][j], mem + dp[i-1][j-co])\n",
    "        else:\n",
    "            dp[i][j] = dp[i-1][j]\n",
    "            \n",
    "        if dp[i][j] >= m:\n",
    "            res = min(res, j)\n",
    "print(res)"
   ]
  },
  {
   "cell_type": "code",
   "execution_count": 72,
   "id": "a627e65b",
   "metadata": {},
   "outputs": [
    {
     "name": "stdout",
     "output_type": "stream",
     "text": [
      "[[0, 0, 0, 0, 0, 0, 0, 0, 0, 0, 0, 0, 0, 0, 0, 0], [0, 0, 0, 30, 30, 30, 30, 30, 30, 30, 30, 30, 30, 30, 30, 30], [0, 10, 10, 40, 40, 40, 40, 40, 40, 40, 40, 40, 40, 40, 40, 40], [0, 10, 10, 40, 40, 40, 60, 60, 60, 60, 60, 60, 60, 60, 60, 60], [0, 10, 10, 40, 40, 40, 60, 60, 75, 75, 75, 95, 95, 95, 95, 95], [0, 10, 10, 40, 40, 50, 60, 80, 80, 80, 100, 100, 115, 115, 115, 135]]\n"
     ]
    }
   ],
   "source": [
    "print(dp)"
   ]
  }
 ],
 "metadata": {
  "kernelspec": {
   "display_name": "Python 3 (ipykernel)",
   "language": "python",
   "name": "python3"
  },
  "language_info": {
   "codemirror_mode": {
    "name": "ipython",
    "version": 3
   },
   "file_extension": ".py",
   "mimetype": "text/x-python",
   "name": "python",
   "nbconvert_exporter": "python",
   "pygments_lexer": "ipython3",
   "version": "3.8.12"
  }
 },
 "nbformat": 4,
 "nbformat_minor": 5
}
