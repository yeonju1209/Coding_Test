{
 "cells": [
  {
   "cell_type": "markdown",
   "id": "41124a33",
   "metadata": {},
   "source": [
    "## 1. [[Boj] 2688. 줄어들지 않아](https://www.acmicpc.net/problem/2688)\n",
    "- 오른쪽 자리 수가 더 크거나 같을 때"
   ]
  },
  {
   "cell_type": "code",
   "execution_count": 8,
   "id": "88373a45",
   "metadata": {},
   "outputs": [
    {
     "name": "stdout",
     "output_type": "stream",
     "text": [
      "3\n",
      "2\n",
      "3\n",
      "4\n",
      "55\n",
      "220\n",
      "715\n"
     ]
    }
   ],
   "source": [
    "n = int(input())\n",
    "arr = [int(input()) for _ in range(n)]\n",
    "\n",
    "dp = [0]*65\n",
    "dp[1] = 10\n",
    "tmp = [1] * 10\n",
    "for k in range(2,1+max(arr)):\n",
    "    for i in range(10):\n",
    "        dp[k] += tmp[i] * (10-i)\n",
    "        if i >= 1:\n",
    "            tmp[i] += tmp[i-1]\n",
    "#     print(dp, tmp)\n",
    "\n",
    "for i in arr:\n",
    "    print(dp[i])"
   ]
  },
  {
   "cell_type": "markdown",
   "id": "a6e82908",
   "metadata": {},
   "source": [
    "## 2. [[Boj] 2096. 내려가기](https://www.acmicpc.net/problem/2096)"
   ]
  },
  {
   "cell_type": "markdown",
   "id": "df1f09fc",
   "metadata": {},
   "source": [
    "- 메모리 초과 -> 한 줄씩 받아야 함"
   ]
  },
  {
   "cell_type": "code",
   "execution_count": 106,
   "id": "e4faa4d7",
   "metadata": {},
   "outputs": [
    {
     "name": "stdout",
     "output_type": "stream",
     "text": [
      "3\n",
      "0 0 0\n",
      "0 0 0\n",
      "0 0 0\n",
      "0 0\n"
     ]
    }
   ],
   "source": [
    "n = int(input())\n",
    "arr = [list(map(int,input().split())) for _ in range(n)]\n",
    "dirs = [-1, 0, 1]\n",
    "\n",
    "def calc_max(arr):\n",
    "    dp = [[0]*n] + [i[:] for i in arr]\n",
    "    for i in range(1,n+1):\n",
    "        for j in range(n):\n",
    "            tmp_max = 0\n",
    "            for dj in dirs:\n",
    "                nj = j + dj\n",
    "                if 0<=nj<n:\n",
    "                    tmp_max = max(tmp_max, dp[i-1][nj])\n",
    "            dp[i][j] += tmp_max\n",
    "#             print(dp)\n",
    "    return max(dp[-1])\n",
    "\n",
    "def calc_min(arr):\n",
    "    dp = [[0]*n] + [i[:] for i in arr]\n",
    "    for i in range(1,n+1):\n",
    "        for j in range(n):\n",
    "            tmp_min = 10\n",
    "            for dj in dirs:\n",
    "                nj = dj + j\n",
    "                if 0<=nj<n:\n",
    "                    tmp_min = min(tmp_min, dp[i-1][nj])\n",
    "            dp[i][j] += tmp_min\n",
    "    return min(dp[-1])\n",
    "\n",
    "print(calc_max(arr), calc_min(arr))"
   ]
  },
  {
   "cell_type": "markdown",
   "id": "72f8e710",
   "metadata": {},
   "source": [
    "- 통과한 코드"
   ]
  },
  {
   "cell_type": "code",
   "execution_count": 170,
   "id": "ec6dfb48",
   "metadata": {},
   "outputs": [
    {
     "name": "stdout",
     "output_type": "stream",
     "text": [
      "3\n",
      "9 9 9\n",
      "9 9 9\n",
      "9 9 9\n",
      "27 27\n"
     ]
    }
   ],
   "source": [
    "n = int(input())\n",
    "dp_max = [0] * 3\n",
    "dp_min = [0] * 3\n",
    "dirs = [-1, 0, 1]\n",
    "\n",
    "for i in range(n):\n",
    "    arr = list(map(int,input().split()))\n",
    "    for j in range(3):\n",
    "        dp_max[j] += arr[j]\n",
    "        dp_min[j] += arr[j]\n",
    "#     print(dp_max, dp_min,arr)\n",
    "    \n",
    "    if i==n-1:\n",
    "        break\n",
    "    tmp1, tmp2 = dp_min[:], dp_max[:]\n",
    "    for j in range(3):\n",
    "        tmp_min, tmp_max = int(1e9), 0\n",
    "        for dj in dirs:\n",
    "            nj = dj + j\n",
    "            if 0<=nj<3:\n",
    "#                 print('nj',nj)\n",
    "                tmp_min = min(tmp_min, dp_min[nj])\n",
    "                tmp_max = max(tmp_max, dp_max[nj])\n",
    "#                 print(dp_min[nj])\n",
    "        tmp1[j] = tmp_min\n",
    "        tmp2[j] = tmp_max\n",
    "    dp_min, dp_max = tmp1, tmp2\n",
    "#     print(dp_max, dp_min)\n",
    "print(max(dp_max), min(dp_min))"
   ]
  },
  {
   "cell_type": "markdown",
   "id": "618fbdf3",
   "metadata": {},
   "source": [
    "## 3. [[Boj] 1516. 게임 깃발](https://www.acmicpc.net/problem/1516)"
   ]
  },
  {
   "cell_type": "code",
   "execution_count": 220,
   "id": "5ad24027",
   "metadata": {},
   "outputs": [
    {
     "name": "stdout",
     "output_type": "stream",
     "text": [
      "4\n",
      "1 4 3 2 -1\n",
      "2 4 -1\n",
      "1 4 -1\n",
      "1 -1\n",
      "4\n",
      "3\n",
      "2\n",
      "1\n"
     ]
    }
   ],
   "source": [
    "from collections import deque\n",
    "\n",
    "n = int(input())\n",
    "res = [0] * (n+1)\n",
    "indgree = [0] * (n+1)\n",
    "graph = {i:[] for i in range(1,n+1)}\n",
    "\n",
    "for i in range(1,1+n):\n",
    "    arr = list(map(int,input().split()))[:-1]\n",
    "    res[i] = arr[0]\n",
    "    for a in arr[1:]:\n",
    "        indgree[i] += 1\n",
    "        graph[a].append(i)\n",
    "\n",
    "q = deque([])\n",
    "for i in range(1, n+1):\n",
    "    if indgree[i] == 0:\n",
    "        q.append(i)\n",
    "        \n",
    "dp = res[:]\n",
    "while q:\n",
    "    idx = q.popleft()\n",
    "    for j in graph[idx]:\n",
    "        dp[j] = max(dp[j], dp[idx] + res[j])\n",
    "        indgree[j] -= 1\n",
    "        \n",
    "        if indgree[j] == 0:\n",
    "            q.append(j)\n",
    "#         print(dp)\n",
    "for i in range(1,n+1):\n",
    "    print(dp[i])"
   ]
  }
 ],
 "metadata": {
  "kernelspec": {
   "display_name": "Python 3 (ipykernel)",
   "language": "python",
   "name": "python3"
  },
  "language_info": {
   "codemirror_mode": {
    "name": "ipython",
    "version": 3
   },
   "file_extension": ".py",
   "mimetype": "text/x-python",
   "name": "python",
   "nbconvert_exporter": "python",
   "pygments_lexer": "ipython3",
   "version": "3.8.12"
  }
 },
 "nbformat": 4,
 "nbformat_minor": 5
}
