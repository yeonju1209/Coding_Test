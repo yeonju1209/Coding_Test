{
 "cells": [
  {
   "cell_type": "markdown",
   "id": "5e7e5378",
   "metadata": {},
   "source": [
    "## [1. 기타레슨](https://www.acmicpc.net/problem/2343)"
   ]
  },
  {
   "cell_type": "code",
   "execution_count": 152,
   "id": "f9bfad9d",
   "metadata": {},
   "outputs": [
    {
     "name": "stdout",
     "output_type": "stream",
     "text": [
      "7 6\n",
      "100 400 300 100 500 101 400\n",
      "0 1901 950 3\n",
      "0 949 474 6\n",
      "500\n"
     ]
    }
   ],
   "source": [
    "def count(arr,mid):\n",
    "    tmp_size = 0\n",
    "    cnt = 1\n",
    "    for i in arr:\n",
    "        tmp_size += i\n",
    "        if tmp_size > mid: # cnt +=1 하고 다시 시작\n",
    "            cnt += 1\n",
    "            tmp_size = i\n",
    "#         print('cnt',cnt,tmp_size)\n",
    "#     print(tmp_size)\n",
    "    return cnt\n",
    "\n",
    "n, k = map(int,input().split())\n",
    "arr = list(map(int,input().split()))\n",
    "l, r = 0, sum(arr)\n",
    "while l<=r:\n",
    "    mid = (l+r)//2\n",
    "    tmp_size = 0\n",
    "    cnt = count(arr,mid)\n",
    "    \n",
    "    print(l,r,mid, cnt)\n",
    "    if cnt == k:\n",
    "        tmp_mid, max_arr = mid, max(arr)\n",
    "        if tmp_mid < max_arr:\n",
    "            print(max_arr)\n",
    "        \n",
    "        else:\n",
    "            while cnt == k:\n",
    "                tmp_mid -= 1\n",
    "                cnt = count(arr,tmp_mid)\n",
    "#                 print(tmp_mid)\n",
    "            print(tmp_mid+1)\n",
    "        break\n",
    "        \n",
    "    elif cnt > k: # mid가 커져야 함\n",
    "        l = mid + 1\n",
    "    elif cnt < k:\n",
    "        r = mid - 1"
   ]
  },
  {
   "cell_type": "markdown",
   "id": "a668605c",
   "metadata": {},
   "source": [
    "---"
   ]
  },
  {
   "cell_type": "markdown",
   "id": "2f4d1793",
   "metadata": {},
   "source": [
    "## [2. 공유기 설치](https://www.acmicpc.net/problem/2110)"
   ]
  },
  {
   "cell_type": "code",
   "execution_count": 15,
   "id": "00a50a3f",
   "metadata": {},
   "outputs": [
    {
     "name": "stdout",
     "output_type": "stream",
     "text": [
      "5 3\n",
      "1\n",
      "2\n",
      "8\n",
      "4\n",
      "9\n",
      "3\n"
     ]
    }
   ],
   "source": [
    "n, c = map(int,input().split())\n",
    "arr = [int(input()) for _ in range(n)]\n",
    "arr.sort()\n",
    "\n",
    "l,r = arr[0], arr[-1]-arr[0]\n",
    "answer = 0\n",
    "\n",
    "while l<=r:\n",
    "    mid = (l+r)//2\n",
    "#     print(l,mid,r)\n",
    "    \n",
    "    cnt = 1 # 첫 번째 자리에 공유기 설치\n",
    "    pre_loc = arr[0]\n",
    "    for next_loc in arr[1:]:\n",
    "        if next_loc - pre_loc >= mid:\n",
    "            cnt += 1\n",
    "            pre_loc = next_loc\n",
    "    \n",
    "    if cnt >= c:\n",
    "        answer = max(answer, mid)\n",
    "        l = mid + 1\n",
    "    else:\n",
    "        r = mid - 1\n",
    "#     print(answer)\n",
    "        \n",
    "print(answer)"
   ]
  },
  {
   "cell_type": "markdown",
   "id": "757f5081",
   "metadata": {},
   "source": [
    "## [3. 부분수열의 합 2](https://www.acmicpc.net/problem/1208)\n",
    "- meet in the middle 알고리즘(투 포인터)\n",
    "- 참고: https://lotuslee.tistory.com/30?category=963570"
   ]
  },
  {
   "cell_type": "code",
   "execution_count": 2,
   "id": "b12e26ad",
   "metadata": {},
   "outputs": [
    {
     "name": "stdout",
     "output_type": "stream",
     "text": [
      "5 0 \n",
      "-7 -3 -2 5 8\n",
      "1\n"
     ]
    }
   ],
   "source": [
    "import sys\n",
    "from itertools import combinations\n",
    "# input = sys.stdin.readline\n",
    "\n",
    "n, s = map(int, input().split())\n",
    "arr = list(map(int, input().split()))\n",
    "\n",
    "# meet in the middle\n",
    "arr_1 = arr[:n//2]\n",
    "arr_2 = arr[n//2:]\n",
    "\n",
    "subsum_arr_1 = []\n",
    "subsum_arr_2 = []\n",
    "\n",
    "for i in range(len(arr_1) + 1):\n",
    "    # arr_1에서 0 ~ len(arr_1) + 1개만큼 뽑아 만들 수 있는 부분집합의 합을 구한다.\n",
    "    comb_1 = combinations(arr_1, i)\n",
    "    for comb in comb_1:\n",
    "        subsum_arr_1.append(sum(comb))\n",
    "\n",
    "for i in range(len(arr_2) + 1):\n",
    "    # arr_2에서 0 ~ len(arr_2) + 1개만큼 뽑아 만들 수 있는 부분집합의 합을 구한다.\n",
    "    comb_2 = combinations(arr_2, i)\n",
    "    for comb in comb_2:\n",
    "        subsum_arr_2.append(sum(comb))\n",
    "\n",
    "subsum_arr_1.sort()\n",
    "subsum_arr_2.sort()\n",
    "\n",
    "left_pointer = 0\n",
    "right_pointer = len(subsum_arr_2) - 1\n",
    "ans = 0\n",
    "\n",
    "while left_pointer < len(subsum_arr_1) and right_pointer >= 0:\n",
    "    tmp = subsum_arr_1[left_pointer] + subsum_arr_2[right_pointer]\n",
    "\n",
    "    # 두 포인터가 가르키는 값의 합이 s와 같다면\n",
    "    if tmp == s:\n",
    "\n",
    "        # 부분집합의 합이 같은 경우를 예외처리\n",
    "        same_count_left = 1\n",
    "        same_count_right = 1\n",
    "\n",
    "        same_left_idx = left_pointer\n",
    "        same_right_idx = right_pointer\n",
    "\n",
    "        left_pointer += 1\n",
    "        right_pointer -= 1\n",
    "\n",
    "        while left_pointer < len(subsum_arr_1) and subsum_arr_1[left_pointer] == subsum_arr_1[same_left_idx]:\n",
    "            same_count_left += 1\n",
    "            left_pointer += 1\n",
    "        \n",
    "        while right_pointer >= 0 and subsum_arr_2[right_pointer] == subsum_arr_2[same_right_idx]:\n",
    "            same_count_right += 1\n",
    "            right_pointer -= 1\n",
    "        \n",
    "        ans += same_count_left * same_count_right\n",
    "    \n",
    "    elif tmp < s:\n",
    "        left_pointer += 1\n",
    "    \n",
    "    else:\n",
    "        right_pointer -= 1\n",
    "\n",
    "# 아무것도 뽑지 않는 경우는 고려하지 않으므로, s가 0이라면 해당 경우의 수 1개를 빼준다\n",
    "if s == 0:\n",
    "    ans -= 1\n",
    "    \n",
    "print(ans)"
   ]
  }
 ],
 "metadata": {
  "kernelspec": {
   "display_name": "Python 3 (ipykernel)",
   "language": "python",
   "name": "python3"
  },
  "language_info": {
   "codemirror_mode": {
    "name": "ipython",
    "version": 3
   },
   "file_extension": ".py",
   "mimetype": "text/x-python",
   "name": "python",
   "nbconvert_exporter": "python",
   "pygments_lexer": "ipython3",
   "version": "3.8.12"
  }
 },
 "nbformat": 4,
 "nbformat_minor": 5
}
