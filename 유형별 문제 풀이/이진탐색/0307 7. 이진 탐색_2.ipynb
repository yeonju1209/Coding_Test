{
 "cells": [
  {
   "cell_type": "markdown",
   "id": "bfdfedb5",
   "metadata": {},
   "source": [
    "## [[Boj] 2512. 예산](https://www.acmicpc.net/problem/2512)"
   ]
  },
  {
   "cell_type": "code",
   "execution_count": 22,
   "id": "7dad60d4",
   "metadata": {},
   "outputs": [
    {
     "name": "stdout",
     "output_type": "stream",
     "text": [
      "4\n",
      "5 10 15 20\n",
      "4\n",
      "0 10 20 바뀌기 전 35\n",
      "0 10 9 바뀐 후\n",
      "0 4 9 바뀌기 전 16\n",
      "0 4 3 바뀐 후\n",
      "0 1 3 바뀌기 전 4\n",
      "2 1 3 바뀐 후\n",
      "2 2 3 바뀌기 전 8\n",
      "2 2 1 바뀐 후\n",
      "1\n"
     ]
    }
   ],
   "source": [
    "n = int(input())\n",
    "arr = list(map(int,input().split()))\n",
    "m = int(input()) # 총 예산\n",
    "\n",
    "def budget():\n",
    "    if sum(arr) <= m:\n",
    "        return max(arr)\n",
    "\n",
    "    left, right = 0, max(arr)\n",
    "    while left <= right:\n",
    "        mid = (left + right) // 2 # 상한액\n",
    "\n",
    "        budget_sum = 0\n",
    "        for i in range(len(arr)):\n",
    "            if arr[i] > mid:\n",
    "                budget_sum += mid\n",
    "            else:\n",
    "                budget_sum += arr[i]\n",
    "#         print(left, mid, right,'바뀌기 전', budget_sum)\n",
    "        if budget_sum > m: # 총 예산보다 크다면, 상한액 줄이기\n",
    "            right = mid - 1\n",
    "                \n",
    "        else:\n",
    "            ans = mid\n",
    "            left = mid + 1\n",
    "#         print(left, mid, right, '바뀐 후')\n",
    "    return ans\n",
    "\n",
    "print(budget())"
   ]
  },
  {
   "cell_type": "markdown",
   "id": "6dbf6432",
   "metadata": {},
   "source": [
    "## [[Boj] 1300. k번째 수](https://www.acmicpc.net/problem/1300)"
   ]
  },
  {
   "cell_type": "code",
   "execution_count": 1,
   "id": "1a51610f",
   "metadata": {},
   "outputs": [
    {
     "name": "stdout",
     "output_type": "stream",
     "text": [
      "3\n",
      "7\n",
      "6\n"
     ]
    }
   ],
   "source": [
    "n = int(input())\n",
    "k = int(input())\n",
    "\n",
    "def binary_search(target, start, end):\n",
    "    while(start <= end):\n",
    "        mid = (start + end) // 2\n",
    "\n",
    "        cnt = 0\n",
    "        for i in range(1, n+1):\n",
    "            cnt += min(mid//i, n)\n",
    "\n",
    "        if cnt >= target:\n",
    "            end = mid-1\n",
    "        else:\n",
    "            start = mid+1\n",
    "    return start\n",
    "\n",
    "\n",
    "print(binary_search(k,1,n*n))"
   ]
  },
  {
   "cell_type": "markdown",
   "id": "0b508df2",
   "metadata": {},
   "source": [
    "## [[Boj] 3079. 입국심사](https://www.acmicpc.net/problem/3079)"
   ]
  },
  {
   "cell_type": "code",
   "execution_count": 7,
   "id": "1a906f74",
   "metadata": {},
   "outputs": [
    {
     "name": "stdout",
     "output_type": "stream",
     "text": [
      "7 10\n",
      "3\n",
      "8\n",
      "3\n",
      "6\n",
      "9\n",
      "2\n",
      "4\n",
      "8\n"
     ]
    }
   ],
   "source": [
    "n, m = map(int,input().split())\n",
    "arr = [int(input()) for _ in range(n)]\n",
    "\n",
    "left, right = 0, max(arr) * m\n",
    "\n",
    "while left <= right:\n",
    "    mid = (left + right) // 2\n",
    "    \n",
    "    cnt = 0\n",
    "    for i in arr:\n",
    "        cnt += mid // i\n",
    "    \n",
    "    if cnt >= m:\n",
    "        ans = mid\n",
    "        right = mid - 1\n",
    "    else:\n",
    "        left = mid + 1\n",
    "print(ans)"
   ]
  }
 ],
 "metadata": {
  "kernelspec": {
   "display_name": "Python 3 (ipykernel)",
   "language": "python",
   "name": "python3"
  },
  "language_info": {
   "codemirror_mode": {
    "name": "ipython",
    "version": 3
   },
   "file_extension": ".py",
   "mimetype": "text/x-python",
   "name": "python",
   "nbconvert_exporter": "python",
   "pygments_lexer": "ipython3",
   "version": "3.8.12"
  }
 },
 "nbformat": 4,
 "nbformat_minor": 5
}
