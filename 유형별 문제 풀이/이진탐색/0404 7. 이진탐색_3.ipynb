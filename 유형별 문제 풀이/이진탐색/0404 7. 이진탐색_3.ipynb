{
 "cells": [
  {
   "cell_type": "markdown",
   "id": "2e219680",
   "metadata": {},
   "source": [
    "## 1. [[Boj] 3020. 개똥벌레](https://www.acmicpc.net/problem/3020)\n",
    "- [참고](https://ddggblog.tistory.com/153)\n",
    "- 누적합 이용"
   ]
  },
  {
   "cell_type": "code",
   "execution_count": 140,
   "id": "c3d581f2",
   "metadata": {},
   "outputs": [
    {
     "name": "stdout",
     "output_type": "stream",
     "text": [
      "6 7\n",
      "1\n",
      "5\n",
      "3\n",
      "3\n",
      "5\n",
      "1\n",
      "[1, 0, 1, 0, 1, 0, 0] [1, 0, 1, 0, 1, 0, 0]\n",
      "[3, 2, 2, 1, 1, 0, 0] [3, 2, 2, 1, 1, 0, 0]\n"
     ]
    }
   ],
   "source": [
    "n,h = map(int,input().split())\n",
    "side_even = [0] * h\n",
    "side_odd = [0] * h\n",
    "for i in range(0,n):\n",
    "    k = int(input())\n",
    "    if i % 2 == 0:\n",
    "        side_even[k-1] += 1\n",
    "    else:\n",
    "        side_odd[k-1] += 1\n",
    "# print(side_even, side_odd) # 석순, 종유석\n",
    "for i in range(h-1,0,-1):\n",
    "    side_odd[i-1] += side_odd[i]\n",
    "    side_even[i-1] += side_even[i]\n",
    "# print(side_even, side_odd) # 석순, 종유석\n",
    "\n",
    "minn = 200001\n",
    "ans = 0\n",
    "\n",
    "for i in range(h):\n",
    "     # odd(종유석)은 거꾸로 올라오므로 반대로 더해주기\n",
    "    t = side_even[i] + side_odd[h - 1 - i]\n",
    "    if t < minn:\n",
    "        minn = t\n",
    "        ans = 0\n",
    "    if t == minn:\n",
    "        ans += 1\n",
    "print(minn, ans)"
   ]
  },
  {
   "cell_type": "markdown",
   "id": "52bbf64c",
   "metadata": {},
   "source": [
    "## 2. [[Boj] 1939. 중량제한](https://www.acmicpc.net/problem/1939)\n",
    "\n",
    "- 다익스트라 -> 최대 힙으로 바꿔서\n",
    "\n",
    "- 다른 풀이: BFS + 이진탐색 ?!"
   ]
  },
  {
   "cell_type": "code",
   "execution_count": 127,
   "id": "6a7532f5",
   "metadata": {},
   "outputs": [
    {
     "name": "stdout",
     "output_type": "stream",
     "text": [
      "3 3\n",
      "1 2 2\n",
      "3 1 3\n",
      "2 3 2\n",
      "1 3\n",
      "3\n"
     ]
    }
   ],
   "source": [
    "import heapq\n",
    "INF = int(1e9)\n",
    "\n",
    "n, m = map(int,input().split())\n",
    "graph = [[] for _ in range(n+1)]\n",
    "for _ in range(m):\n",
    "    a, b, c = map(int,input().split())\n",
    "    graph[a].append([b,c]) # a -> b, 중량제한 c\n",
    "    graph[b].append([a,c]) # b -> a, 중량제한 c\n",
    "start, end = map(int,input().split())\n",
    "\n",
    "def dijkstra():\n",
    "    q = []\n",
    "    heapq.heappush(q, [-INF,start]) # 최대 힙\n",
    "    weight = [0] * (n+1)\n",
    "\n",
    "    while q:\n",
    "        w, node = heapq.heappop(q)\n",
    "        w = -w\n",
    "        if w < weight[node]:\n",
    "            continue\n",
    "        \n",
    "        for next_node, next_w in graph[node]:\n",
    "            w_cost = min(w,next_w)\n",
    "            if weight[next_node] < w_cost:\n",
    "                heapq.heappush(q, [-w_cost, next_node])\n",
    "                weight[next_node] = w_cost\n",
    "        \n",
    "#         print(q, weight)\n",
    "    return weight\n",
    "            \n",
    "print(dijkstra()[end])"
   ]
  },
  {
   "cell_type": "markdown",
   "id": "945b9dab",
   "metadata": {},
   "source": [
    "## 3. [[Boj] 2473. 세 용액](https://www.acmicpc.net/problem/2473)\n",
    "\n",
    "- [참고](https://t-anb.tistory.com/25)\n",
    "\n",
    "- 투포인터"
   ]
  },
  {
   "cell_type": "code",
   "execution_count": 125,
   "id": "278912a9",
   "metadata": {},
   "outputs": [
    {
     "name": "stdout",
     "output_type": "stream",
     "text": [
      "3\n",
      "999999998 999999999 1000000000\n",
      "999999998 999999999 1000000000\n"
     ]
    }
   ],
   "source": [
    "n = int(input())\n",
    "arr = list(map(int,input().split()))\n",
    "arr.sort()\n",
    "\n",
    "min_val = int(3e9+1) # 한 용액의 최대는 int(1e9)이고 세 용액의 합의 최댓값을 min_val로 설정해야 함\n",
    "\n",
    "for idx in range(n-2):\n",
    "    lt, rt = idx+1, n-1 # 양끝에서 시작해서 점점 좁혀온다\n",
    "\n",
    "    while lt < rt:\n",
    "        tmp_sum = arr[lt] + arr[rt]\n",
    "        total = tmp_sum + arr[idx]\n",
    "#         print(arr[idx],arr[lt],arr[rt], total)\n",
    "        \n",
    "        if abs(total) < min_val:\n",
    "            min_val = abs(total)\n",
    "            result = [arr[idx],arr[lt],arr[rt]]\n",
    "        \n",
    "        if total < 0:\n",
    "            lt += 1\n",
    "        else:\n",
    "            rt -= 1\n",
    "        \n",
    "print(*result)"
   ]
  }
 ],
 "metadata": {
  "kernelspec": {
   "display_name": "Python 3 (ipykernel)",
   "language": "python",
   "name": "python3"
  },
  "language_info": {
   "codemirror_mode": {
    "name": "ipython",
    "version": 3
   },
   "file_extension": ".py",
   "mimetype": "text/x-python",
   "name": "python",
   "nbconvert_exporter": "python",
   "pygments_lexer": "ipython3",
   "version": "3.8.12"
  }
 },
 "nbformat": 4,
 "nbformat_minor": 5
}
