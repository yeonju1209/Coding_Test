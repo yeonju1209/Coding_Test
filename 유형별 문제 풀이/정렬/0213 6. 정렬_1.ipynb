{
 "cells": [
  {
   "cell_type": "markdown",
   "id": "f04dce8c",
   "metadata": {},
   "source": [
    "## [1. 수 묶기](https://www.acmicpc.net/problem/1744)"
   ]
  },
  {
   "cell_type": "code",
   "execution_count": null,
   "id": "89537240",
   "metadata": {},
   "outputs": [],
   "source": [
    "import sys\n",
    "input = sys.stdin.readline\n",
    "\n",
    "N = int(input())\n",
    "positive  = [] # 양수를 저장할 리스트\n",
    "negative = [] # 음수를 저장할 리스트\n",
    "max_sum = 0\n",
    "\n",
    "for _ in range(N):\n",
    "    n = int(input())\n",
    "\n",
    "    if n > 1:\n",
    "    positive positive.append(n)\n",
    "    elif n == 1:\n",
    "        max_sum += 1 # 1, 양수의 규칙에 의해 1을 더한다.\n",
    "    else:\n",
    "        negative.append(n)\n",
    "\n",
    "positive.sort(reverse=True) # 양수의 큰 수부터 정렬한다.\n",
    "negative.sort() # 음수의 작은 수부터 정렬한다.\n",
    "\n",
    "# 양수 리스트 더해주기\n",
    "if len(positive) % 2 == 0: # 양수가 짝수개 일경우 두개씩 곱해준다.\n",
    "    for i in range(0, len(positive), 2):\n",
    "        max_sum += positive[i] * positive[i+1]\n",
    "else:\n",
    "    for i in range(0, len(positive)-1, 2): \n",
    "        max_sum += positive[i] * positive[i+1]\n",
    "        max_sum += positive[len(positive)-1] # 마지막 수는 더해준다.\n",
    "\n",
    "# 음수 더해주기\n",
    "if len(negative) % 2 == 0: # 음수가 짝수개 일경우 두개씩 곱해준다.\n",
    "    for i in range(0, len(negative), 2):\n",
    "        max_sum += negative[i] * negative[i+1]\n",
    "else:\n",
    "    for i in range(0, len(negative)-1, 2):\n",
    "        max_sum += negative[i] * negative[i+1]\n",
    "        max_sum += negative[len(negative)-1] # 마지막 수는 더해준다.\n",
    "\n",
    "print(max_sum)"
   ]
  },
  {
   "cell_type": "markdown",
   "id": "c3a8b33a",
   "metadata": {},
   "source": [
    "## [2. 행복 유치원](https://www.acmicpc.net/problem/13164)"
   ]
  },
  {
   "cell_type": "code",
   "execution_count": null,
   "id": "ec0d3c68",
   "metadata": {},
   "outputs": [],
   "source": [
    "import sys\n",
    "\n",
    "read = lambda: sys.stdin.readline().rstrip()\n",
    "N, K = map(int, read().split())\n",
    "kindergartens = list(map(int, read().split()))\n",
    "\n",
    "costs = []\n",
    "for i in range(N-1):\n",
    "    costs.append(kindergartens[i+1] - kindergartens[i])\n",
    "costs.sort()\n",
    "\n",
    "print(sum(costs[:N-K]))"
   ]
  },
  {
   "cell_type": "markdown",
   "id": "0f8a588e",
   "metadata": {},
   "source": [
    "## [3. 신입 사원](https://www.acmicpc.net/problem/1946)"
   ]
  },
  {
   "cell_type": "code",
   "execution_count": 20,
   "id": "64b18128",
   "metadata": {},
   "outputs": [
    {
     "name": "stdout",
     "output_type": "stream",
     "text": [
      "1\n",
      "4\n",
      "1 2\n",
      "2 4\n",
      "3 3\n",
      "4 1\n",
      "2\n"
     ]
    }
   ],
   "source": [
    "t = int(input())\n",
    "for _ in range(t):\n",
    "    n = int(input())\n",
    "    arr = []\n",
    "    for _ in range(n):\n",
    "        a, b = map(int,input().split())\n",
    "        if a == 1:\n",
    "            tmp_b = b\n",
    "        if b == 1:\n",
    "            tmp_a = a\n",
    "        arr.append((a,b))\n",
    "    \n",
    "    if tmp_a >= tmp_b:\n",
    "        sorted_arr = sorted(arr,key=lambda x:x[1])\n",
    "        pre = sorted_arr[0][0]\n",
    "        cnt = 1\n",
    "        for a,b in sorted_arr[1:]:\n",
    "            if pre > a:\n",
    "                cnt += 1\n",
    "                pre = a\n",
    "            if a==1:\n",
    "                break\n",
    "\n",
    "    else:\n",
    "        sorted_arr = sorted(arr)\n",
    "        pre = sorted_arr[0][1]\n",
    "        cnt = 1\n",
    "        for a,b in sorted_arr[1:]:\n",
    "            if pre > b:\n",
    "                cnt += 1\n",
    "                pre = b\n",
    "            if b==1:\n",
    "                break\n",
    "    print(cnt)"
   ]
  }
 ],
 "metadata": {
  "kernelspec": {
   "display_name": "Python 3 (ipykernel)",
   "language": "python",
   "name": "python3"
  },
  "language_info": {
   "codemirror_mode": {
    "name": "ipython",
    "version": 3
   },
   "file_extension": ".py",
   "mimetype": "text/x-python",
   "name": "python",
   "nbconvert_exporter": "python",
   "pygments_lexer": "ipython3",
   "version": "3.8.12"
  }
 },
 "nbformat": 4,
 "nbformat_minor": 5
}
