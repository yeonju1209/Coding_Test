{
 "cells": [
  {
   "cell_type": "markdown",
   "id": "f04dce8c",
   "metadata": {},
   "source": [
    "## [1. 수 묶기](https://www.acmicpc.net/problem/1744)"
   ]
  },
  {
   "cell_type": "code",
   "execution_count": null,
   "id": "89537240",
   "metadata": {},
   "outputs": [],
   "source": [
    "n = int(input())\n",
    "pos = []\n",
    "neg = []\n",
    "ans = 0\n",
    "for _ in range(n):\n",
    "    n = int(input())\n",
    "    if n > 1:\n",
    "        pos.append(n)\n",
    "    elif n == 1:\n",
    "        ans += 1\n",
    "    else:\n",
    "        neg.append(n)\n",
    "\n",
    "pos.sort(reverse=True)\n",
    "neg.sort()\n",
    "\n",
    "for arr in [pos,neg]:\n",
    "    if len(arr) % 2 == 0:\n",
    "        for i in range(0,len(arr),2):\n",
    "            ans += arr[i] * arr[i+1]\n",
    "    else:\n",
    "        for i in range(0,len(arr)-1,2):\n",
    "            ans += arr[i] * arr[i+1]\n",
    "        ans += arr[-1]\n",
    "print(ans)"
   ]
  },
  {
   "cell_type": "markdown",
   "id": "c3a8b33a",
   "metadata": {},
   "source": [
    "## [2. 행복 유치원](https://www.acmicpc.net/problem/13164)"
   ]
  },
  {
   "cell_type": "code",
   "execution_count": null,
   "id": "ec0d3c68",
   "metadata": {},
   "outputs": [],
   "source": [
    "n,k = map(int,input().split())\n",
    "arr = list(map(int,input().split()))\n",
    "\n",
    "diff = []\n",
    "for i in range(n-1):\n",
    "    diff.append(arr[i+1] - arr[i])\n",
    "    \n",
    "# print(sum(sorted(diff)[:-(k-1)])) # k=1인 경우의 결과가 다름\n",
    "print(sum(sorted(diff)[:n-k]))"
   ]
  },
  {
   "cell_type": "markdown",
   "id": "0f8a588e",
   "metadata": {},
   "source": [
    "## [3. 신입 사원](https://www.acmicpc.net/problem/1946)"
   ]
  },
  {
   "cell_type": "code",
   "execution_count": 20,
   "id": "64b18128",
   "metadata": {},
   "outputs": [
    {
     "name": "stdout",
     "output_type": "stream",
     "text": [
      "1\n",
      "4\n",
      "1 2\n",
      "2 4\n",
      "3 3\n",
      "4 1\n",
      "2\n"
     ]
    }
   ],
   "source": [
    "t = int(input())\n",
    "for _ in range(t):\n",
    "    n = int(input())\n",
    "    arr = []\n",
    "    for _ in range(n):\n",
    "        a, b = map(int,input().split())\n",
    "        if a == 1:\n",
    "            tmp_b = b\n",
    "        if b == 1:\n",
    "            tmp_a = a\n",
    "        arr.append((a,b))\n",
    "    \n",
    "    if tmp_a >= tmp_b:\n",
    "        sorted_arr = sorted(arr,key=lambda x:x[1])\n",
    "        pre = sorted_arr[0][0]\n",
    "        cnt = 1\n",
    "        for a,b in sorted_arr[1:]:\n",
    "            if pre > a:\n",
    "                cnt += 1\n",
    "                pre = a\n",
    "            if a==1:\n",
    "                break\n",
    "\n",
    "    else:\n",
    "        sorted_arr = sorted(arr)\n",
    "        pre = sorted_arr[0][1]\n",
    "        cnt = 1\n",
    "        for a,b in sorted_arr[1:]:\n",
    "            if pre > b:\n",
    "                cnt += 1\n",
    "                pre = b\n",
    "            if b==1:\n",
    "                break\n",
    "    print(cnt)"
   ]
  }
 ],
 "metadata": {
  "kernelspec": {
   "display_name": "Python 3 (ipykernel)",
   "language": "python",
   "name": "python3"
  },
  "language_info": {
   "codemirror_mode": {
    "name": "ipython",
    "version": 3
   },
   "file_extension": ".py",
   "mimetype": "text/x-python",
   "name": "python",
   "nbconvert_exporter": "python",
   "pygments_lexer": "ipython3",
   "version": "3.8.12"
  }
 },
 "nbformat": 4,
 "nbformat_minor": 5
}
