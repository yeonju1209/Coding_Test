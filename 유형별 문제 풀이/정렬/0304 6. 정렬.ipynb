{
 "cells": [
  {
   "cell_type": "markdown",
   "id": "c74a66dc",
   "metadata": {},
   "source": [
    "## [[Boj] 11000. 강의실 배정](https://www.acmicpc.net/problem/11000)"
   ]
  },
  {
   "cell_type": "markdown",
   "id": "34111b97",
   "metadata": {},
   "source": [
    "- 시간 초과"
   ]
  },
  {
   "cell_type": "code",
   "execution_count": 120,
   "id": "8492b1c4",
   "metadata": {},
   "outputs": [
    {
     "name": "stdout",
     "output_type": "stream",
     "text": [
      "5\n",
      "2 4\n",
      "1 4\n",
      "1 3\n",
      "4 5\n",
      "3 6\n",
      "3\n"
     ]
    }
   ],
   "source": [
    "import sys\n",
    "\n",
    "n = int(input())\n",
    "arr = [list(map(int,input().split())) for _ in range(n)]\n",
    "# arr = [list(map(int,sys.stdin.readline().split())) for _ in range(n)]\n",
    "\n",
    "sorted_arr = sorted(arr,key=lambda x:(x[0],x[1]))\n",
    "\n",
    "classroom = [sorted_arr[0][1]] # 최초 강의실 배정\n",
    "for add_start, add_end in sorted_arr[1:]:\n",
    "    for i in range(len(classroom)):\n",
    "        if add_start >= classroom[i]:\n",
    "            # 넣기 가능, 강의실 끝나는 시간 업데이트\n",
    "            classroom[i] = add_end \n",
    "            break\n",
    "    else: # 넣을 기존 강의실이 없을 때\n",
    "        classroom.append(add_end)\n",
    "        \n",
    "print(len(classroom))"
   ]
  },
  {
   "cell_type": "markdown",
   "id": "cee2a337",
   "metadata": {},
   "source": [
    "#### 최솟값만 비교해도 되는 이유\n",
    "- 최솟값보다 작을 경우, 기존 강의실에서 할 수 없는 수업이므로 강의실을 새로 추가\n",
    "- 최솟값보다 크거나 같을 경우, 그 강의실에 수업 추가(끝나는 시간 업데이트)\n",
    "\n",
    "=> 최솟값이 새로운 강의실을 추가할 것인지, 기존 강의실에서 수업할 것인지를 결정하는 기준이 됨"
   ]
  },
  {
   "cell_type": "code",
   "execution_count": 130,
   "id": "a93fe9f5",
   "metadata": {},
   "outputs": [
    {
     "name": "stdout",
     "output_type": "stream",
     "text": [
      "5\n",
      "2 4\n",
      "1 4\n",
      "1 3\n",
      "3 6\n",
      "4 5\n",
      "3\n"
     ]
    }
   ],
   "source": [
    "import sys\n",
    "import heapq\n",
    "\n",
    "n = int(input())\n",
    "arr = [list(map(int,input().split())) for _ in range(n)]\n",
    "# arr = [list(map(int,sys.stdin.readline().split())) for _ in range(n)]\n",
    "\n",
    "sorted_arr = sorted(arr,key=lambda x:(x[0],x[1]))\n",
    "\n",
    "classroom = [] \n",
    "heapq.heappush(classroom, sorted_arr[0][1]) # 최초 강의실 배정\n",
    "\n",
    "for add_start, add_end in sorted_arr[1:]:\n",
    "    if classroom[0] <= add_start:\n",
    "        heapq.heappop(classroom) # 최솟값 제거\n",
    "        heapq.heappush(classroom, add_end)\n",
    "    else:\n",
    "        heapq.heappush(classroom, add_end)\n",
    "    \n",
    "print(len(classroom))"
   ]
  },
  {
   "cell_type": "markdown",
   "id": "87446734",
   "metadata": {},
   "source": [
    "## [[Boj] 11497. 통나무 건너뛰기](https://www.acmicpc.net/problem/11000)"
   ]
  },
  {
   "cell_type": "markdown",
   "id": "ded3b16f",
   "metadata": {},
   "source": [
    "- 작은 것부터 양쪽 끝에 배치하기"
   ]
  },
  {
   "cell_type": "code",
   "execution_count": 54,
   "id": "946e742e",
   "metadata": {},
   "outputs": [
    {
     "name": "stdout",
     "output_type": "stream",
     "text": [
      "3\n",
      "7\n",
      "13 10 12 11 10 11 12\n",
      "1\n",
      "5 \n",
      "2 4 5 7 9\n",
      "4\n",
      "8\n",
      "6 6 6 6 6 6 6 6 \n",
      "0\n"
     ]
    }
   ],
   "source": [
    "t = int(input())\n",
    "for _ in range(t):\n",
    "    n = int(input())\n",
    "    arr = list(map(int,input().split()))\n",
    "\n",
    "    arr.sort()\n",
    "    arr1, arr2 = [], []\n",
    "    for idx,i in enumerate(arr):\n",
    "        if idx%2==0:\n",
    "            arr1.append(i)\n",
    "        else:\n",
    "            arr2.append(i)\n",
    "\n",
    "    pre = arr[0]\n",
    "    max_val = 0\n",
    "    for i in arr1 + arr2[::-1]:\n",
    "        max_val = max(max_val, abs(i - pre))\n",
    "        pre = i\n",
    "    print(max_val)"
   ]
  },
  {
   "cell_type": "markdown",
   "id": "b370799a",
   "metadata": {},
   "source": [
    "## [[Boj] 7983. 내일 할거야](https://www.acmicpc.net/problem/7983)"
   ]
  },
  {
   "cell_type": "code",
   "execution_count": 48,
   "id": "f0bbcc41",
   "metadata": {},
   "outputs": [
    {
     "name": "stdout",
     "output_type": "stream",
     "text": [
      "3\n",
      "2 8\n",
      "1 13\n",
      "3 10\n",
      "5\n"
     ]
    }
   ],
   "source": [
    "n = int(input())\n",
    "arr = []\n",
    "assign_length = 0\n",
    "for _ in range(n):\n",
    "    d, t = map(int,input().split())\n",
    "    arr.append([d,t])\n",
    "    assign_length = max(assign_length,t)\n",
    "\n",
    "sorted_arr = sorted(arr, key=lambda x:-x[1])\n",
    "\n",
    "assignment = assign_length\n",
    "for d, t in sorted_arr:\n",
    "    assignment = min(assignment,t)\n",
    "    assignment -= d\n",
    "\n",
    "print(assignment)"
   ]
  }
 ],
 "metadata": {
  "kernelspec": {
   "display_name": "Python 3 (ipykernel)",
   "language": "python",
   "name": "python3"
  },
  "language_info": {
   "codemirror_mode": {
    "name": "ipython",
    "version": 3
   },
   "file_extension": ".py",
   "mimetype": "text/x-python",
   "name": "python",
   "nbconvert_exporter": "python",
   "pygments_lexer": "ipython3",
   "version": "3.8.12"
  }
 },
 "nbformat": 4,
 "nbformat_minor": 5
}
