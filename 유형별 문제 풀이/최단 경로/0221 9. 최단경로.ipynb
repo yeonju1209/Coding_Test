{
 "cells": [
  {
   "cell_type": "markdown",
   "id": "24283ec0",
   "metadata": {},
   "source": [
    "## [Boj 1916. 최소비용 구하기](https://www.acmicpc.net/problem/1916)"
   ]
  },
  {
   "cell_type": "code",
   "execution_count": 109,
   "id": "c5229f39",
   "metadata": {},
   "outputs": [
    {
     "name": "stdout",
     "output_type": "stream",
     "text": [
      "5\n",
      "8\n",
      "1 2 2\n",
      "1 3 3\n",
      "1 4 1\n",
      "1 5 10\n",
      "2 4 2\n",
      "3 4 1\n",
      "3 5 1\n",
      "4 5 3\n",
      "1 5\n",
      "4\n"
     ]
    }
   ],
   "source": [
    "import heapq\n",
    "INF = int(1e9)\n",
    "\n",
    "n = int(input()) # 도시(노드)\n",
    "m = int(input()) # 버스(간선)\n",
    "graph = [[] for i in range(n+1)]\n",
    "for _ in range(m):\n",
    "    a, b, c = map(int,input().split())\n",
    "    graph[a].append((b,c))\n",
    "    \n",
    "start, arrive = map(int,input().split())\n",
    "distance = [INF] * (n+1)\n",
    "\n",
    "def dijkstra(start):\n",
    "    q = []\n",
    "    distance[start] = 0\n",
    "    heapq.heappush(q,(0,start)) # (거리, 노드)로 push\n",
    "    \n",
    "    while q:\n",
    "        # 현재 최소인 노드와 그 거리\n",
    "        dist, now = heapq.heappop(q)\n",
    "        if dist > distance[now]: # 기존 값보다 더 크다면 pass\n",
    "            continue\n",
    "        for n,d in graph[now]:\n",
    "            cost = dist + d\n",
    "            if cost < distance[n]:\n",
    "                distance[n] = cost\n",
    "                heapq.heappush(q,(cost, n))\n",
    "\n",
    "dijkstra(start)\n",
    "print(distance[arrive])"
   ]
  },
  {
   "cell_type": "code",
   "execution_count": 82,
   "id": "93029b17",
   "metadata": {},
   "outputs": [
    {
     "data": {
      "text/plain": [
       "[[],\n",
       " [(2, 2), (3, 3), (4, 1), (5, 10)],\n",
       " [(4, 2)],\n",
       " [(4, 1), (5, 1)],\n",
       " [(5, 3)],\n",
       " []]"
      ]
     },
     "execution_count": 82,
     "metadata": {},
     "output_type": "execute_result"
    }
   ],
   "source": [
    "graph"
   ]
  },
  {
   "cell_type": "markdown",
   "id": "5b092da9",
   "metadata": {},
   "source": [
    "## [Boj 11403. 경로 찾기](https://www.acmicpc.net/problem/11403)"
   ]
  },
  {
   "cell_type": "code",
   "execution_count": 77,
   "id": "308c6fd0",
   "metadata": {
    "scrolled": true
   },
   "outputs": [
    {
     "name": "stdout",
     "output_type": "stream",
     "text": [
      "1 0 1 1 1 1 1 \n",
      "0 0 1 0 0 0 1 \n",
      "0 0 0 0 0 0 0 \n",
      "1 0 1 1 1 1 1 \n",
      "1 0 1 1 1 1 1 \n",
      "0 0 1 0 0 0 1 \n",
      "0 0 1 0 0 0 0 \n"
     ]
    }
   ],
   "source": [
    "from collections import deque\n",
    "\n",
    "n = int(input())\n",
    "ans = [[0]*n for _ in range(n)]\n",
    "graph = {i:[] for i in range(1,1+n)}\n",
    "for i in range(n):\n",
    "    tmp = list(map(int,input().split()))\n",
    "    for j in range(n):\n",
    "        if tmp[j]==1:\n",
    "            graph[i+1] += [j+1]\n",
    "\n",
    "            \n",
    "for i in range(1,n+1): # 1~n\n",
    "    visited = [False] * (n+1)\n",
    "    # 방문 처리\n",
    "    queue = deque([i])\n",
    "    while queue:\n",
    "        p = queue.popleft()\n",
    "        for j in graph.get(p):\n",
    "            if not visited[j]:\n",
    "                ans[i-1][j-1] = 1\n",
    "                visited[j] = True\n",
    "                queue.append(j)\n",
    "                \n",
    "for i in range(n):\n",
    "    for j in range(n):\n",
    "        print(ans[i][j],end=' ')\n",
    "    print()"
   ]
  },
  {
   "cell_type": "markdown",
   "id": "a23329be",
   "metadata": {},
   "source": [
    "## [Boj 1238. 파티](https://www.acmicpc.net/problem/1238)"
   ]
  },
  {
   "cell_type": "code",
   "execution_count": 108,
   "id": "85fbbb7b",
   "metadata": {},
   "outputs": [
    {
     "name": "stdout",
     "output_type": "stream",
     "text": [
      "4 8 2\n",
      "1 2 4\n",
      "1 3 2\n",
      "1 4 7\n",
      "2 1 1\n",
      "2 3 5\n",
      "3 1 2\n",
      "3 4 4\n",
      "4 2 3\n",
      "10\n"
     ]
    }
   ],
   "source": [
    "import heapq\n",
    "INF = int(1e9)\n",
    "\n",
    "# n: 마을(노드), m: 도로(간선), x: 모일 마을\n",
    "n, m, x = map(int,input().split())\n",
    "graph = [[] for _ in range(n+1)]\n",
    "for _ in range(m):\n",
    "    a, b, c = map(int,input().split())\n",
    "    graph[a].append((b,c))\n",
    "\n",
    "def dijkstra(start):\n",
    "    q = []\n",
    "    distance[start] = 0\n",
    "    heapq.heappush(q,(0,start)) # (거리, 노드)\n",
    "    \n",
    "    while q:\n",
    "        dist, now = heapq.heappop(q)\n",
    "        if dist > distance[now]:\n",
    "            continue\n",
    "        for n,d in graph[now]:\n",
    "            cost = dist + d\n",
    "            if cost < distance[n]:\n",
    "                distance[n] = cost\n",
    "                heapq.heappush(q,(cost, n))\n",
    "\n",
    "                \n",
    "max_val = 0\n",
    "for start in range(1,n+1):\n",
    "    tmp = 0\n",
    "    # 집 -> 마을\n",
    "    distance = [INF] * (n+1)\n",
    "    dijkstra(start)\n",
    "    tmp += distance[x]\n",
    "    \n",
    "    # 마을 -> 집\n",
    "    distance = [INF] * (n+1)\n",
    "    dijkstra(x)\n",
    "    tmp += distance[start]\n",
    "    \n",
    "    max_val = max(tmp,max_val)\n",
    "print(max_val)"
   ]
  }
 ],
 "metadata": {
  "kernelspec": {
   "display_name": "Python 3 (ipykernel)",
   "language": "python",
   "name": "python3"
  },
  "language_info": {
   "codemirror_mode": {
    "name": "ipython",
    "version": 3
   },
   "file_extension": ".py",
   "mimetype": "text/x-python",
   "name": "python",
   "nbconvert_exporter": "python",
   "pygments_lexer": "ipython3",
   "version": "3.8.12"
  }
 },
 "nbformat": 4,
 "nbformat_minor": 5
}
