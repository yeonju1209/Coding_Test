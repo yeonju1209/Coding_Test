{
 "cells": [
  {
   "cell_type": "markdown",
   "id": "8c0c6fce",
   "metadata": {},
   "source": [
    "## dijkstra 알고리즘"
   ]
  },
  {
   "cell_type": "code",
   "execution_count": null,
   "id": "58332521",
   "metadata": {},
   "outputs": [],
   "source": [
    "import heapq\n",
    "INF = int(1e9)\n",
    "n = int(input()) # 노드 개수\n",
    "m = int(input()) # 간선 개수\n",
    "graph = [[] for _ in range(n+1)]\n",
    "\n",
    "for _ in range(m): # a -> b\n",
    "    a,b,dist = map(int,input().split())\n",
    "    graph[a].append((b,dist))\n",
    "\n",
    "start, arrive = map(int,input().split())\n",
    "distance = [INF] * (n+1)\n",
    "\n",
    "def dijkstra(start):\n",
    "    q = []\n",
    "    # start 초기화\n",
    "    distance[start] = 0\n",
    "    heapq.heappush(q,(0,graph[start])) # ((현재 최단)거리, 노드) 받기\n",
    "    \n",
    "    while q:\n",
    "        # 현재 받아온 거리, 노드\n",
    "        now_dist, now_node = heapq.heappop(q)\n",
    "        if now_dist > distance[now_node]:\n",
    "            continue\n",
    "        for next_node, next_dist in graph[now_node]:\n",
    "            # 최소라면 업데이트 진행\n",
    "            cost = now_dist + next_dist\n",
    "            if cost < distance[next_node]:\n",
    "                distnace[next_node] = cost\n",
    "                heapq.heappush(q,(cost, next_node))\n",
    "    "
   ]
  },
  {
   "cell_type": "markdown",
   "id": "ac713f45",
   "metadata": {},
   "source": [
    "## 1. [[Boj] 4485. 녹색 옷 입은 애가 젤다지?](https://www.acmicpc.net/problem/4485)"
   ]
  },
  {
   "cell_type": "code",
   "execution_count": 68,
   "id": "fffb43f6",
   "metadata": {},
   "outputs": [
    {
     "name": "stdout",
     "output_type": "stream",
     "text": [
      "3\n",
      "5 5 4\n",
      "3 9 1\n",
      "3 2 7\n",
      "Problem 1: 20\n",
      "5\n",
      "3 7 2 0 1\n",
      "2 8 0 9 1\n",
      "1 2 1 8 1\n",
      "9 8 9 2 0\n",
      "3 6 5 1 5\n",
      "Problem 2: 19\n",
      "7\n",
      "9 0 5 1 1 5 3\n",
      "4 1 2 1 6 5 3\n",
      "0 7 6 1 6 8 5\n",
      "1 1 7 8 3 2 3\n",
      "9 4 0 7 6 4 1\n",
      "5 8 3 2 4 8 3\n",
      "7 4 8 4 8 3 4\n",
      "Problem 3: 36\n",
      "0\n"
     ]
    }
   ],
   "source": [
    "import heapq\n",
    "\n",
    "def dijkstra():\n",
    "    q = []\n",
    "    distance[0][0] = graph[0][0]\n",
    "    heapq.heappush(q,(graph[0][0], (0,0))) # dist, start point\n",
    "    \n",
    "    while q:\n",
    "        now_dist, now_point = heapq.heappop(q)\n",
    "        x, y = now_point\n",
    "        if now_dist > distance[x][y]:\n",
    "            continue\n",
    "        for i in range(4):\n",
    "            nx, ny = x + dx[i], y + dy[i]\n",
    "            if 0<=nx<n and 0<=ny<n:\n",
    "                cost = now_dist + graph[nx][ny]\n",
    "                if cost < distance[nx][ny]:\n",
    "                    distance[nx][ny] = cost\n",
    "                    heapq.heappush(q, (cost, (nx,ny)))\n",
    "\n",
    "INF = int(1e9)\n",
    "dx = [0,0,+1,-1]\n",
    "dy = [-1,+1,0,0]\n",
    "\n",
    "i = 1\n",
    "while True:\n",
    "    n = int(input()) # 동굴의 크기\n",
    "    if n == 0:\n",
    "        break\n",
    "    \n",
    "    graph = [list(map(int,input().split())) for _ in range(n)]\n",
    "    distance = [[INF] * n for _ in range(n)]\n",
    "    dijkstra()\n",
    "    print('Problem {}:'.format(i),distance[-1][-1])\n",
    "    i += 1"
   ]
  },
  {
   "cell_type": "code",
   "execution_count": 61,
   "id": "9fbbb8a4",
   "metadata": {},
   "outputs": [
    {
     "data": {
      "text/plain": [
       "[[5, 10, 14], [8, 17, 15], [11, 13, 20]]"
      ]
     },
     "execution_count": 61,
     "metadata": {},
     "output_type": "execute_result"
    }
   ],
   "source": [
    "distance # problem 1"
   ]
  },
  {
   "cell_type": "markdown",
   "id": "8c856e07",
   "metadata": {},
   "source": [
    "## [[Boj] 10282. 해킹](https://www.acmicpc.net/problem/10282)"
   ]
  },
  {
   "cell_type": "code",
   "execution_count": 30,
   "id": "199c4ad4",
   "metadata": {},
   "outputs": [
    {
     "name": "stdout",
     "output_type": "stream",
     "text": [
      "2\n",
      "3 2 2 \n",
      "2 1 5\n",
      "3 2 5\n",
      "2 5\n",
      "3 3 1\n",
      "2 1 2\n",
      "3 1 8\n",
      "3 2 4\n",
      "3 6\n"
     ]
    }
   ],
   "source": [
    "import heapq\n",
    "\n",
    "def dijkstra(start):\n",
    "    q = []\n",
    "    distance[start] = 0\n",
    "    heapq.heappush(q, (0,start)) # 거리, 노드\n",
    "\n",
    "    while q:\n",
    "        now_dist, now_node = heapq.heappop(q)\n",
    "        if now_dist > distance[now_node]:\n",
    "            continue\n",
    "        for next_node, next_dist in graph[now_node]:\n",
    "            cost = now_dist + next_dist\n",
    "            if cost < distance[next_node]:\n",
    "                distance[next_node] = cost\n",
    "                heapq.heappush(q, (cost, next_node))\n",
    "\n",
    "# 테스트 케이스 개수\n",
    "m = int(input())\n",
    "for _ in range(m):\n",
    "    INF = int(1e9)\n",
    "    n, d, start = map(int,input().split()) # 컴퓨터 개수, 의존성 개수, 컴퓨터 번호\n",
    "    graph = [[] for _ in range(n+1)]\n",
    "    for _ in range(d):\n",
    "        a, b, s = map(int,input().split()) # b -> a 감염 :s초\n",
    "        graph[b].append((a,s))\n",
    "        \n",
    "    distance = [INF] * (n+1)\n",
    "    dijkstra(start)\n",
    "    cnt, max_val = 0, 0\n",
    "    for dist in distance:\n",
    "        if dist < INF:\n",
    "            cnt += 1\n",
    "            max_val = max(max_val, dist)\n",
    "    print(cnt, max_val)"
   ]
  },
  {
   "cell_type": "markdown",
   "id": "fd3c4376",
   "metadata": {},
   "source": [
    "## [[Boj] 14938. 서강그라운드](https://www.acmicpc.net/problem/14938)"
   ]
  },
  {
   "cell_type": "code",
   "execution_count": 48,
   "id": "3b071f78",
   "metadata": {},
   "outputs": [
    {
     "name": "stdout",
     "output_type": "stream",
     "text": [
      "5 5 4\n",
      "5 7 8 2 3\n",
      "1 4 5\n",
      "5 2 4\n",
      "3 2 3\n",
      "1 2 3\n",
      "23\n"
     ]
    }
   ],
   "source": [
    "import heapq\n",
    "\n",
    "def dijkstra(start):\n",
    "    q = []\n",
    "    distance[start] = 0\n",
    "    heapq.heappush(q, (0, start))\n",
    "    \n",
    "    while q:\n",
    "        now_dist, now_node = heapq.heappop(q)\n",
    "        if now_dist > distance[now_node]:\n",
    "            continue\n",
    "        for next_node, next_dist in graph[now_node]:\n",
    "            cost = now_dist + next_dist\n",
    "            if cost < distance[next_node] and cost <= m:\n",
    "                distance[next_node] = cost\n",
    "                heapq.heappush(q, (cost, next_node))\n",
    "\n",
    "\n",
    "\n",
    "# 지역(노드) 개수, 수색 범위, 길(간선)의 개수\n",
    "n, m, r = map(int,input().split())\n",
    "item = [0] + list(map(int,input().split()))\n",
    "\n",
    "INF = int(1e9)\n",
    "graph = [[] for _ in range(n+1)]\n",
    "for _ in range(r): \n",
    "    a, b, dist = map(int,input().split())\n",
    "    graph[a].append((b,dist)) # 양방향 그래프\n",
    "    graph[b].append((a,dist))\n",
    "    \n",
    "\n",
    "ans = 0\n",
    "for i in range(1, 1+n):\n",
    "    distance = [INF] * (n+1)\n",
    "    dijkstra(i)\n",
    "    \n",
    "    tmp_cnt = 0\n",
    "    for j in range(1, 1+n):\n",
    "        if distance[j] < INF:\n",
    "            tmp_cnt += item[j]\n",
    "    ans = max(tmp_cnt, ans)\n",
    "    \n",
    "print(ans)"
   ]
  },
  {
   "cell_type": "code",
   "execution_count": 43,
   "id": "e58a1b33",
   "metadata": {
    "scrolled": true
   },
   "outputs": [
    {
     "name": "stdout",
     "output_type": "stream",
     "text": [
      "[1000000000, 0, 3, 6, 5, 7]\n",
      "[1000000000, 3, 0, 3, 8, 4]\n",
      "[1000000000, 6, 3, 0, 11, 7]\n",
      "[1000000000, 5, 8, 11, 0, 12]\n",
      "[1000000000, 7, 4, 7, 12, 0]\n"
     ]
    }
   ],
   "source": [
    "# 수색 범위 제한 조건 없을 때\n",
    "\n",
    "for i in range(1, 1+n):\n",
    "    distance = [INF] * (n+1)\n",
    "    dijkstra(i)\n",
    "    print(distance)"
   ]
  },
  {
   "cell_type": "code",
   "execution_count": 45,
   "id": "278eb1ba",
   "metadata": {},
   "outputs": [
    {
     "name": "stdout",
     "output_type": "stream",
     "text": [
      "[1000000000, 0, 3, 1000000000, 5, 1000000000]\n",
      "[1000000000, 3, 0, 3, 1000000000, 4]\n",
      "[1000000000, 1000000000, 3, 0, 1000000000, 1000000000]\n",
      "[1000000000, 5, 1000000000, 1000000000, 0, 1000000000]\n",
      "[1000000000, 1000000000, 4, 1000000000, 1000000000, 0]\n"
     ]
    }
   ],
   "source": [
    "# 수색 범위 m 이내에서 확인\n",
    "ans = 0\n",
    "for i in range(1, 1+n):\n",
    "    distance = [INF] * (n+1)\n",
    "    dijkstra(i)\n",
    "    print(distance)\n",
    "    tmp_cnt = 0\n",
    "    for j in range(1, 1+n):\n",
    "        if distance[j] < INF:\n",
    "            tmp_cnt += item[j]\n",
    "            \n",
    "    ans = max(tmp_cnt, ans)\n",
    "print(ans)"
   ]
  }
 ],
 "metadata": {
  "kernelspec": {
   "display_name": "Python 3 (ipykernel)",
   "language": "python",
   "name": "python3"
  },
  "language_info": {
   "codemirror_mode": {
    "name": "ipython",
    "version": 3
   },
   "file_extension": ".py",
   "mimetype": "text/x-python",
   "name": "python",
   "nbconvert_exporter": "python",
   "pygments_lexer": "ipython3",
   "version": "3.8.12"
  }
 },
 "nbformat": 4,
 "nbformat_minor": 5
}
