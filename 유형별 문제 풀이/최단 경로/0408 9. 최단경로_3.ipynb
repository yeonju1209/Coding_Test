{
 "cells": [
  {
   "cell_type": "markdown",
   "id": "66d17872",
   "metadata": {},
   "source": [
    "## 1. [[Boj] 13549. 숨바꼭질 3](https://www.acmicpc.net/problem/13549)"
   ]
  },
  {
   "cell_type": "code",
   "execution_count": 21,
   "id": "50181746",
   "metadata": {},
   "outputs": [
    {
     "name": "stdout",
     "output_type": "stream",
     "text": [
      "5 17\n",
      "2\n"
     ]
    }
   ],
   "source": [
    "import heapq\n",
    "\n",
    "INF = int(1e9)\n",
    "n, k = map(int,input().split())\n",
    "\n",
    "q = []\n",
    "heapq.heappush(q, (0, n))\n",
    "total_sec = [INF] * 100001\n",
    "\n",
    "while q:\n",
    "    sec, x = heapq.heappop(q)\n",
    "    if x == k:\n",
    "        print(sec)\n",
    "        break\n",
    "        \n",
    "    if total_sec[x] < sec:\n",
    "        continue\n",
    "    \n",
    "    for nx, nsec in [(x-1, sec+1), (x+1, sec+1), (2*x,sec)]:\n",
    "        if 0<=nx<=100000: # 범위 안에 있을 때\n",
    "            if total_sec[nx] > nsec: # 더 작은 값으로 갱신할 수 있으면\n",
    "                tmp = (nsec, nx)\n",
    "                heapq.heappush(q, tmp)\n",
    "                total_sec[nx] = nsec"
   ]
  },
  {
   "cell_type": "markdown",
   "id": "81f21a67",
   "metadata": {},
   "source": [
    "- 아래는 틀린 풀이"
   ]
  },
  {
   "cell_type": "code",
   "execution_count": 22,
   "id": "8b5812f3",
   "metadata": {},
   "outputs": [
    {
     "name": "stdout",
     "output_type": "stream",
     "text": [
      "5 17\n",
      "2\n"
     ]
    }
   ],
   "source": [
    "import heapq\n",
    "\n",
    "n, k = map(int,input().split())\n",
    "INF = int(1e9)\n",
    "total_sec = [INF] * 100001\n",
    "\n",
    "q = []\n",
    "heapq.heappush(q, (0, n))\n",
    "\n",
    "def dijkstra():\n",
    "    while q:\n",
    "        sec, x = heapq.heappop(q)\n",
    "\n",
    "        if total_sec[x] < sec:\n",
    "            continue\n",
    "\n",
    "        for nx, nsec in [(x-1, sec+1), (x+1, sec+1), (2*x,sec)]:\n",
    "            if 0<=nx<=100000: # 범위 안에 있을 때\n",
    "                if total_sec[nx] > nsec: # 더 작은 값으로 갱신할 수 있으면\n",
    "                    tmp = (nsec, nx)\n",
    "                    heapq.heappush(q, tmp)\n",
    "                    total_sec[nx] = nsec\n",
    "\n",
    "                    if nx == k:\n",
    "                        return nsec\n",
    "                    # 여기서 꺼내면 nsec이 최솟값인지 몰라서 틀림\n",
    "\n",
    "print(dijkstra())"
   ]
  },
  {
   "cell_type": "markdown",
   "id": "0f2f3a4a",
   "metadata": {},
   "source": [
    "## 2. [[Boj] 1719. 택배](https://www.acmicpc.net/problem/1719)"
   ]
  },
  {
   "cell_type": "code",
   "execution_count": 25,
   "id": "380d212f",
   "metadata": {},
   "outputs": [
    {
     "name": "stdout",
     "output_type": "stream",
     "text": [
      "6 10\n",
      "1 2 2\n",
      "1 3 1\n",
      "2 4 5\n",
      "2 5 3\n",
      "2 6 7\n",
      "3 4 4 \n",
      "3 5 6\n",
      "3 6 7\n",
      "4 6 4\n",
      "5 6 2\n"
     ]
    }
   ],
   "source": [
    "n, m = map(int,input().split())\n",
    "\n",
    "graph = {i:[] for i in range(n+1)}\n",
    "for _ in range(m):\n",
    "    a, b, dist = map(int,input().split())\n",
    "    graph[a].append([b,dist])\n",
    "    graph[b].append([a,dist])"
   ]
  },
  {
   "cell_type": "code",
   "execution_count": 71,
   "id": "79fe69db",
   "metadata": {},
   "outputs": [],
   "source": [
    "graph = {0: [],\n",
    " 1: [[2, 2], [3, 1]],\n",
    " 2: [[1, 2], [4, 5], [5, 3], [6, 7]],\n",
    " 3: [[1, 1], [4, 4], [5, 6], [6, 7]],\n",
    " 4: [[2, 5], [3, 4], [6, 4]],\n",
    " 5: [[2, 3], [3, 6], [6, 2]],\n",
    " 6: [[2, 7], [3, 7], [4, 4], [5, 2]]}\n",
    "n,m = 6,10"
   ]
  },
  {
   "cell_type": "code",
   "execution_count": 72,
   "id": "10c14ef8",
   "metadata": {
    "scrolled": true
   },
   "outputs": [
    {
     "name": "stdout",
     "output_type": "stream",
     "text": [
      "- 2 3 3 2 2 \n",
      "1 - 1 4 5 5 \n",
      "1 1 - 4 5 6 \n",
      "3 2 3 - 6 6 \n",
      "2 2 3 6 - 6 \n",
      "5 5 3 4 5 - \n"
     ]
    }
   ],
   "source": [
    "import heapq\n",
    "INF = int(1e9)\n",
    "\n",
    "n, m = map(int,input().split())\n",
    "graph = {i:[] for i in range(n+1)}\n",
    "for _ in range(m):\n",
    "    a, b, dist = map(int,input().split())\n",
    "    graph[a].append([b,dist])\n",
    "    graph[b].append([a,dist])\n",
    "    \n",
    "d = [[0] * n for i in range(n)]\n",
    "for start in range(1,n+1):\n",
    "#     result = ['-']*(n+1)\n",
    "    q = [[0, start]]\n",
    "    dist = [INF] * (n+1)\n",
    "    dist[start] = 0\n",
    "\n",
    "    while q:\n",
    "        now_dist, now_node = heapq.heappop(q)\n",
    "        if now_dist > dist[now_node]:\n",
    "            continue\n",
    "\n",
    "        for next_node, next_dist in graph[now_node]:\n",
    "            cost = now_dist + next_dist\n",
    "            if cost < dist[next_node]: # 더 작아야 업데이트함\n",
    "                dist[next_node] = cost\n",
    "                heapq.heappush(q, (cost, next_node))\n",
    "#                 result[next_node] = now_node\n",
    "                d[next_node-1][start-1] = now_node\n",
    "#     print(result)\n",
    "#     answer.append(path_table(start)[1:])\n",
    "for i in range(n):\n",
    "    for j in range(n):\n",
    "        if i == j:\n",
    "            print(\"-\", end=\" \")\n",
    "        else:\n",
    "            print(d[i][j], end=\" \")\n",
    "    print()"
   ]
  },
  {
   "cell_type": "markdown",
   "id": "18fdf370",
   "metadata": {},
   "source": [
    "## [[Boj] 1854. K번째 최단경로 찾기](https://www.acmicpc.net/problem/1854)\n",
    "\n",
    "- [참고](https://jungahshin.tistory.com/57)"
   ]
  },
  {
   "cell_type": "code",
   "execution_count": 68,
   "id": "0bf77db8",
   "metadata": {},
   "outputs": [
    {
     "name": "stdout",
     "output_type": "stream",
     "text": [
      "5 10 2\n",
      "1 2 2\n",
      "1 3 7\n",
      "1 4 5\n",
      "1 5 6\n",
      "2 4 2\n",
      "2 3 4\n",
      "3 4 6\n",
      "3 5 8\n",
      "5 2 4\n",
      "5 4 1\n",
      "-1\n",
      "10\n",
      "7\n",
      "5\n",
      "14\n"
     ]
    }
   ],
   "source": [
    "import heapq\n",
    "\n",
    "n, m, k = map(int,input().split()) #도시 개수, 간선 개수, k번째\n",
    "graph = {i:[] for i in range(1,n+1)}\n",
    "for _ in range(m):\n",
    "    a, b, c = map(int,input().split())\n",
    "    graph[a].append([b,c])\n",
    "    \n",
    "INF = int(1e9)\n",
    "\n",
    "# 최대 힙/ 크기는 k, 값은 모두 -INF로 설정\n",
    "# -dist[node][0]보다 cost가 더 작다면, heappop한 후, cost값을 큐에 넣어준다\n",
    "# 계산이 모두 끝난 후에, dist[node][0]는 k번째 최소 경로가 된다\n",
    "dist = []\n",
    "for _ in range(n+1):\n",
    "    tmp = [-INF] * k\n",
    "    heapq.heapify(tmp) \n",
    "    dist.append(tmp)\n",
    "# dist = [[INF]*k for _ in range(n+1)]\n",
    "\n",
    "q = []\n",
    "heapq.heappush(q,[0,1])\n",
    "dist[1][-1] = 0 # 노드 1의 최소 거리는 0\n",
    "\n",
    "while q:\n",
    "    now_dist, node = heapq.heappop(q)\n",
    "    for next_node,next_dist in graph[node]:\n",
    "        cost = now_dist + next_dist\n",
    "        if cost < -dist[next_node][0]: #최댓값보다 작다면\n",
    "            heapq.heappush(q, [cost, next_node])\n",
    "            \n",
    "            heapq.heappop(dist[next_node]) # 하나 삭제하고\n",
    "            heapq.heappush(dist[next_node], -cost) #최대 힙/ 새로 집어넣음\n",
    "            \n",
    "for i in range(1,n+1):\n",
    "    if dist[i][0] == -INF:\n",
    "        print(-1)\n",
    "    else:\n",
    "        print(-dist[i][0])"
   ]
  },
  {
   "cell_type": "markdown",
   "id": "63e61d7a",
   "metadata": {},
   "source": [
    "- 우선순위 큐 \n",
    "\n",
    "XXXXXXXXXXXXX"
   ]
  },
  {
   "cell_type": "code",
   "execution_count": 61,
   "id": "85b69f8b",
   "metadata": {},
   "outputs": [
    {
     "name": "stdout",
     "output_type": "stream",
     "text": [
      "-1\n",
      "10\n",
      "7\n",
      "5\n",
      "14\n"
     ]
    }
   ],
   "source": [
    "from collections import deque\n",
    "import heapq\n",
    "\n",
    "n, m, k = map(int,input().split()) #도시 개수, 간선 개수, k번째\n",
    "graph = {i:[] for i in range(1,n+1)}\n",
    "for _ in range(m):\n",
    "    a, b, c = map(int,input().split())\n",
    "    graph[a].append([b,c])\n",
    "    \n",
    "INF = int(1e9)\n",
    "start = 1\n",
    "\n",
    "dist = [[] for _ in range(n+1)] #[[], [], [], [], [], []]\n",
    "# q = deque([[0,1]])\n",
    "q = []\n",
    "heapq.heappush(q,[0,1])\n",
    "heapq.heappush(dist[1], (0,1)) # 노드 1: [거리(0), from(1)]\n",
    "\n",
    "while q:\n",
    "    now_dist, node = heapq.heappop(q) #q.popleft()\n",
    "#     print(node, now_dist)\n",
    "#     if now_dist not in dist[node] and len(dist[node])<=100:\n",
    "#         heapq.heappush(dist[node], now_dist)\n",
    "#     if now_dist < dist[node]:\n",
    "        \n",
    "    for next_node,next_dist in graph[node]:\n",
    "        cost = now_dist + next_dist\n",
    "        \n",
    "        if (cost,node) not in dist[next_node] and len(dist[next_node])<=100:\n",
    "            heapq.heappush(dist[next_node], (cost,node))\n",
    "#             q.append([cost, next_node])\n",
    "            heapq.heappush(q, [cost, next_node])\n",
    "\n",
    "for i in range(1,n+1):\n",
    "    if len(dist[i]) < k:\n",
    "        print(-1)\n",
    "    else:\n",
    "        print(sorted(dist[i])[k-1][0])"
   ]
  }
 ],
 "metadata": {
  "kernelspec": {
   "display_name": "Python 3 (ipykernel)",
   "language": "python",
   "name": "python3"
  },
  "language_info": {
   "codemirror_mode": {
    "name": "ipython",
    "version": 3
   },
   "file_extension": ".py",
   "mimetype": "text/x-python",
   "name": "python",
   "nbconvert_exporter": "python",
   "pygments_lexer": "ipython3",
   "version": "3.8.12"
  }
 },
 "nbformat": 4,
 "nbformat_minor": 5
}
